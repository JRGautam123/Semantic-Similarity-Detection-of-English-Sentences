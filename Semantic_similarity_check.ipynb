{
  "nbformat": 4,
  "nbformat_minor": 0,
  "metadata": {
    "colab": {
      "provenance": [],
      "gpuType": "T4"
    },
    "kernelspec": {
      "name": "python3",
      "display_name": "Python 3"
    },
    "language_info": {
      "name": "python"
    },
    "accelerator": "GPU"
  },
  "cells": [
    {
      "cell_type": "code",
      "execution_count": null,
      "metadata": {
        "id": "57qKxNqcTecu",
        "colab": {
          "base_uri": "https://localhost:8080/"
        },
        "outputId": "eb61aa3f-a883-473b-9b77-30bcf374f729"
      },
      "outputs": [
        {
          "output_type": "stream",
          "name": "stderr",
          "text": [
            "/usr/local/lib/python3.10/dist-packages/sentence_transformers/cross_encoder/CrossEncoder.py:11: TqdmExperimentalWarning: Using `tqdm.autonotebook.tqdm` in notebook mode. Use `tqdm.tqdm` instead to force console mode (e.g. in jupyter console)\n",
            "  from tqdm.autonotebook import tqdm, trange\n",
            "/usr/local/lib/python3.10/dist-packages/fuzzywuzzy/fuzz.py:11: UserWarning: Using slow pure-python SequenceMatcher. Install python-Levenshtein to remove this warning\n",
            "  warnings.warn('Using slow pure-python SequenceMatcher. Install python-Levenshtein to remove this warning')\n"
          ]
        }
      ],
      "source": [
        "import numpy as np\n",
        "import pandas as pd\n",
        "import matplotlib.pyplot as plt\n",
        "import seaborn as sns\n",
        "import re\n",
        "import nltk\n",
        "from nltk.corpus import stopwords\n",
        "from nltk.stem import WordNetLemmatizer\n",
        "import string\n",
        "from sentence_transformers import SentenceTransformer,util, SimilarityFunction\n",
        "from fuzzywuzzy import fuzz"
      ]
    },
    {
      "cell_type": "code",
      "source": [
        "!pip install -U sentence-transformers\n",
        "!pip install fuzzywuzzy"
      ],
      "metadata": {
        "id": "hPamGXZCT0a6"
      },
      "execution_count": null,
      "outputs": []
    },
    {
      "cell_type": "code",
      "source": [
        "nltk.download('stopwords')\n",
        "nltk.download('wordnet')"
      ],
      "metadata": {
        "id": "WH6QXI6xYpsJ",
        "colab": {
          "base_uri": "https://localhost:8080/"
        },
        "outputId": "982594d9-e4b7-43b7-f24f-2505530c76cd"
      },
      "execution_count": null,
      "outputs": [
        {
          "output_type": "stream",
          "name": "stderr",
          "text": [
            "[nltk_data] Downloading package stopwords to /root/nltk_data...\n",
            "[nltk_data]   Unzipping corpora/stopwords.zip.\n",
            "[nltk_data] Downloading package wordnet to /root/nltk_data...\n"
          ]
        },
        {
          "output_type": "execute_result",
          "data": {
            "text/plain": [
              "True"
            ]
          },
          "metadata": {},
          "execution_count": 3
        }
      ]
    },
    {
      "cell_type": "code",
      "source": [
        "pd.set_option('display.max_colwidth',200)"
      ],
      "metadata": {
        "id": "85RbLIaKZNKu"
      },
      "execution_count": null,
      "outputs": []
    },
    {
      "cell_type": "code",
      "source": [],
      "metadata": {
        "id": "LAxTPATr_pdP"
      },
      "execution_count": null,
      "outputs": []
    },
    {
      "cell_type": "code",
      "source": [
        "final_df=pd.read_csv('/content/final_semantic_dataset.csv')\n"
      ],
      "metadata": {
        "id": "ohFNypMcTmbk"
      },
      "execution_count": null,
      "outputs": []
    },
    {
      "cell_type": "code",
      "source": [],
      "metadata": {
        "id": "Nm6b8FUL9Ibj"
      },
      "execution_count": null,
      "outputs": []
    },
    {
      "cell_type": "code",
      "source": [],
      "metadata": {
        "id": "UnPXZ99s9IQ7"
      },
      "execution_count": null,
      "outputs": []
    },
    {
      "cell_type": "code",
      "source": [
        "final_df=pd.read_csv('/content/merged_df.csv')"
      ],
      "metadata": {
        "id": "rez6GVAZ_sGj"
      },
      "execution_count": null,
      "outputs": []
    },
    {
      "cell_type": "markdown",
      "source": [
        "## Data Preprocessing"
      ],
      "metadata": {
        "id": "xvro986DWg51"
      }
    },
    {
      "cell_type": "code",
      "source": [],
      "metadata": {
        "id": "xQOspFDOWqYC"
      },
      "execution_count": null,
      "outputs": []
    },
    {
      "cell_type": "code",
      "source": [
        "def preprocessing(text):\n",
        "  text = str(text).lower().strip()\n",
        "\n",
        "  # Replace certain special characters with their string equivalents\n",
        "  text = text.replace('%', ' percent')\n",
        "  text = text.replace('$', ' dollar ')\n",
        "  text = text.replace('₹', ' rupee ')\n",
        "  text = text.replace('€', ' euro ')\n",
        "  text = text.replace('@', ' at ')\n",
        "\n",
        "  contractions = {\n",
        "    \"ain't\": \"am not\",\n",
        "    \"aren't\": \"are not\",\n",
        "    \"can't\": \"can not\",\n",
        "    \"can't've\": \"can not have\",\n",
        "    \"'cause\": \"because\",\n",
        "    \"could've\": \"could have\",\n",
        "    \"couldn't\": \"could not\",\n",
        "    \"couldn't've\": \"could not have\",\n",
        "    \"didn't\": \"did not\",\n",
        "    \"doesn't\": \"does not\",\n",
        "    \"don't\": \"do not\",\n",
        "    \"hadn't\": \"had not\",\n",
        "    \"hadn't've\": \"had not have\",\n",
        "    \"hasn't\": \"has not\",\n",
        "    \"haven't\": \"have not\",\n",
        "    \"he'd\": \"he would\",\n",
        "    \"he'd've\": \"he would have\",\n",
        "    \"he'll\": \"he will\",\n",
        "    \"he'll've\": \"he will have\",\n",
        "    \"he's\": \"he is\",\n",
        "    \"how'd\": \"how did\",\n",
        "    \"how'd'y\": \"how do you\",\n",
        "    \"how'll\": \"how will\",\n",
        "    \"how's\": \"how is\",\n",
        "    \"i'd\": \"i would\",\n",
        "    \"i'd've\": \"i would have\",\n",
        "    \"i'll\": \"i will\",\n",
        "    \"i'll've\": \"i will have\",\n",
        "    \"i'm\": \"i am\",\n",
        "    \"i've\": \"i have\",\n",
        "    \"isn't\": \"is not\",\n",
        "    \"it'd\": \"it would\",\n",
        "    \"it'd've\": \"it would have\",\n",
        "    \"it'll\": \"it will\",\n",
        "    \"it'll've\": \"it will have\",\n",
        "    \"it's\": \"it is\",\n",
        "    \"let's\": \"let us\",\n",
        "    \"ma'am\": \"madam\",\n",
        "    \"mayn't\": \"may not\",\n",
        "    \"might've\": \"might have\",\n",
        "    \"mightn't\": \"might not\",\n",
        "    \"mightn't've\": \"might not have\",\n",
        "    \"must've\": \"must have\",\n",
        "    \"mustn't\": \"must not\",\n",
        "    \"mustn't've\": \"must not have\",\n",
        "    \"needn't\": \"need not\",\n",
        "    \"needn't've\": \"need not have\",\n",
        "    \"o'clock\": \"of the clock\",\n",
        "    \"oughtn't\": \"ought not\",\n",
        "    \"oughtn't've\": \"ought not have\",\n",
        "    \"shan't\": \"shall not\",\n",
        "    \"sha'n't\": \"shall not\",\n",
        "    \"shan't've\": \"shall not have\",\n",
        "    \"she'd\": \"she would\",\n",
        "    \"she'd've\": \"she would have\",\n",
        "    \"she'll\": \"she will\",\n",
        "    \"she'll've\": \"she will have\",\n",
        "    \"she's\": \"she is\",\n",
        "    \"should've\": \"should have\",\n",
        "    \"shouldn't\": \"should not\",\n",
        "    \"shouldn't've\": \"should not have\",\n",
        "    \"so've\": \"so have\",\n",
        "    \"so's\": \"so as\",\n",
        "    \"that'd\": \"that would\",\n",
        "    \"that'd've\": \"that would have\",\n",
        "    \"that's\": \"that is\",\n",
        "    \"there'd\": \"there would\",\n",
        "    \"there'd've\": \"there would have\",\n",
        "    \"there's\": \"there is\",\n",
        "    \"they'd\": \"they would\",\n",
        "    \"they'd've\": \"they would have\",\n",
        "    \"they'll\": \"they will\",\n",
        "    \"they'll've\": \"they will have\",\n",
        "    \"they're\": \"they are\",\n",
        "    \"they've\": \"they have\",\n",
        "    \"to've\": \"to have\",\n",
        "    \"wasn't\": \"was not\",\n",
        "    \"we'd\": \"we would\",\n",
        "    \"we'd've\": \"we would have\",\n",
        "    \"we'll\": \"we will\",\n",
        "    \"we'll've\": \"we will have\",\n",
        "    \"we're\": \"we are\",\n",
        "    \"we've\": \"we have\",\n",
        "    \"weren't\": \"were not\",\n",
        "    \"what'll\": \"what will\",\n",
        "    \"what'll've\": \"what will have\",\n",
        "    \"what're\": \"what are\",\n",
        "    \"what's\": \"what is\",\n",
        "    \"what've\": \"what have\",\n",
        "    \"when's\": \"when is\",\n",
        "    \"when've\": \"when have\",\n",
        "    \"where'd\": \"where did\",\n",
        "    \"where's\": \"where is\",\n",
        "    \"where've\": \"where have\",\n",
        "    \"who'll\": \"who will\",\n",
        "    \"who'll've\": \"who will have\",\n",
        "    \"who's\": \"who is\",\n",
        "    \"who've\": \"who have\",\n",
        "    \"why's\": \"why is\",\n",
        "    \"why've\": \"why have\",\n",
        "    \"will've\": \"will have\",\n",
        "    \"won't\": \"will not\",\n",
        "    \"won't've\": \"will not have\",\n",
        "    \"would've\": \"would have\",\n",
        "    \"wouldn't\": \"would not\",\n",
        "    \"wouldn't've\": \"would not have\",\n",
        "    \"y'all\": \"you all\",\n",
        "    \"y'all'd\": \"you all would\",\n",
        "    \"y'all'd've\": \"you all would have\",\n",
        "    \"y'all're\": \"you all are\",\n",
        "    \"y'all've\": \"you all have\",\n",
        "    \"you'd\": \"you would\",\n",
        "    \"you'd've\": \"you would have\",\n",
        "    \"you'll\": \"you will\",\n",
        "    \"you'll've\": \"you will have\",\n",
        "    \"you're\": \"you are\",\n",
        "    \"you've\": \"you have\"\n",
        "    }\n",
        "\n",
        "\n",
        "  text_decontracted=[]\n",
        "  for word in text.split():\n",
        "    if word in contractions:\n",
        "      word=contractions[word]\n",
        "    text_decontracted.append(word)\n",
        "  text=\" \".join(text_decontracted)\n",
        "  text=text.replace(\"'ve\",'have')\n",
        "  text=text.replace(\"n't\",'not')\n",
        "  text=text.replace(\"'re\",'are')\n",
        "  text=text.replace(\"'ll\",'will')\n",
        "  return text"
      ],
      "metadata": {
        "id": "BOHMw3VUT52l"
      },
      "execution_count": null,
      "outputs": []
    },
    {
      "cell_type": "code",
      "source": [],
      "metadata": {
        "id": "tOHbL4DiT68o"
      },
      "execution_count": null,
      "outputs": []
    },
    {
      "cell_type": "markdown",
      "source": [
        "# lowercasing and decontraction"
      ],
      "metadata": {
        "id": "VWS5KT0YyeKj"
      }
    },
    {
      "cell_type": "code",
      "source": [
        "final_df['complaint-1']=final_df['complaint-1'].apply(preprocessing)\n",
        "final_df['complaint-2']=final_df['complaint-2'].apply(preprocessing)"
      ],
      "metadata": {
        "id": "pv0z-AqLt-yL"
      },
      "execution_count": null,
      "outputs": []
    },
    {
      "cell_type": "markdown",
      "source": [
        "# removing `\" \"`"
      ],
      "metadata": {
        "id": "DHLlhqPoyiUR"
      }
    },
    {
      "cell_type": "code",
      "source": [
        "final_df['complaint-1']=final_df['complaint-1'].str.replace('\"','')\n",
        "final_df['complaint-2']=final_df['complaint-2'].str.replace('\"','')"
      ],
      "metadata": {
        "id": "pUeFUhQTt_j3"
      },
      "execution_count": null,
      "outputs": []
    },
    {
      "cell_type": "markdown",
      "source": [
        "# Removing stopwords and lemmatization"
      ],
      "metadata": {
        "id": "ph8PGbLlyqsQ"
      }
    },
    {
      "cell_type": "code",
      "source": [
        "stop_words = set(stopwords.words('english'))\n",
        "lemmatizer=WordNetLemmatizer()"
      ],
      "metadata": {
        "id": "L3FRrJ-BzDBT"
      },
      "execution_count": null,
      "outputs": []
    },
    {
      "cell_type": "code",
      "source": [
        "def remove_stopwords(text):\n",
        "  text = text.translate(str.maketrans('', '', string.punctuation))\n",
        "  words = text.split()\n",
        "  words=[lemmatizer.lemmatize(word) for word in words if word not in stop_words]\n",
        "  text=\" \".join(words)\n",
        "  return text"
      ],
      "metadata": {
        "id": "G0A90IyWusep"
      },
      "execution_count": null,
      "outputs": []
    },
    {
      "cell_type": "code",
      "source": [
        "final_df['processed_comp1']=final_df['complaint-1'].apply(remove_stopwords)\n",
        "final_df['processed_comp2']=final_df['complaint-2'].apply(remove_stopwords)"
      ],
      "metadata": {
        "id": "jk3pwuWnwi_4"
      },
      "execution_count": null,
      "outputs": []
    },
    {
      "cell_type": "code",
      "source": [
        "final_df"
      ],
      "metadata": {
        "id": "vN-WSqEQ0NGX",
        "colab": {
          "base_uri": "https://localhost:8080/",
          "height": 1000
        },
        "outputId": "29e576bd-483a-44ba-cba8-98486874af34"
      },
      "execution_count": null,
      "outputs": [
        {
          "output_type": "execute_result",
          "data": {
            "text/plain": [
              "                                                                                                                                                                                                complaint-1  \\\n",
              "0                                                                                                                 there is a lack of funding for students attending professional conferences and workshops.   \n",
              "1                               as an athlete, i am frustrated with the limited access to athletic facilities during peak hours. it is difficult to fit in training sessions when the gym is always packed.   \n",
              "2                                                                                               the university does not offer enough support for students interested in aerospace design and manufacturing.   \n",
              "3                                                                the lack of face-to-face interaction in online classes has made it difficult to engage with peers and build relationships with professors.   \n",
              "4                                                                                                                                             the food served in the canteen is often greasy and unhealthy.   \n",
              "..                                                                                                                                                                                                      ...   \n",
              "987                                                                                                                       the fine arts instructor does not provide enough individual guidance on projects.   \n",
              "988                                                   i have been applying to job opportunities outside of my field of study in hopes of finding something, but it has been difficult to make any progress.   \n",
              "989                                                                                                 online classes can make it harder to balance academic responsibilities with work or family obligations.   \n",
              "990                             the limited access to research databases and materials is causing a lot of frustration for students. it is important that we have better access to complete our coursework.   \n",
              "991  i really enjoy exploring new neighborhoods and trying new restaurants, but it can be tough to find affordable options. it would be great if the university offered a foodie club or something similar.   \n",
              "\n",
              "                                                                                                                                                                                                 complaint-2  \\\n",
              "0                                                                                                                           student attendance at professional conferences and workshops is not well funded.   \n",
              "1                                     gender inequality in sports is a pervasive issue that affects all students, not just athletes. the university should do more to promote gender equity and empowerment.   \n",
              "2                                                                                   insufficient assistance is provided by the institution to students who are interested in aircraft design and production.   \n",
              "3                                                         it is challenging to maintain focus and avoid distractions during online classes, especially for students living in crowded or noisy environments.   \n",
              "4                                                                                                  the canteen does not provide enough options for students with dietary restrictions such as keto or paleo.   \n",
              "..                                                                                                                                                                                                       ...   \n",
              "987                                                                                                 the telecommunication engineering professor does not provide enough lab sessions for practical learning.   \n",
              "988                                                             i wish there were more opportunities to connect with professionals outside of the university, like networking events or mentorship programs.   \n",
              "989                                                                                   it may be more difficult to juggle scholastic demands with job or family responsibilities when taking programs online.   \n",
              "990                                           students' discontent with the restricted access to research resources and materials is high. it is critical that we have improved access to do our schoolwork.   \n",
              "991  i really want to try different restaurants and explore new neighbourhoods, however it can be difficult to find reasonably priced options. if the university had a gourmet club or something like tha...   \n",
              "\n",
              "     semantic similarity  \\\n",
              "0                      1   \n",
              "1                      0   \n",
              "2                      1   \n",
              "3                      0   \n",
              "4                      0   \n",
              "..                   ...   \n",
              "987                    0   \n",
              "988                    0   \n",
              "989                    1   \n",
              "990                    1   \n",
              "991                    1   \n",
              "\n",
              "                                                                                                                                             processed_comp1  \\\n",
              "0                                                                                            lack funding student attending professional conference workshop   \n",
              "1                                             athlete frustrated limited access athletic facility peak hour difficult fit training session gym always packed   \n",
              "2                                                                          university offer enough support student interested aerospace design manufacturing   \n",
              "3                                                           lack facetoface interaction online class made difficult engage peer build relationship professor   \n",
              "4                                                                                                                 food served canteen often greasy unhealthy   \n",
              "..                                                                                                                                                       ...   \n",
              "987                                                                                           fine art instructor provide enough individual guidance project   \n",
              "988                                                              applying job opportunity outside field study hope finding something difficult make progress   \n",
              "989                                                                          online class make harder balance academic responsibility work family obligation   \n",
              "990                                    limited access research database material causing lot frustration student important better access complete coursework   \n",
              "991  really enjoy exploring new neighborhood trying new restaurant tough find affordable option would great university offered foodie club something similar   \n",
              "\n",
              "                                                                                                                                                           processed_comp2  \n",
              "0                                                                                                          student attendance professional conference workshop well funded  \n",
              "1                                                              gender inequality sport pervasive issue affect student athlete university promote gender equity empowerment  \n",
              "2                                                                               insufficient assistance provided institution student interested aircraft design production  \n",
              "3                                                            challenging maintain focus avoid distraction online class especially student living crowded noisy environment  \n",
              "4                                                                                                     canteen provide enough option student dietary restriction keto paleo  \n",
              "..                                                                                                                                                                     ...  \n",
              "987                                                                                  telecommunication engineering professor provide enough lab session practical learning  \n",
              "988                                                                      wish opportunity connect professional outside university like networking event mentorship program  \n",
              "989                                                                                 may difficult juggle scholastic demand job family responsibility taking program online  \n",
              "990                                                               student discontent restricted access research resource material high critical improved access schoolwork  \n",
              "991  really want try different restaurant explore new neighbourhood however difficult find reasonably priced option university gourmet club something like would fantastic  \n",
              "\n",
              "[992 rows x 5 columns]"
            ],
            "text/html": [
              "\n",
              "  <div id=\"df-6fb0de02-6a09-4da6-b4f5-d87a3abe0b1a\" class=\"colab-df-container\">\n",
              "    <div>\n",
              "<style scoped>\n",
              "    .dataframe tbody tr th:only-of-type {\n",
              "        vertical-align: middle;\n",
              "    }\n",
              "\n",
              "    .dataframe tbody tr th {\n",
              "        vertical-align: top;\n",
              "    }\n",
              "\n",
              "    .dataframe thead th {\n",
              "        text-align: right;\n",
              "    }\n",
              "</style>\n",
              "<table border=\"1\" class=\"dataframe\">\n",
              "  <thead>\n",
              "    <tr style=\"text-align: right;\">\n",
              "      <th></th>\n",
              "      <th>complaint-1</th>\n",
              "      <th>complaint-2</th>\n",
              "      <th>semantic similarity</th>\n",
              "      <th>processed_comp1</th>\n",
              "      <th>processed_comp2</th>\n",
              "    </tr>\n",
              "  </thead>\n",
              "  <tbody>\n",
              "    <tr>\n",
              "      <th>0</th>\n",
              "      <td>there is a lack of funding for students attending professional conferences and workshops.</td>\n",
              "      <td>student attendance at professional conferences and workshops is not well funded.</td>\n",
              "      <td>1</td>\n",
              "      <td>lack funding student attending professional conference workshop</td>\n",
              "      <td>student attendance professional conference workshop well funded</td>\n",
              "    </tr>\n",
              "    <tr>\n",
              "      <th>1</th>\n",
              "      <td>as an athlete, i am frustrated with the limited access to athletic facilities during peak hours. it is difficult to fit in training sessions when the gym is always packed.</td>\n",
              "      <td>gender inequality in sports is a pervasive issue that affects all students, not just athletes. the university should do more to promote gender equity and empowerment.</td>\n",
              "      <td>0</td>\n",
              "      <td>athlete frustrated limited access athletic facility peak hour difficult fit training session gym always packed</td>\n",
              "      <td>gender inequality sport pervasive issue affect student athlete university promote gender equity empowerment</td>\n",
              "    </tr>\n",
              "    <tr>\n",
              "      <th>2</th>\n",
              "      <td>the university does not offer enough support for students interested in aerospace design and manufacturing.</td>\n",
              "      <td>insufficient assistance is provided by the institution to students who are interested in aircraft design and production.</td>\n",
              "      <td>1</td>\n",
              "      <td>university offer enough support student interested aerospace design manufacturing</td>\n",
              "      <td>insufficient assistance provided institution student interested aircraft design production</td>\n",
              "    </tr>\n",
              "    <tr>\n",
              "      <th>3</th>\n",
              "      <td>the lack of face-to-face interaction in online classes has made it difficult to engage with peers and build relationships with professors.</td>\n",
              "      <td>it is challenging to maintain focus and avoid distractions during online classes, especially for students living in crowded or noisy environments.</td>\n",
              "      <td>0</td>\n",
              "      <td>lack facetoface interaction online class made difficult engage peer build relationship professor</td>\n",
              "      <td>challenging maintain focus avoid distraction online class especially student living crowded noisy environment</td>\n",
              "    </tr>\n",
              "    <tr>\n",
              "      <th>4</th>\n",
              "      <td>the food served in the canteen is often greasy and unhealthy.</td>\n",
              "      <td>the canteen does not provide enough options for students with dietary restrictions such as keto or paleo.</td>\n",
              "      <td>0</td>\n",
              "      <td>food served canteen often greasy unhealthy</td>\n",
              "      <td>canteen provide enough option student dietary restriction keto paleo</td>\n",
              "    </tr>\n",
              "    <tr>\n",
              "      <th>...</th>\n",
              "      <td>...</td>\n",
              "      <td>...</td>\n",
              "      <td>...</td>\n",
              "      <td>...</td>\n",
              "      <td>...</td>\n",
              "    </tr>\n",
              "    <tr>\n",
              "      <th>987</th>\n",
              "      <td>the fine arts instructor does not provide enough individual guidance on projects.</td>\n",
              "      <td>the telecommunication engineering professor does not provide enough lab sessions for practical learning.</td>\n",
              "      <td>0</td>\n",
              "      <td>fine art instructor provide enough individual guidance project</td>\n",
              "      <td>telecommunication engineering professor provide enough lab session practical learning</td>\n",
              "    </tr>\n",
              "    <tr>\n",
              "      <th>988</th>\n",
              "      <td>i have been applying to job opportunities outside of my field of study in hopes of finding something, but it has been difficult to make any progress.</td>\n",
              "      <td>i wish there were more opportunities to connect with professionals outside of the university, like networking events or mentorship programs.</td>\n",
              "      <td>0</td>\n",
              "      <td>applying job opportunity outside field study hope finding something difficult make progress</td>\n",
              "      <td>wish opportunity connect professional outside university like networking event mentorship program</td>\n",
              "    </tr>\n",
              "    <tr>\n",
              "      <th>989</th>\n",
              "      <td>online classes can make it harder to balance academic responsibilities with work or family obligations.</td>\n",
              "      <td>it may be more difficult to juggle scholastic demands with job or family responsibilities when taking programs online.</td>\n",
              "      <td>1</td>\n",
              "      <td>online class make harder balance academic responsibility work family obligation</td>\n",
              "      <td>may difficult juggle scholastic demand job family responsibility taking program online</td>\n",
              "    </tr>\n",
              "    <tr>\n",
              "      <th>990</th>\n",
              "      <td>the limited access to research databases and materials is causing a lot of frustration for students. it is important that we have better access to complete our coursework.</td>\n",
              "      <td>students' discontent with the restricted access to research resources and materials is high. it is critical that we have improved access to do our schoolwork.</td>\n",
              "      <td>1</td>\n",
              "      <td>limited access research database material causing lot frustration student important better access complete coursework</td>\n",
              "      <td>student discontent restricted access research resource material high critical improved access schoolwork</td>\n",
              "    </tr>\n",
              "    <tr>\n",
              "      <th>991</th>\n",
              "      <td>i really enjoy exploring new neighborhoods and trying new restaurants, but it can be tough to find affordable options. it would be great if the university offered a foodie club or something similar.</td>\n",
              "      <td>i really want to try different restaurants and explore new neighbourhoods, however it can be difficult to find reasonably priced options. if the university had a gourmet club or something like tha...</td>\n",
              "      <td>1</td>\n",
              "      <td>really enjoy exploring new neighborhood trying new restaurant tough find affordable option would great university offered foodie club something similar</td>\n",
              "      <td>really want try different restaurant explore new neighbourhood however difficult find reasonably priced option university gourmet club something like would fantastic</td>\n",
              "    </tr>\n",
              "  </tbody>\n",
              "</table>\n",
              "<p>992 rows × 5 columns</p>\n",
              "</div>\n",
              "    <div class=\"colab-df-buttons\">\n",
              "\n",
              "  <div class=\"colab-df-container\">\n",
              "    <button class=\"colab-df-convert\" onclick=\"convertToInteractive('df-6fb0de02-6a09-4da6-b4f5-d87a3abe0b1a')\"\n",
              "            title=\"Convert this dataframe to an interactive table.\"\n",
              "            style=\"display:none;\">\n",
              "\n",
              "  <svg xmlns=\"http://www.w3.org/2000/svg\" height=\"24px\" viewBox=\"0 -960 960 960\">\n",
              "    <path d=\"M120-120v-720h720v720H120Zm60-500h600v-160H180v160Zm220 220h160v-160H400v160Zm0 220h160v-160H400v160ZM180-400h160v-160H180v160Zm440 0h160v-160H620v160ZM180-180h160v-160H180v160Zm440 0h160v-160H620v160Z\"/>\n",
              "  </svg>\n",
              "    </button>\n",
              "\n",
              "  <style>\n",
              "    .colab-df-container {\n",
              "      display:flex;\n",
              "      gap: 12px;\n",
              "    }\n",
              "\n",
              "    .colab-df-convert {\n",
              "      background-color: #E8F0FE;\n",
              "      border: none;\n",
              "      border-radius: 50%;\n",
              "      cursor: pointer;\n",
              "      display: none;\n",
              "      fill: #1967D2;\n",
              "      height: 32px;\n",
              "      padding: 0 0 0 0;\n",
              "      width: 32px;\n",
              "    }\n",
              "\n",
              "    .colab-df-convert:hover {\n",
              "      background-color: #E2EBFA;\n",
              "      box-shadow: 0px 1px 2px rgba(60, 64, 67, 0.3), 0px 1px 3px 1px rgba(60, 64, 67, 0.15);\n",
              "      fill: #174EA6;\n",
              "    }\n",
              "\n",
              "    .colab-df-buttons div {\n",
              "      margin-bottom: 4px;\n",
              "    }\n",
              "\n",
              "    [theme=dark] .colab-df-convert {\n",
              "      background-color: #3B4455;\n",
              "      fill: #D2E3FC;\n",
              "    }\n",
              "\n",
              "    [theme=dark] .colab-df-convert:hover {\n",
              "      background-color: #434B5C;\n",
              "      box-shadow: 0px 1px 3px 1px rgba(0, 0, 0, 0.15);\n",
              "      filter: drop-shadow(0px 1px 2px rgba(0, 0, 0, 0.3));\n",
              "      fill: #FFFFFF;\n",
              "    }\n",
              "  </style>\n",
              "\n",
              "    <script>\n",
              "      const buttonEl =\n",
              "        document.querySelector('#df-6fb0de02-6a09-4da6-b4f5-d87a3abe0b1a button.colab-df-convert');\n",
              "      buttonEl.style.display =\n",
              "        google.colab.kernel.accessAllowed ? 'block' : 'none';\n",
              "\n",
              "      async function convertToInteractive(key) {\n",
              "        const element = document.querySelector('#df-6fb0de02-6a09-4da6-b4f5-d87a3abe0b1a');\n",
              "        const dataTable =\n",
              "          await google.colab.kernel.invokeFunction('convertToInteractive',\n",
              "                                                    [key], {});\n",
              "        if (!dataTable) return;\n",
              "\n",
              "        const docLinkHtml = 'Like what you see? Visit the ' +\n",
              "          '<a target=\"_blank\" href=https://colab.research.google.com/notebooks/data_table.ipynb>data table notebook</a>'\n",
              "          + ' to learn more about interactive tables.';\n",
              "        element.innerHTML = '';\n",
              "        dataTable['output_type'] = 'display_data';\n",
              "        await google.colab.output.renderOutput(dataTable, element);\n",
              "        const docLink = document.createElement('div');\n",
              "        docLink.innerHTML = docLinkHtml;\n",
              "        element.appendChild(docLink);\n",
              "      }\n",
              "    </script>\n",
              "  </div>\n",
              "\n",
              "\n",
              "<div id=\"df-d585f2b1-c5aa-4f4f-8022-2e4e05d9fd18\">\n",
              "  <button class=\"colab-df-quickchart\" onclick=\"quickchart('df-d585f2b1-c5aa-4f4f-8022-2e4e05d9fd18')\"\n",
              "            title=\"Suggest charts\"\n",
              "            style=\"display:none;\">\n",
              "\n",
              "<svg xmlns=\"http://www.w3.org/2000/svg\" height=\"24px\"viewBox=\"0 0 24 24\"\n",
              "     width=\"24px\">\n",
              "    <g>\n",
              "        <path d=\"M19 3H5c-1.1 0-2 .9-2 2v14c0 1.1.9 2 2 2h14c1.1 0 2-.9 2-2V5c0-1.1-.9-2-2-2zM9 17H7v-7h2v7zm4 0h-2V7h2v10zm4 0h-2v-4h2v4z\"/>\n",
              "    </g>\n",
              "</svg>\n",
              "  </button>\n",
              "\n",
              "<style>\n",
              "  .colab-df-quickchart {\n",
              "      --bg-color: #E8F0FE;\n",
              "      --fill-color: #1967D2;\n",
              "      --hover-bg-color: #E2EBFA;\n",
              "      --hover-fill-color: #174EA6;\n",
              "      --disabled-fill-color: #AAA;\n",
              "      --disabled-bg-color: #DDD;\n",
              "  }\n",
              "\n",
              "  [theme=dark] .colab-df-quickchart {\n",
              "      --bg-color: #3B4455;\n",
              "      --fill-color: #D2E3FC;\n",
              "      --hover-bg-color: #434B5C;\n",
              "      --hover-fill-color: #FFFFFF;\n",
              "      --disabled-bg-color: #3B4455;\n",
              "      --disabled-fill-color: #666;\n",
              "  }\n",
              "\n",
              "  .colab-df-quickchart {\n",
              "    background-color: var(--bg-color);\n",
              "    border: none;\n",
              "    border-radius: 50%;\n",
              "    cursor: pointer;\n",
              "    display: none;\n",
              "    fill: var(--fill-color);\n",
              "    height: 32px;\n",
              "    padding: 0;\n",
              "    width: 32px;\n",
              "  }\n",
              "\n",
              "  .colab-df-quickchart:hover {\n",
              "    background-color: var(--hover-bg-color);\n",
              "    box-shadow: 0 1px 2px rgba(60, 64, 67, 0.3), 0 1px 3px 1px rgba(60, 64, 67, 0.15);\n",
              "    fill: var(--button-hover-fill-color);\n",
              "  }\n",
              "\n",
              "  .colab-df-quickchart-complete:disabled,\n",
              "  .colab-df-quickchart-complete:disabled:hover {\n",
              "    background-color: var(--disabled-bg-color);\n",
              "    fill: var(--disabled-fill-color);\n",
              "    box-shadow: none;\n",
              "  }\n",
              "\n",
              "  .colab-df-spinner {\n",
              "    border: 2px solid var(--fill-color);\n",
              "    border-color: transparent;\n",
              "    border-bottom-color: var(--fill-color);\n",
              "    animation:\n",
              "      spin 1s steps(1) infinite;\n",
              "  }\n",
              "\n",
              "  @keyframes spin {\n",
              "    0% {\n",
              "      border-color: transparent;\n",
              "      border-bottom-color: var(--fill-color);\n",
              "      border-left-color: var(--fill-color);\n",
              "    }\n",
              "    20% {\n",
              "      border-color: transparent;\n",
              "      border-left-color: var(--fill-color);\n",
              "      border-top-color: var(--fill-color);\n",
              "    }\n",
              "    30% {\n",
              "      border-color: transparent;\n",
              "      border-left-color: var(--fill-color);\n",
              "      border-top-color: var(--fill-color);\n",
              "      border-right-color: var(--fill-color);\n",
              "    }\n",
              "    40% {\n",
              "      border-color: transparent;\n",
              "      border-right-color: var(--fill-color);\n",
              "      border-top-color: var(--fill-color);\n",
              "    }\n",
              "    60% {\n",
              "      border-color: transparent;\n",
              "      border-right-color: var(--fill-color);\n",
              "    }\n",
              "    80% {\n",
              "      border-color: transparent;\n",
              "      border-right-color: var(--fill-color);\n",
              "      border-bottom-color: var(--fill-color);\n",
              "    }\n",
              "    90% {\n",
              "      border-color: transparent;\n",
              "      border-bottom-color: var(--fill-color);\n",
              "    }\n",
              "  }\n",
              "</style>\n",
              "\n",
              "  <script>\n",
              "    async function quickchart(key) {\n",
              "      const quickchartButtonEl =\n",
              "        document.querySelector('#' + key + ' button');\n",
              "      quickchartButtonEl.disabled = true;  // To prevent multiple clicks.\n",
              "      quickchartButtonEl.classList.add('colab-df-spinner');\n",
              "      try {\n",
              "        const charts = await google.colab.kernel.invokeFunction(\n",
              "            'suggestCharts', [key], {});\n",
              "      } catch (error) {\n",
              "        console.error('Error during call to suggestCharts:', error);\n",
              "      }\n",
              "      quickchartButtonEl.classList.remove('colab-df-spinner');\n",
              "      quickchartButtonEl.classList.add('colab-df-quickchart-complete');\n",
              "    }\n",
              "    (() => {\n",
              "      let quickchartButtonEl =\n",
              "        document.querySelector('#df-d585f2b1-c5aa-4f4f-8022-2e4e05d9fd18 button');\n",
              "      quickchartButtonEl.style.display =\n",
              "        google.colab.kernel.accessAllowed ? 'block' : 'none';\n",
              "    })();\n",
              "  </script>\n",
              "</div>\n",
              "\n",
              "  <div id=\"id_74a5e37a-1ef3-4d32-8a5a-e29f7855da0a\">\n",
              "    <style>\n",
              "      .colab-df-generate {\n",
              "        background-color: #E8F0FE;\n",
              "        border: none;\n",
              "        border-radius: 50%;\n",
              "        cursor: pointer;\n",
              "        display: none;\n",
              "        fill: #1967D2;\n",
              "        height: 32px;\n",
              "        padding: 0 0 0 0;\n",
              "        width: 32px;\n",
              "      }\n",
              "\n",
              "      .colab-df-generate:hover {\n",
              "        background-color: #E2EBFA;\n",
              "        box-shadow: 0px 1px 2px rgba(60, 64, 67, 0.3), 0px 1px 3px 1px rgba(60, 64, 67, 0.15);\n",
              "        fill: #174EA6;\n",
              "      }\n",
              "\n",
              "      [theme=dark] .colab-df-generate {\n",
              "        background-color: #3B4455;\n",
              "        fill: #D2E3FC;\n",
              "      }\n",
              "\n",
              "      [theme=dark] .colab-df-generate:hover {\n",
              "        background-color: #434B5C;\n",
              "        box-shadow: 0px 1px 3px 1px rgba(0, 0, 0, 0.15);\n",
              "        filter: drop-shadow(0px 1px 2px rgba(0, 0, 0, 0.3));\n",
              "        fill: #FFFFFF;\n",
              "      }\n",
              "    </style>\n",
              "    <button class=\"colab-df-generate\" onclick=\"generateWithVariable('final_df')\"\n",
              "            title=\"Generate code using this dataframe.\"\n",
              "            style=\"display:none;\">\n",
              "\n",
              "  <svg xmlns=\"http://www.w3.org/2000/svg\" height=\"24px\"viewBox=\"0 0 24 24\"\n",
              "       width=\"24px\">\n",
              "    <path d=\"M7,19H8.4L18.45,9,17,7.55,7,17.6ZM5,21V16.75L18.45,3.32a2,2,0,0,1,2.83,0l1.4,1.43a1.91,1.91,0,0,1,.58,1.4,1.91,1.91,0,0,1-.58,1.4L9.25,21ZM18.45,9,17,7.55Zm-12,3A5.31,5.31,0,0,0,4.9,8.1,5.31,5.31,0,0,0,1,6.5,5.31,5.31,0,0,0,4.9,4.9,5.31,5.31,0,0,0,6.5,1,5.31,5.31,0,0,0,8.1,4.9,5.31,5.31,0,0,0,12,6.5,5.46,5.46,0,0,0,6.5,12Z\"/>\n",
              "  </svg>\n",
              "    </button>\n",
              "    <script>\n",
              "      (() => {\n",
              "      const buttonEl =\n",
              "        document.querySelector('#id_74a5e37a-1ef3-4d32-8a5a-e29f7855da0a button.colab-df-generate');\n",
              "      buttonEl.style.display =\n",
              "        google.colab.kernel.accessAllowed ? 'block' : 'none';\n",
              "\n",
              "      buttonEl.onclick = () => {\n",
              "        google.colab.notebook.generateWithVariable('final_df');\n",
              "      }\n",
              "      })();\n",
              "    </script>\n",
              "  </div>\n",
              "\n",
              "    </div>\n",
              "  </div>\n"
            ],
            "application/vnd.google.colaboratory.intrinsic+json": {
              "type": "dataframe",
              "variable_name": "final_df",
              "summary": "{\n  \"name\": \"final_df\",\n  \"rows\": 992,\n  \"fields\": [\n    {\n      \"column\": \"complaint-1\",\n      \"properties\": {\n        \"dtype\": \"string\",\n        \"num_unique_values\": 991,\n        \"samples\": [\n          \"the political science professor's lectures are too lecture-heavy and do not engage students in discussions.\",\n          \"it is frustrating to have to rely on technology for my education, especially when it is not always reliable or user-friendly.\",\n          \"the university does not provide enough family housing options for students with children.\"\n        ],\n        \"semantic_type\": \"\",\n        \"description\": \"\"\n      }\n    },\n    {\n      \"column\": \"complaint-2\",\n      \"properties\": {\n        \"dtype\": \"string\",\n        \"num_unique_values\": 987,\n        \"samples\": [\n          \"the biomechanics instructor does not provide enough hands-on experience with equipment and techniques.\",\n          \"the rooms are uncomfortable because there is not enough heating in the dorms during the winter.\",\n          \"for students who have children, the university does not offer enough family housing options.\"\n        ],\n        \"semantic_type\": \"\",\n        \"description\": \"\"\n      }\n    },\n    {\n      \"column\": \"semantic similarity\",\n      \"properties\": {\n        \"dtype\": \"number\",\n        \"std\": 0,\n        \"min\": 0,\n        \"max\": 1,\n        \"num_unique_values\": 2,\n        \"samples\": [\n          0,\n          1\n        ],\n        \"semantic_type\": \"\",\n        \"description\": \"\"\n      }\n    },\n    {\n      \"column\": \"processed_comp1\",\n      \"properties\": {\n        \"dtype\": \"string\",\n        \"num_unique_values\": 991,\n        \"samples\": [\n          \"political science professor lecture lectureheavy engage student discussion\",\n          \"frustrating rely technology education especially always reliable userfriendly\"\n        ],\n        \"semantic_type\": \"\",\n        \"description\": \"\"\n      }\n    },\n    {\n      \"column\": \"processed_comp2\",\n      \"properties\": {\n        \"dtype\": \"string\",\n        \"num_unique_values\": 987,\n        \"samples\": [\n          \"biomechanics instructor provide enough handson experience equipment technique\",\n          \"room uncomfortable enough heating dorm winter\"\n        ],\n        \"semantic_type\": \"\",\n        \"description\": \"\"\n      }\n    }\n  ]\n}"
            }
          },
          "metadata": {},
          "execution_count": 14
        }
      ]
    },
    {
      "cell_type": "markdown",
      "source": [
        "# Text Embedding"
      ],
      "metadata": {
        "id": "JOO5AWEGLQIm"
      }
    },
    {
      "cell_type": "code",
      "source": [
        "# Text embedding modal selection\n",
        "# model=SentenceTransformer('all-MiniLM-L6-v2')\n",
        "model=SentenceTransformer('all-mpnet-base-v2')\n",
        "# model.similarity_fn_name = SimilarityFunction.MANHATTAN\n",
        "# model.similarity_fn_name = SimilarityFunction.DOT_PRODUCT"
      ],
      "metadata": {
        "id": "2G4rfoCcoizl"
      },
      "execution_count": null,
      "outputs": []
    },
    {
      "cell_type": "code",
      "source": [],
      "metadata": {
        "colab": {
          "base_uri": "https://localhost:8080/"
        },
        "id": "8afOOw3BkFJJ",
        "outputId": "2710dbc7-0ca8-4bf0-a060-5bd6ca7d4628"
      },
      "execution_count": null,
      "outputs": [
        {
          "output_type": "stream",
          "name": "stderr",
          "text": [
            "/usr/local/lib/python3.10/dist-packages/huggingface_hub/file_download.py:1132: FutureWarning: `resume_download` is deprecated and will be removed in version 1.0.0. Downloads always resume when possible. If you want to force a new download, use `force_download=True`.\n",
            "  warnings.warn(\n"
          ]
        }
      ]
    },
    {
      "cell_type": "code",
      "source": [
        "model1=SentenceTransformer('sentence-transformers/LaBSE')"
      ],
      "metadata": {
        "id": "OXEjm5JLjGR-"
      },
      "execution_count": null,
      "outputs": []
    },
    {
      "cell_type": "code",
      "source": [
        "emb1=model.encode(final_df['processed_comp1'].tolist(),convert_to_tensor=True)\n",
        "emb2=model.encode(final_df['processed_comp2'].tolist(),convert_to_tensor=True)"
      ],
      "metadata": {
        "id": "-gfGyATlICOn"
      },
      "execution_count": null,
      "outputs": []
    },
    {
      "cell_type": "code",
      "source": [
        "cos_sim=util.cos_sim(emb1,emb2)\n",
        "# cos_sim=cos_sim.diagonal()\n",
        "# cos_sim=model.similarity(emb1, emb2)\n",
        "# cos_sim"
      ],
      "metadata": {
        "id": "n4l8VBCaRJIx"
      },
      "execution_count": null,
      "outputs": []
    },
    {
      "cell_type": "code",
      "source": [
        "\n",
        "cos_sim=cos_sim.diagonal()"
      ],
      "metadata": {
        "id": "I8H0lbauKvls"
      },
      "execution_count": null,
      "outputs": []
    },
    {
      "cell_type": "code",
      "source": [
        "final_df['cos_sim'] = cos_sim.cpu().numpy()\n"
      ],
      "metadata": {
        "id": "uQ2I8tSvRc5e"
      },
      "execution_count": null,
      "outputs": []
    },
    {
      "cell_type": "code",
      "source": [
        "sns.displot(data=final_df,x='cos_sim',hue='semantic similarity',kind='kde',fill=True)\n",
        "sns.rugplot(data=final_df,x='cos_sim',hue='semantic similarity')\n",
        "plt.title('KDE of cosine similarity')"
      ],
      "metadata": {
        "colab": {
          "base_uri": "https://localhost:8080/",
          "height": 547
        },
        "id": "dCPXHjxVReL3",
        "outputId": "8d689776-61e9-435d-f80e-c24f14b197a1"
      },
      "execution_count": null,
      "outputs": [
        {
          "output_type": "execute_result",
          "data": {
            "text/plain": [
              "Text(0.5, 1.0, 'KDE of cosine similarity')"
            ]
          },
          "metadata": {},
          "execution_count": 20
        },
        {
          "output_type": "display_data",
          "data": {
            "text/plain": [
              "<Figure size 643.236x500 with 1 Axes>"
            ],
            "image/png": "[encoded data removed]"
          },
          "metadata": {}
        }
      ]
    },
    {
      "cell_type": "code",
      "source": [
        "sns.catplot(data=final_df,x='semantic similarity',y='cos_sim',kind='box',hue='semantic similarity')"
      ],
      "metadata": {
        "colab": {
          "base_uri": "https://localhost:8080/",
          "height": 524
        },
        "id": "g-0m97KsSX4F",
        "outputId": "697fa79c-2456-4d23-a0ce-4cf78f990aac"
      },
      "execution_count": null,
      "outputs": [
        {
          "output_type": "execute_result",
          "data": {
            "text/plain": [
              "<seaborn.axisgrid.FacetGrid at 0x7e99406da110>"
            ]
          },
          "metadata": {},
          "execution_count": 21
        },
        {
          "output_type": "display_data",
          "data": {
            "text/plain": [
              "<Figure size 643.236x500 with 1 Axes>"
            ],
            "image/png": "[encoded data removed]"
          },
          "metadata": {}
        }
      ]
    },
    {
      "cell_type": "code",
      "source": [
        "same=final_df[final_df['semantic similarity']==1]\n",
        "diff=final_df[final_df['semantic similarity']==0]"
      ],
      "metadata": {
        "id": "jRG9MgHagI0I"
      },
      "execution_count": null,
      "outputs": []
    },
    {
      "cell_type": "code",
      "source": [
        "diff\n"
      ],
      "metadata": {
        "id": "LED-mfPjgIxU",
        "colab": {
          "base_uri": "https://localhost:8080/",
          "height": 1000
        },
        "outputId": "2689ca7c-2635-4004-a5ea-c433d28c4ee1"
      },
      "execution_count": null,
      "outputs": [
        {
          "output_type": "execute_result",
          "data": {
            "text/plain": [
              "                                                                                                                                                                     complaint-1  \\\n",
              "1    as an athlete, i am frustrated with the limited access to athletic facilities during peak hours. it is difficult to fit in training sessions when the gym is always packed.   \n",
              "3                                     the lack of face-to-face interaction in online classes has made it difficult to engage with peers and build relationships with professors.   \n",
              "4                                                                                                                  the food served in the canteen is often greasy and unhealthy.   \n",
              "6                                                                                                                   the campus lacks sufficient spaces for hosting large events.   \n",
              "7                                        finding job opportunities feels like a full-time job in itself. the university should do more to make this process easier for students.   \n",
              "..                                                                                                                                                                           ...   \n",
              "978                                                                            ihave had to move to a different city just to be able to afford housing and transportation costs.   \n",
              "982                                                                                                there is a lack of resources for students to develop digital literacy skills.   \n",
              "983                                                                                                     there is a lack of transparency in the allocation of academic resources.   \n",
              "987                                                                                            the fine arts instructor does not provide enough individual guidance on projects.   \n",
              "988                        i have been applying to job opportunities outside of my field of study in hopes of finding something, but it has been difficult to make any progress.   \n",
              "\n",
              "                                                                                                                                                                                                 complaint-2  \\\n",
              "1                                     gender inequality in sports is a pervasive issue that affects all students, not just athletes. the university should do more to promote gender equity and empowerment.   \n",
              "3                                                         it is challenging to maintain focus and avoid distractions during online classes, especially for students living in crowded or noisy environments.   \n",
              "4                                                                                                  the canteen does not provide enough options for students with dietary restrictions such as keto or paleo.   \n",
              "6                                                                                                                    the university does not offer enough support for students interested in public service.   \n",
              "7                                                                                                   i have found it challenging to find job opportunities that match my specific interests and career goals.   \n",
              "..                                                                                                                                                                                                       ...   \n",
              "978  the housing market in this area is so competitive that i feel like i am constantly battling with other students to find a decent place to live. it is stressful and exhausting, and i wish there wer...   \n",
              "982                                                                                                       the platform does not support group work effectively, making collaboration with peers challenging.   \n",
              "983                                                                                                                               the university lacks sufficient online tutorials and instructional videos.   \n",
              "987                                                                                                 the telecommunication engineering professor does not provide enough lab sessions for practical learning.   \n",
              "988                                                             i wish there were more opportunities to connect with professionals outside of the university, like networking events or mentorship programs.   \n",
              "\n",
              "     semantic similarity  \\\n",
              "1                      0   \n",
              "3                      0   \n",
              "4                      0   \n",
              "6                      0   \n",
              "7                      0   \n",
              "..                   ...   \n",
              "978                    0   \n",
              "982                    0   \n",
              "983                    0   \n",
              "987                    0   \n",
              "988                    0   \n",
              "\n",
              "                                                                                                    processed_comp1  \\\n",
              "1    athlete frustrated limited access athletic facility peak hour difficult fit training session gym always packed   \n",
              "3                  lack facetoface interaction online class made difficult engage peer build relationship professor   \n",
              "4                                                                        food served canteen often greasy unhealthy   \n",
              "6                                                                  campus lack sufficient space hosting large event   \n",
              "7                             finding job opportunity feel like fulltime job university make process easier student   \n",
              "..                                                                                                              ...   \n",
              "978                                               ihave move different city able afford housing transportation cost   \n",
              "982                                                            lack resource student develop digital literacy skill   \n",
              "983                                                                  lack transparency allocation academic resource   \n",
              "987                                                  fine art instructor provide enough individual guidance project   \n",
              "988                     applying job opportunity outside field study hope finding something difficult make progress   \n",
              "\n",
              "                                                                                                                               processed_comp2  \\\n",
              "1                                  gender inequality sport pervasive issue affect student athlete university promote gender equity empowerment   \n",
              "3                                challenging maintain focus avoid distraction online class especially student living crowded noisy environment   \n",
              "4                                                                         canteen provide enough option student dietary restriction keto paleo   \n",
              "6                                                                            university offer enough support student interested public service   \n",
              "7                                                                   found challenging find job opportunity match specific interest career goal   \n",
              "..                                                                                                                                         ...   \n",
              "978  housing market area competitive feel like constantly battling student find decent place live stressful exhausting wish option available u   \n",
              "982                                                              platform support group work effectively making collaboration peer challenging   \n",
              "983                                                                             university lack sufficient online tutorial instructional video   \n",
              "987                                                      telecommunication engineering professor provide enough lab session practical learning   \n",
              "988                                          wish opportunity connect professional outside university like networking event mentorship program   \n",
              "\n",
              "      cos_sim  \n",
              "1    0.319354  \n",
              "3    0.522505  \n",
              "4    0.488194  \n",
              "6    0.344417  \n",
              "7    0.437092  \n",
              "..        ...  \n",
              "978  0.518215  \n",
              "982  0.232946  \n",
              "983  0.393367  \n",
              "987  0.418629  \n",
              "988  0.354044  \n",
              "\n",
              "[501 rows x 6 columns]"
            ],
            "text/html": [
              "\n",
              "  <div id=\"df-43ae849e-2787-490b-b371-85e3982a292b\" class=\"colab-df-container\">\n",
              "    <div>\n",
              "<style scoped>\n",
              "    .dataframe tbody tr th:only-of-type {\n",
              "        vertical-align: middle;\n",
              "    }\n",
              "\n",
              "    .dataframe tbody tr th {\n",
              "        vertical-align: top;\n",
              "    }\n",
              "\n",
              "    .dataframe thead th {\n",
              "        text-align: right;\n",
              "    }\n",
              "</style>\n",
              "<table border=\"1\" class=\"dataframe\">\n",
              "  <thead>\n",
              "    <tr style=\"text-align: right;\">\n",
              "      <th></th>\n",
              "      <th>complaint-1</th>\n",
              "      <th>complaint-2</th>\n",
              "      <th>semantic similarity</th>\n",
              "      <th>processed_comp1</th>\n",
              "      <th>processed_comp2</th>\n",
              "      <th>cos_sim</th>\n",
              "    </tr>\n",
              "  </thead>\n",
              "  <tbody>\n",
              "    <tr>\n",
              "      <th>1</th>\n",
              "      <td>as an athlete, i am frustrated with the limited access to athletic facilities during peak hours. it is difficult to fit in training sessions when the gym is always packed.</td>\n",
              "      <td>gender inequality in sports is a pervasive issue that affects all students, not just athletes. the university should do more to promote gender equity and empowerment.</td>\n",
              "      <td>0</td>\n",
              "      <td>athlete frustrated limited access athletic facility peak hour difficult fit training session gym always packed</td>\n",
              "      <td>gender inequality sport pervasive issue affect student athlete university promote gender equity empowerment</td>\n",
              "      <td>0.319354</td>\n",
              "    </tr>\n",
              "    <tr>\n",
              "      <th>3</th>\n",
              "      <td>the lack of face-to-face interaction in online classes has made it difficult to engage with peers and build relationships with professors.</td>\n",
              "      <td>it is challenging to maintain focus and avoid distractions during online classes, especially for students living in crowded or noisy environments.</td>\n",
              "      <td>0</td>\n",
              "      <td>lack facetoface interaction online class made difficult engage peer build relationship professor</td>\n",
              "      <td>challenging maintain focus avoid distraction online class especially student living crowded noisy environment</td>\n",
              "      <td>0.522505</td>\n",
              "    </tr>\n",
              "    <tr>\n",
              "      <th>4</th>\n",
              "      <td>the food served in the canteen is often greasy and unhealthy.</td>\n",
              "      <td>the canteen does not provide enough options for students with dietary restrictions such as keto or paleo.</td>\n",
              "      <td>0</td>\n",
              "      <td>food served canteen often greasy unhealthy</td>\n",
              "      <td>canteen provide enough option student dietary restriction keto paleo</td>\n",
              "      <td>0.488194</td>\n",
              "    </tr>\n",
              "    <tr>\n",
              "      <th>6</th>\n",
              "      <td>the campus lacks sufficient spaces for hosting large events.</td>\n",
              "      <td>the university does not offer enough support for students interested in public service.</td>\n",
              "      <td>0</td>\n",
              "      <td>campus lack sufficient space hosting large event</td>\n",
              "      <td>university offer enough support student interested public service</td>\n",
              "      <td>0.344417</td>\n",
              "    </tr>\n",
              "    <tr>\n",
              "      <th>7</th>\n",
              "      <td>finding job opportunities feels like a full-time job in itself. the university should do more to make this process easier for students.</td>\n",
              "      <td>i have found it challenging to find job opportunities that match my specific interests and career goals.</td>\n",
              "      <td>0</td>\n",
              "      <td>finding job opportunity feel like fulltime job university make process easier student</td>\n",
              "      <td>found challenging find job opportunity match specific interest career goal</td>\n",
              "      <td>0.437092</td>\n",
              "    </tr>\n",
              "    <tr>\n",
              "      <th>...</th>\n",
              "      <td>...</td>\n",
              "      <td>...</td>\n",
              "      <td>...</td>\n",
              "      <td>...</td>\n",
              "      <td>...</td>\n",
              "      <td>...</td>\n",
              "    </tr>\n",
              "    <tr>\n",
              "      <th>978</th>\n",
              "      <td>ihave had to move to a different city just to be able to afford housing and transportation costs.</td>\n",
              "      <td>the housing market in this area is so competitive that i feel like i am constantly battling with other students to find a decent place to live. it is stressful and exhausting, and i wish there wer...</td>\n",
              "      <td>0</td>\n",
              "      <td>ihave move different city able afford housing transportation cost</td>\n",
              "      <td>housing market area competitive feel like constantly battling student find decent place live stressful exhausting wish option available u</td>\n",
              "      <td>0.518215</td>\n",
              "    </tr>\n",
              "    <tr>\n",
              "      <th>982</th>\n",
              "      <td>there is a lack of resources for students to develop digital literacy skills.</td>\n",
              "      <td>the platform does not support group work effectively, making collaboration with peers challenging.</td>\n",
              "      <td>0</td>\n",
              "      <td>lack resource student develop digital literacy skill</td>\n",
              "      <td>platform support group work effectively making collaboration peer challenging</td>\n",
              "      <td>0.232946</td>\n",
              "    </tr>\n",
              "    <tr>\n",
              "      <th>983</th>\n",
              "      <td>there is a lack of transparency in the allocation of academic resources.</td>\n",
              "      <td>the university lacks sufficient online tutorials and instructional videos.</td>\n",
              "      <td>0</td>\n",
              "      <td>lack transparency allocation academic resource</td>\n",
              "      <td>university lack sufficient online tutorial instructional video</td>\n",
              "      <td>0.393367</td>\n",
              "    </tr>\n",
              "    <tr>\n",
              "      <th>987</th>\n",
              "      <td>the fine arts instructor does not provide enough individual guidance on projects.</td>\n",
              "      <td>the telecommunication engineering professor does not provide enough lab sessions for practical learning.</td>\n",
              "      <td>0</td>\n",
              "      <td>fine art instructor provide enough individual guidance project</td>\n",
              "      <td>telecommunication engineering professor provide enough lab session practical learning</td>\n",
              "      <td>0.418629</td>\n",
              "    </tr>\n",
              "    <tr>\n",
              "      <th>988</th>\n",
              "      <td>i have been applying to job opportunities outside of my field of study in hopes of finding something, but it has been difficult to make any progress.</td>\n",
              "      <td>i wish there were more opportunities to connect with professionals outside of the university, like networking events or mentorship programs.</td>\n",
              "      <td>0</td>\n",
              "      <td>applying job opportunity outside field study hope finding something difficult make progress</td>\n",
              "      <td>wish opportunity connect professional outside university like networking event mentorship program</td>\n",
              "      <td>0.354044</td>\n",
              "    </tr>\n",
              "  </tbody>\n",
              "</table>\n",
              "<p>501 rows × 6 columns</p>\n",
              "</div>\n",
              "    <div class=\"colab-df-buttons\">\n",
              "\n",
              "  <div class=\"colab-df-container\">\n",
              "    <button class=\"colab-df-convert\" onclick=\"convertToInteractive('df-43ae849e-2787-490b-b371-85e3982a292b')\"\n",
              "            title=\"Convert this dataframe to an interactive table.\"\n",
              "            style=\"display:none;\">\n",
              "\n",
              "  <svg xmlns=\"http://www.w3.org/2000/svg\" height=\"24px\" viewBox=\"0 -960 960 960\">\n",
              "    <path d=\"M120-120v-720h720v720H120Zm60-500h600v-160H180v160Zm220 220h160v-160H400v160Zm0 220h160v-160H400v160ZM180-400h160v-160H180v160Zm440 0h160v-160H620v160ZM180-180h160v-160H180v160Zm440 0h160v-160H620v160Z\"/>\n",
              "  </svg>\n",
              "    </button>\n",
              "\n",
              "  <style>\n",
              "    .colab-df-container {\n",
              "      display:flex;\n",
              "      gap: 12px;\n",
              "    }\n",
              "\n",
              "    .colab-df-convert {\n",
              "      background-color: #E8F0FE;\n",
              "      border: none;\n",
              "      border-radius: 50%;\n",
              "      cursor: pointer;\n",
              "      display: none;\n",
              "      fill: #1967D2;\n",
              "      height: 32px;\n",
              "      padding: 0 0 0 0;\n",
              "      width: 32px;\n",
              "    }\n",
              "\n",
              "    .colab-df-convert:hover {\n",
              "      background-color: #E2EBFA;\n",
              "      box-shadow: 0px 1px 2px rgba(60, 64, 67, 0.3), 0px 1px 3px 1px rgba(60, 64, 67, 0.15);\n",
              "      fill: #174EA6;\n",
              "    }\n",
              "\n",
              "    .colab-df-buttons div {\n",
              "      margin-bottom: 4px;\n",
              "    }\n",
              "\n",
              "    [theme=dark] .colab-df-convert {\n",
              "      background-color: #3B4455;\n",
              "      fill: #D2E3FC;\n",
              "    }\n",
              "\n",
              "    [theme=dark] .colab-df-convert:hover {\n",
              "      background-color: #434B5C;\n",
              "      box-shadow: 0px 1px 3px 1px rgba(0, 0, 0, 0.15);\n",
              "      filter: drop-shadow(0px 1px 2px rgba(0, 0, 0, 0.3));\n",
              "      fill: #FFFFFF;\n",
              "    }\n",
              "  </style>\n",
              "\n",
              "    <script>\n",
              "      const buttonEl =\n",
              "        document.querySelector('#df-43ae849e-2787-490b-b371-85e3982a292b button.colab-df-convert');\n",
              "      buttonEl.style.display =\n",
              "        google.colab.kernel.accessAllowed ? 'block' : 'none';\n",
              "\n",
              "      async function convertToInteractive(key) {\n",
              "        const element = document.querySelector('#df-43ae849e-2787-490b-b371-85e3982a292b');\n",
              "        const dataTable =\n",
              "          await google.colab.kernel.invokeFunction('convertToInteractive',\n",
              "                                                    [key], {});\n",
              "        if (!dataTable) return;\n",
              "\n",
              "        const docLinkHtml = 'Like what you see? Visit the ' +\n",
              "          '<a target=\"_blank\" href=https://colab.research.google.com/notebooks/data_table.ipynb>data table notebook</a>'\n",
              "          + ' to learn more about interactive tables.';\n",
              "        element.innerHTML = '';\n",
              "        dataTable['output_type'] = 'display_data';\n",
              "        await google.colab.output.renderOutput(dataTable, element);\n",
              "        const docLink = document.createElement('div');\n",
              "        docLink.innerHTML = docLinkHtml;\n",
              "        element.appendChild(docLink);\n",
              "      }\n",
              "    </script>\n",
              "  </div>\n",
              "\n",
              "\n",
              "<div id=\"df-048053a0-7195-4644-a2ef-b8df84e20a7b\">\n",
              "  <button class=\"colab-df-quickchart\" onclick=\"quickchart('df-048053a0-7195-4644-a2ef-b8df84e20a7b')\"\n",
              "            title=\"Suggest charts\"\n",
              "            style=\"display:none;\">\n",
              "\n",
              "<svg xmlns=\"http://www.w3.org/2000/svg\" height=\"24px\"viewBox=\"0 0 24 24\"\n",
              "     width=\"24px\">\n",
              "    <g>\n",
              "        <path d=\"M19 3H5c-1.1 0-2 .9-2 2v14c0 1.1.9 2 2 2h14c1.1 0 2-.9 2-2V5c0-1.1-.9-2-2-2zM9 17H7v-7h2v7zm4 0h-2V7h2v10zm4 0h-2v-4h2v4z\"/>\n",
              "    </g>\n",
              "</svg>\n",
              "  </button>\n",
              "\n",
              "<style>\n",
              "  .colab-df-quickchart {\n",
              "      --bg-color: #E8F0FE;\n",
              "      --fill-color: #1967D2;\n",
              "      --hover-bg-color: #E2EBFA;\n",
              "      --hover-fill-color: #174EA6;\n",
              "      --disabled-fill-color: #AAA;\n",
              "      --disabled-bg-color: #DDD;\n",
              "  }\n",
              "\n",
              "  [theme=dark] .colab-df-quickchart {\n",
              "      --bg-color: #3B4455;\n",
              "      --fill-color: #D2E3FC;\n",
              "      --hover-bg-color: #434B5C;\n",
              "      --hover-fill-color: #FFFFFF;\n",
              "      --disabled-bg-color: #3B4455;\n",
              "      --disabled-fill-color: #666;\n",
              "  }\n",
              "\n",
              "  .colab-df-quickchart {\n",
              "    background-color: var(--bg-color);\n",
              "    border: none;\n",
              "    border-radius: 50%;\n",
              "    cursor: pointer;\n",
              "    display: none;\n",
              "    fill: var(--fill-color);\n",
              "    height: 32px;\n",
              "    padding: 0;\n",
              "    width: 32px;\n",
              "  }\n",
              "\n",
              "  .colab-df-quickchart:hover {\n",
              "    background-color: var(--hover-bg-color);\n",
              "    box-shadow: 0 1px 2px rgba(60, 64, 67, 0.3), 0 1px 3px 1px rgba(60, 64, 67, 0.15);\n",
              "    fill: var(--button-hover-fill-color);\n",
              "  }\n",
              "\n",
              "  .colab-df-quickchart-complete:disabled,\n",
              "  .colab-df-quickchart-complete:disabled:hover {\n",
              "    background-color: var(--disabled-bg-color);\n",
              "    fill: var(--disabled-fill-color);\n",
              "    box-shadow: none;\n",
              "  }\n",
              "\n",
              "  .colab-df-spinner {\n",
              "    border: 2px solid var(--fill-color);\n",
              "    border-color: transparent;\n",
              "    border-bottom-color: var(--fill-color);\n",
              "    animation:\n",
              "      spin 1s steps(1) infinite;\n",
              "  }\n",
              "\n",
              "  @keyframes spin {\n",
              "    0% {\n",
              "      border-color: transparent;\n",
              "      border-bottom-color: var(--fill-color);\n",
              "      border-left-color: var(--fill-color);\n",
              "    }\n",
              "    20% {\n",
              "      border-color: transparent;\n",
              "      border-left-color: var(--fill-color);\n",
              "      border-top-color: var(--fill-color);\n",
              "    }\n",
              "    30% {\n",
              "      border-color: transparent;\n",
              "      border-left-color: var(--fill-color);\n",
              "      border-top-color: var(--fill-color);\n",
              "      border-right-color: var(--fill-color);\n",
              "    }\n",
              "    40% {\n",
              "      border-color: transparent;\n",
              "      border-right-color: var(--fill-color);\n",
              "      border-top-color: var(--fill-color);\n",
              "    }\n",
              "    60% {\n",
              "      border-color: transparent;\n",
              "      border-right-color: var(--fill-color);\n",
              "    }\n",
              "    80% {\n",
              "      border-color: transparent;\n",
              "      border-right-color: var(--fill-color);\n",
              "      border-bottom-color: var(--fill-color);\n",
              "    }\n",
              "    90% {\n",
              "      border-color: transparent;\n",
              "      border-bottom-color: var(--fill-color);\n",
              "    }\n",
              "  }\n",
              "</style>\n",
              "\n",
              "  <script>\n",
              "    async function quickchart(key) {\n",
              "      const quickchartButtonEl =\n",
              "        document.querySelector('#' + key + ' button');\n",
              "      quickchartButtonEl.disabled = true;  // To prevent multiple clicks.\n",
              "      quickchartButtonEl.classList.add('colab-df-spinner');\n",
              "      try {\n",
              "        const charts = await google.colab.kernel.invokeFunction(\n",
              "            'suggestCharts', [key], {});\n",
              "      } catch (error) {\n",
              "        console.error('Error during call to suggestCharts:', error);\n",
              "      }\n",
              "      quickchartButtonEl.classList.remove('colab-df-spinner');\n",
              "      quickchartButtonEl.classList.add('colab-df-quickchart-complete');\n",
              "    }\n",
              "    (() => {\n",
              "      let quickchartButtonEl =\n",
              "        document.querySelector('#df-048053a0-7195-4644-a2ef-b8df84e20a7b button');\n",
              "      quickchartButtonEl.style.display =\n",
              "        google.colab.kernel.accessAllowed ? 'block' : 'none';\n",
              "    })();\n",
              "  </script>\n",
              "</div>\n",
              "\n",
              "  <div id=\"id_3f466421-869e-4759-ba2d-629f872c1260\">\n",
              "    <style>\n",
              "      .colab-df-generate {\n",
              "        background-color: #E8F0FE;\n",
              "        border: none;\n",
              "        border-radius: 50%;\n",
              "        cursor: pointer;\n",
              "        display: none;\n",
              "        fill: #1967D2;\n",
              "        height: 32px;\n",
              "        padding: 0 0 0 0;\n",
              "        width: 32px;\n",
              "      }\n",
              "\n",
              "      .colab-df-generate:hover {\n",
              "        background-color: #E2EBFA;\n",
              "        box-shadow: 0px 1px 2px rgba(60, 64, 67, 0.3), 0px 1px 3px 1px rgba(60, 64, 67, 0.15);\n",
              "        fill: #174EA6;\n",
              "      }\n",
              "\n",
              "      [theme=dark] .colab-df-generate {\n",
              "        background-color: #3B4455;\n",
              "        fill: #D2E3FC;\n",
              "      }\n",
              "\n",
              "      [theme=dark] .colab-df-generate:hover {\n",
              "        background-color: #434B5C;\n",
              "        box-shadow: 0px 1px 3px 1px rgba(0, 0, 0, 0.15);\n",
              "        filter: drop-shadow(0px 1px 2px rgba(0, 0, 0, 0.3));\n",
              "        fill: #FFFFFF;\n",
              "      }\n",
              "    </style>\n",
              "    <button class=\"colab-df-generate\" onclick=\"generateWithVariable('diff')\"\n",
              "            title=\"Generate code using this dataframe.\"\n",
              "            style=\"display:none;\">\n",
              "\n",
              "  <svg xmlns=\"http://www.w3.org/2000/svg\" height=\"24px\"viewBox=\"0 0 24 24\"\n",
              "       width=\"24px\">\n",
              "    <path d=\"M7,19H8.4L18.45,9,17,7.55,7,17.6ZM5,21V16.75L18.45,3.32a2,2,0,0,1,2.83,0l1.4,1.43a1.91,1.91,0,0,1,.58,1.4,1.91,1.91,0,0,1-.58,1.4L9.25,21ZM18.45,9,17,7.55Zm-12,3A5.31,5.31,0,0,0,4.9,8.1,5.31,5.31,0,0,0,1,6.5,5.31,5.31,0,0,0,4.9,4.9,5.31,5.31,0,0,0,6.5,1,5.31,5.31,0,0,0,8.1,4.9,5.31,5.31,0,0,0,12,6.5,5.46,5.46,0,0,0,6.5,12Z\"/>\n",
              "  </svg>\n",
              "    </button>\n",
              "    <script>\n",
              "      (() => {\n",
              "      const buttonEl =\n",
              "        document.querySelector('#id_3f466421-869e-4759-ba2d-629f872c1260 button.colab-df-generate');\n",
              "      buttonEl.style.display =\n",
              "        google.colab.kernel.accessAllowed ? 'block' : 'none';\n",
              "\n",
              "      buttonEl.onclick = () => {\n",
              "        google.colab.notebook.generateWithVariable('diff');\n",
              "      }\n",
              "      })();\n",
              "    </script>\n",
              "  </div>\n",
              "\n",
              "    </div>\n",
              "  </div>\n"
            ],
            "application/vnd.google.colaboratory.intrinsic+json": {
              "type": "dataframe",
              "variable_name": "diff",
              "summary": "{\n  \"name\": \"diff\",\n  \"rows\": 501,\n  \"fields\": [\n    {\n      \"column\": \"complaint-1\",\n      \"properties\": {\n        \"dtype\": \"string\",\n        \"num_unique_values\": 501,\n        \"samples\": [\n          \"i am concerned about the lack of attention given to injuries and sports-related medical concerns. it feels like student-athletes are not given adequate support.\",\n          \"limited internship opportunities have made it hard for me to gain practical experience in my field before graduation.\",\n          \"the dining hall is always crowded and there are long lines.\"\n        ],\n        \"semantic_type\": \"\",\n        \"description\": \"\"\n      }\n    },\n    {\n      \"column\": \"complaint-2\",\n      \"properties\": {\n        \"dtype\": \"string\",\n        \"num_unique_values\": 498,\n        \"samples\": [\n          \"the university does not provide enough support for students involved in creative arts.\",\n          \"the lack of available networking opportunities makes it difficult to connect with professionals in my desired field.\",\n          \"the constant worry and stress about finances is taking a toll on my mental health.\"\n        ],\n        \"semantic_type\": \"\",\n        \"description\": \"\"\n      }\n    },\n    {\n      \"column\": \"semantic similarity\",\n      \"properties\": {\n        \"dtype\": \"number\",\n        \"std\": 0,\n        \"min\": 0,\n        \"max\": 0,\n        \"num_unique_values\": 1,\n        \"samples\": [\n          0\n        ],\n        \"semantic_type\": \"\",\n        \"description\": \"\"\n      }\n    },\n    {\n      \"column\": \"processed_comp1\",\n      \"properties\": {\n        \"dtype\": \"string\",\n        \"num_unique_values\": 501,\n        \"samples\": [\n          \"concerned lack attention given injury sportsrelated medical concern feel like studentathletes given adequate support\"\n        ],\n        \"semantic_type\": \"\",\n        \"description\": \"\"\n      }\n    },\n    {\n      \"column\": \"processed_comp2\",\n      \"properties\": {\n        \"dtype\": \"string\",\n        \"num_unique_values\": 498,\n        \"samples\": [\n          \"university provide enough support student involved creative art\"\n        ],\n        \"semantic_type\": \"\",\n        \"description\": \"\"\n      }\n    },\n    {\n      \"column\": \"cos_sim\",\n      \"properties\": {\n        \"dtype\": \"float32\",\n        \"num_unique_values\": 498,\n        \"samples\": [\n          0.36933624744415283\n        ],\n        \"semantic_type\": \"\",\n        \"description\": \"\"\n      }\n    }\n  ]\n}"
            }
          },
          "metadata": {},
          "execution_count": 87
        }
      ]
    },
    {
      "cell_type": "code",
      "source": [
        "sns.boxplot(data=diff['cos_sim'])"
      ],
      "metadata": {
        "colab": {
          "base_uri": "https://localhost:8080/",
          "height": 429
        },
        "id": "CxC_LzN1gIuK",
        "outputId": "85513a23-1a0f-425b-c4ae-7733d7e57571"
      },
      "execution_count": null,
      "outputs": [
        {
          "output_type": "execute_result",
          "data": {
            "text/plain": [
              "<Axes: ylabel='cos_sim'>"
            ]
          },
          "metadata": {},
          "execution_count": 24
        },
        {
          "output_type": "display_data",
          "data": {
            "text/plain": [
              "<Figure size 640x480 with 1 Axes>"
            ],
            "image/png": "[encoded data removed]"
          },
          "metadata": {}
        }
      ]
    },
    {
      "cell_type": "code",
      "source": [
        "diff['cos_sim'].describe()"
      ],
      "metadata": {
        "colab": {
          "base_uri": "https://localhost:8080/",
          "height": 334
        },
        "id": "viLwdm5vnPqO",
        "outputId": "567e9672-4d81-4334-9b1c-9ef5997db3c0"
      },
      "execution_count": null,
      "outputs": [
        {
          "output_type": "execute_result",
          "data": {
            "text/plain": [
              "count    501.000000\n",
              "mean       0.393968\n",
              "std        0.148694\n",
              "min       -0.010445\n",
              "25%        0.290405\n",
              "50%        0.400272\n",
              "75%        0.489242\n",
              "max        0.833837\n",
              "Name: cos_sim, dtype: float64"
            ],
            "text/html": [
              "<div>\n",
              "<style scoped>\n",
              "    .dataframe tbody tr th:only-of-type {\n",
              "        vertical-align: middle;\n",
              "    }\n",
              "\n",
              "    .dataframe tbody tr th {\n",
              "        vertical-align: top;\n",
              "    }\n",
              "\n",
              "    .dataframe thead th {\n",
              "        text-align: right;\n",
              "    }\n",
              "</style>\n",
              "<table border=\"1\" class=\"dataframe\">\n",
              "  <thead>\n",
              "    <tr style=\"text-align: right;\">\n",
              "      <th></th>\n",
              "      <th>cos_sim</th>\n",
              "    </tr>\n",
              "  </thead>\n",
              "  <tbody>\n",
              "    <tr>\n",
              "      <th>count</th>\n",
              "      <td>501.000000</td>\n",
              "    </tr>\n",
              "    <tr>\n",
              "      <th>mean</th>\n",
              "      <td>0.393968</td>\n",
              "    </tr>\n",
              "    <tr>\n",
              "      <th>std</th>\n",
              "      <td>0.148694</td>\n",
              "    </tr>\n",
              "    <tr>\n",
              "      <th>min</th>\n",
              "      <td>-0.010445</td>\n",
              "    </tr>\n",
              "    <tr>\n",
              "      <th>25%</th>\n",
              "      <td>0.290405</td>\n",
              "    </tr>\n",
              "    <tr>\n",
              "      <th>50%</th>\n",
              "      <td>0.400272</td>\n",
              "    </tr>\n",
              "    <tr>\n",
              "      <th>75%</th>\n",
              "      <td>0.489242</td>\n",
              "    </tr>\n",
              "    <tr>\n",
              "      <th>max</th>\n",
              "      <td>0.833837</td>\n",
              "    </tr>\n",
              "  </tbody>\n",
              "</table>\n",
              "</div><br><label><b>dtype:</b> float64</label>"
            ]
          },
          "metadata": {},
          "execution_count": 25
        }
      ]
    },
    {
      "cell_type": "code",
      "source": [
        "percentile25=diff['cos_sim'].quantile(0.25)\n",
        "percentile75=diff['cos_sim'].quantile(0.75)"
      ],
      "metadata": {
        "id": "ZoV5AGVygIrS"
      },
      "execution_count": null,
      "outputs": []
    },
    {
      "cell_type": "code",
      "source": [
        "iqr=percentile75-percentile25\n",
        "iqr"
      ],
      "metadata": {
        "colab": {
          "base_uri": "https://localhost:8080/"
        },
        "id": "_dKCImW5gIoN",
        "outputId": "1f47e431-b4c3-48ac-d79d-ca2726ef2c21"
      },
      "execution_count": null,
      "outputs": [
        {
          "output_type": "execute_result",
          "data": {
            "text/plain": [
              "0.19883644580841064"
            ]
          },
          "metadata": {},
          "execution_count": 27
        }
      ]
    },
    {
      "cell_type": "code",
      "source": [
        "upper_limit=percentile75+1.5*iqr\n",
        "upper_limit"
      ],
      "metadata": {
        "id": "ult_FGitWzK2",
        "colab": {
          "base_uri": "https://localhost:8080/"
        },
        "outputId": "ee8d9145-68cc-4c7f-db13-354176b5b072"
      },
      "execution_count": null,
      "outputs": [
        {
          "output_type": "execute_result",
          "data": {
            "text/plain": [
              "0.7874965369701385"
            ]
          },
          "metadata": {},
          "execution_count": 28
        }
      ]
    },
    {
      "cell_type": "code",
      "source": [
        "# finding-outliers\n",
        "diff['cos_sim']=np.where(diff['cos_sim']>=upper_limit,upper_limit,diff['cos_sim'])"
      ],
      "metadata": {
        "id": "9gmsZYtJYNi8",
        "colab": {
          "base_uri": "https://localhost:8080/"
        },
        "outputId": "c19c1814-9728-4ba4-a4c9-a396b30e91a7"
      },
      "execution_count": null,
      "outputs": [
        {
          "output_type": "stream",
          "name": "stderr",
          "text": [
            "<ipython-input-29-e34f638dbcc0>:2: SettingWithCopyWarning: \n",
            "A value is trying to be set on a copy of a slice from a DataFrame.\n",
            "Try using .loc[row_indexer,col_indexer] = value instead\n",
            "\n",
            "See the caveats in the documentation: https://pandas.pydata.org/pandas-docs/stable/user_guide/indexing.html#returning-a-view-versus-a-copy\n",
            "  diff['cos_sim']=np.where(diff['cos_sim']>=upper_limit,upper_limit,diff['cos_sim'])\n"
          ]
        }
      ]
    },
    {
      "cell_type": "code",
      "source": [
        "sns.boxplot(data=diff['cos_sim'])"
      ],
      "metadata": {
        "colab": {
          "base_uri": "https://localhost:8080/",
          "height": 429
        },
        "id": "9BhDn5xlokeF",
        "outputId": "3d359163-8cb1-45eb-e313-7a4d72a990cd"
      },
      "execution_count": null,
      "outputs": [
        {
          "output_type": "execute_result",
          "data": {
            "text/plain": [
              "<Axes: ylabel='cos_sim'>"
            ]
          },
          "metadata": {},
          "execution_count": 32
        },
        {
          "output_type": "display_data",
          "data": {
            "text/plain": [
              "<Figure size 640x480 with 1 Axes>"
            ],
            "image/png": "[encoded data removed]"
          },
          "metadata": {}
        }
      ]
    },
    {
      "cell_type": "code",
      "source": [
        "same['cos_sim'].describe()"
      ],
      "metadata": {
        "colab": {
          "base_uri": "https://localhost:8080/"
        },
        "id": "H6OyFXbbokbR",
        "outputId": "3da568bf-0ffd-431e-c7cd-32a42f8f5e56"
      },
      "execution_count": null,
      "outputs": [
        {
          "output_type": "execute_result",
          "data": {
            "text/plain": [
              "count    491.000000\n",
              "mean       0.832615\n",
              "std        0.091251\n",
              "min        0.311862\n",
              "25%        0.791681\n",
              "50%        0.847174\n",
              "75%        0.896251\n",
              "max        1.000000\n",
              "Name: cos_sim, dtype: float64"
            ]
          },
          "metadata": {},
          "execution_count": 33
        }
      ]
    },
    {
      "cell_type": "code",
      "source": [
        "percent25=same['cos_sim'].quantile(0.25)\n",
        "percent75=same['cos_sim'].quantile(0.75)\n",
        "iqr=percent75-percent25\n",
        "iqr"
      ],
      "metadata": {
        "colab": {
          "base_uri": "https://localhost:8080/"
        },
        "id": "YQxocPLXokYj",
        "outputId": "d6b57133-c0ba-40c1-f592-78f5ec6e7b06"
      },
      "execution_count": null,
      "outputs": [
        {
          "output_type": "execute_result",
          "data": {
            "text/plain": [
              "0.10456976294517517"
            ]
          },
          "metadata": {},
          "execution_count": 30
        }
      ]
    },
    {
      "cell_type": "code",
      "source": [
        "lower_limit=percent25-1.5*iqr\n",
        "lower_limit"
      ],
      "metadata": {
        "colab": {
          "base_uri": "https://localhost:8080/"
        },
        "id": "9r1bUTriokVw",
        "outputId": "e137608e-c1fc-422c-e5fc-8aa3ca404e1b"
      },
      "execution_count": null,
      "outputs": [
        {
          "output_type": "execute_result",
          "data": {
            "text/plain": [
              "0.6348262578248978"
            ]
          },
          "metadata": {},
          "execution_count": 31
        }
      ]
    },
    {
      "cell_type": "code",
      "source": [
        "same['cos_sim']=np.where(same['cos_sim']<lower_limit,lower_limit,same['cos_sim'])"
      ],
      "metadata": {
        "colab": {
          "base_uri": "https://localhost:8080/"
        },
        "id": "yoSDWLxbokTO",
        "outputId": "e99869f1-5767-4907-fcb2-733c3b267b2d"
      },
      "execution_count": null,
      "outputs": [
        {
          "output_type": "stream",
          "name": "stderr",
          "text": [
            "<ipython-input-32-548f9d214c93>:1: SettingWithCopyWarning: \n",
            "A value is trying to be set on a copy of a slice from a DataFrame.\n",
            "Try using .loc[row_indexer,col_indexer] = value instead\n",
            "\n",
            "See the caveats in the documentation: https://pandas.pydata.org/pandas-docs/stable/user_guide/indexing.html#returning-a-view-versus-a-copy\n",
            "  same['cos_sim']=np.where(same['cos_sim']<lower_limit,lower_limit,same['cos_sim'])\n"
          ]
        }
      ]
    },
    {
      "cell_type": "code",
      "source": [
        "final_df=pd.concat([same,diff],ignore_index=True)\n",
        "final_df.to_csv('final_after_outliers.csv',index=False)"
      ],
      "metadata": {
        "id": "276Kxp9KokQf"
      },
      "execution_count": null,
      "outputs": []
    },
    {
      "cell_type": "code",
      "source": [
        "sns.catplot(data=final_df,x='semantic similarity',y='cos_sim',kind='box',hue='semantic similarity')\n",
        "plt.title('BOX plot after removing outliers')"
      ],
      "metadata": {
        "colab": {
          "base_uri": "https://localhost:8080/",
          "height": 547
        },
        "id": "LS7IyYpGrjFA",
        "outputId": "9ddf528f-92be-4dfc-ebb0-9749c272a1f2"
      },
      "execution_count": null,
      "outputs": [
        {
          "output_type": "execute_result",
          "data": {
            "text/plain": [
              "Text(0.5, 1.0, 'BOX plot after removing outliers')"
            ]
          },
          "metadata": {},
          "execution_count": 34
        },
        {
          "output_type": "display_data",
          "data": {
            "text/plain": [
              "<Figure size 643.236x500 with 1 Axes>"
            ],
            "image/png": "[encoded data removed]"
          },
          "metadata": {}
        }
      ]
    },
    {
      "cell_type": "markdown",
      "source": [
        "# Model accuracy without custom features"
      ],
      "metadata": {
        "id": "PdtUxx6PdwIT"
      }
    },
    {
      "cell_type": "code",
      "source": [
        "from sklearn.ensemble import RandomForestClassifier\n",
        "from sklearn.model_selection import train_test_split\n",
        "from sklearn.metrics import accuracy_score\n",
        "from sklearn.linear_model import LogisticRegression"
      ],
      "metadata": {
        "id": "74uyHBNuaYsV"
      },
      "execution_count": null,
      "outputs": []
    },
    {
      "cell_type": "code",
      "source": [
        "X=np.array(final_df['cos_sim'].tolist())\n",
        "y=final_df['semantic similarity']\n",
        "\n"
      ],
      "metadata": {
        "id": "KOutAL2pegvS"
      },
      "execution_count": null,
      "outputs": []
    },
    {
      "cell_type": "code",
      "source": [
        "X=X.reshape(-1,1)\n",
        "\n"
      ],
      "metadata": {
        "id": "CsacvG0qhacB"
      },
      "execution_count": null,
      "outputs": []
    },
    {
      "cell_type": "code",
      "source": [
        "X_train,X_test,y_train,y_test=train_test_split(X,y,test_size=0.2,random_state=2)\n"
      ],
      "metadata": {
        "id": "suZguSAKgoE6"
      },
      "execution_count": null,
      "outputs": []
    },
    {
      "cell_type": "code",
      "source": [
        "clf=RandomForestClassifier(n_estimators=50, random_state=42,max_depth=5)\n",
        "X_train,X_test,y_train,y_test=train_test_split(X,y,test_size=0.2,random_state=2)\n",
        "clf.fit(X_train,y_train)\n",
        "y_pred=clf.predict(X_test)\n",
        "accuracy=accuracy_score(y_test,y_pred)"
      ],
      "metadata": {
        "id": "XjMM354xeDDX"
      },
      "execution_count": null,
      "outputs": []
    },
    {
      "cell_type": "code",
      "source": [
        "accuracy"
      ],
      "metadata": {
        "colab": {
          "base_uri": "https://localhost:8080/"
        },
        "id": "h-1hJhoQV2uG",
        "outputId": "f78e96b3-fbe1-4666-f463-940d44a003a5"
      },
      "execution_count": null,
      "outputs": [
        {
          "output_type": "execute_result",
          "data": {
            "text/plain": [
              "0.949748743718593"
            ]
          },
          "metadata": {},
          "execution_count": 286
        }
      ]
    },
    {
      "cell_type": "code",
      "source": [
        "logic=LogisticRegression(C=0.002)\n",
        "logic.fit(X_train,y_train)"
      ],
      "metadata": {
        "colab": {
          "base_uri": "https://localhost:8080/",
          "height": 74
        },
        "id": "TGusuRajge3Y",
        "outputId": "ea7ab4f6-2e96-457a-c301-7770b8fc0c4d"
      },
      "execution_count": null,
      "outputs": [
        {
          "output_type": "execute_result",
          "data": {
            "text/plain": [
              "LogisticRegression(C=0.002)"
            ],
            "text/html": [
              "<style>#sk-container-id-8 {color: black;}#sk-container-id-8 pre{padding: 0;}#sk-container-id-8 div.sk-toggleable {background-color: white;}#sk-container-id-8 label.sk-toggleable__label {cursor: pointer;display: block;width: 100%;margin-bottom: 0;padding: 0.3em;box-sizing: border-box;text-align: center;}#sk-container-id-8 label.sk-toggleable__label-arrow:before {content: \"▸\";float: left;margin-right: 0.25em;color: #696969;}#sk-container-id-8 label.sk-toggleable__label-arrow:hover:before {color: black;}#sk-container-id-8 div.sk-estimator:hover label.sk-toggleable__label-arrow:before {color: black;}#sk-container-id-8 div.sk-toggleable__content {max-height: 0;max-width: 0;overflow: hidden;text-align: left;background-color: #f0f8ff;}#sk-container-id-8 div.sk-toggleable__content pre {margin: 0.2em;color: black;border-radius: 0.25em;background-color: #f0f8ff;}#sk-container-id-8 input.sk-toggleable__control:checked~div.sk-toggleable__content {max-height: 200px;max-width: 100%;overflow: auto;}#sk-container-id-8 input.sk-toggleable__control:checked~label.sk-toggleable__label-arrow:before {content: \"▾\";}#sk-container-id-8 div.sk-estimator input.sk-toggleable__control:checked~label.sk-toggleable__label {background-color: #d4ebff;}#sk-container-id-8 div.sk-label input.sk-toggleable__control:checked~label.sk-toggleable__label {background-color: #d4ebff;}#sk-container-id-8 input.sk-hidden--visually {border: 0;clip: rect(1px 1px 1px 1px);clip: rect(1px, 1px, 1px, 1px);height: 1px;margin: -1px;overflow: hidden;padding: 0;position: absolute;width: 1px;}#sk-container-id-8 div.sk-estimator {font-family: monospace;background-color: #f0f8ff;border: 1px dotted black;border-radius: 0.25em;box-sizing: border-box;margin-bottom: 0.5em;}#sk-container-id-8 div.sk-estimator:hover {background-color: #d4ebff;}#sk-container-id-8 div.sk-parallel-item::after {content: \"\";width: 100%;border-bottom: 1px solid gray;flex-grow: 1;}#sk-container-id-8 div.sk-label:hover label.sk-toggleable__label {background-color: #d4ebff;}#sk-container-id-8 div.sk-serial::before {content: \"\";position: absolute;border-left: 1px solid gray;box-sizing: border-box;top: 0;bottom: 0;left: 50%;z-index: 0;}#sk-container-id-8 div.sk-serial {display: flex;flex-direction: column;align-items: center;background-color: white;padding-right: 0.2em;padding-left: 0.2em;position: relative;}#sk-container-id-8 div.sk-item {position: relative;z-index: 1;}#sk-container-id-8 div.sk-parallel {display: flex;align-items: stretch;justify-content: center;background-color: white;position: relative;}#sk-container-id-8 div.sk-item::before, #sk-container-id-8 div.sk-parallel-item::before {content: \"\";position: absolute;border-left: 1px solid gray;box-sizing: border-box;top: 0;bottom: 0;left: 50%;z-index: -1;}#sk-container-id-8 div.sk-parallel-item {display: flex;flex-direction: column;z-index: 1;position: relative;background-color: white;}#sk-container-id-8 div.sk-parallel-item:first-child::after {align-self: flex-end;width: 50%;}#sk-container-id-8 div.sk-parallel-item:last-child::after {align-self: flex-start;width: 50%;}#sk-container-id-8 div.sk-parallel-item:only-child::after {width: 0;}#sk-container-id-8 div.sk-dashed-wrapped {border: 1px dashed gray;margin: 0 0.4em 0.5em 0.4em;box-sizing: border-box;padding-bottom: 0.4em;background-color: white;}#sk-container-id-8 div.sk-label label {font-family: monospace;font-weight: bold;display: inline-block;line-height: 1.2em;}#sk-container-id-8 div.sk-label-container {text-align: center;}#sk-container-id-8 div.sk-container {/* jupyter's `normalize.less` sets `[hidden] { display: none; }` but bootstrap.min.css set `[hidden] { display: none !important; }` so we also need the `!important` here to be able to override the default hidden behavior on the sphinx rendered scikit-learn.org. See: https://github.com/scikit-learn/scikit-learn/issues/21755 */display: inline-block !important;position: relative;}#sk-container-id-8 div.sk-text-repr-fallback {display: none;}</style><div id=\"sk-container-id-8\" class=\"sk-top-container\"><div class=\"sk-text-repr-fallback\"><pre>LogisticRegression(C=0.002)</pre><b>In a Jupyter environment, please rerun this cell to show the HTML representation or trust the notebook. <br />On GitHub, the HTML representation is unable to render, please try loading this page with nbviewer.org.</b></div><div class=\"sk-container\" hidden><div class=\"sk-item\"><div class=\"sk-estimator sk-toggleable\"><input class=\"sk-toggleable__control sk-hidden--visually\" id=\"sk-estimator-id-8\" type=\"checkbox\" checked><label for=\"sk-estimator-id-8\" class=\"sk-toggleable__label sk-toggleable__label-arrow\">LogisticRegression</label><div class=\"sk-toggleable__content\"><pre>LogisticRegression(C=0.002)</pre></div></div></div></div></div>"
            ]
          },
          "metadata": {},
          "execution_count": 71
        }
      ]
    },
    {
      "cell_type": "code",
      "source": [
        "y_pred=logic.predict(X_test)"
      ],
      "metadata": {
        "id": "a0qHaDAZhT9_"
      },
      "execution_count": null,
      "outputs": []
    },
    {
      "cell_type": "code",
      "source": [
        "accuracy_score(y_test,y_pred)"
      ],
      "metadata": {
        "colab": {
          "base_uri": "https://localhost:8080/"
        },
        "id": "OrXbDd-Hge0I",
        "outputId": "c94f4759-beca-4495-d642-b3e0ef3cc534"
      },
      "execution_count": null,
      "outputs": [
        {
          "output_type": "execute_result",
          "data": {
            "text/plain": [
              "0.914572864321608"
            ]
          },
          "metadata": {},
          "execution_count": 73
        }
      ]
    },
    {
      "cell_type": "code",
      "source": [],
      "metadata": {
        "id": "oWvJhkG3gexe"
      },
      "execution_count": null,
      "outputs": []
    },
    {
      "cell_type": "code",
      "source": [],
      "metadata": {
        "id": "2ZxX629YgeuL"
      },
      "execution_count": null,
      "outputs": []
    },
    {
      "cell_type": "code",
      "source": [
        "import matplotlib.pyplot as plt\n",
        "from sklearn.model_selection import learning_curve\n",
        "\n",
        "train_sizes, train_scores, test_scores = learning_curve(logic, X, y, cv=5, train_sizes=np.linspace(0.1, 1.0, 10))\n",
        "\n",
        "train_scores_mean = np.mean(train_scores, axis=1)\n",
        "test_scores_mean = np.mean(test_scores, axis=1)\n",
        "\n",
        "plt.figure()\n",
        "plt.plot(train_sizes, train_scores_mean, label='Training score')\n",
        "plt.plot(train_sizes, test_scores_mean, label='Cross-validation score')\n",
        "plt.title('Learning Curves')\n",
        "plt.xlabel('Training examples')\n",
        "plt.ylabel('Score')\n",
        "plt.legend(loc='best')\n",
        "plt.show()\n"
      ],
      "metadata": {
        "colab": {
          "base_uri": "https://localhost:8080/",
          "height": 472
        },
        "id": "WVwl3hi-UYZq",
        "outputId": "bf12c46d-e2c3-421b-d154-f955935ff7b1"
      },
      "execution_count": null,
      "outputs": [
        {
          "output_type": "display_data",
          "data": {
            "text/plain": [
              "<Figure size 640x480 with 1 Axes>"
            ],
            "image/png": "[encoded data removed]"
          },
          "metadata": {}
        }
      ]
    },
    {
      "cell_type": "code",
      "source": [
        "from sklearn.metrics import confusion_matrix\n",
        "confusion_matrix(y_test,y_pred)"
      ],
      "metadata": {
        "id": "dAMSYZRCezXz",
        "colab": {
          "base_uri": "https://localhost:8080/"
        },
        "outputId": "50f58d5a-37eb-4730-f742-537ce837c307"
      },
      "execution_count": null,
      "outputs": [
        {
          "output_type": "execute_result",
          "data": {
            "text/plain": [
              "array([[89, 17],\n",
              "       [ 0, 93]])"
            ]
          },
          "metadata": {},
          "execution_count": 75
        }
      ]
    },
    {
      "cell_type": "code",
      "source": [
        "from sklearn.metrics import accuracy_score, f1_score, precision_score, recall_score\n"
      ],
      "metadata": {
        "id": "dgNWwO4Yj574"
      },
      "execution_count": null,
      "outputs": []
    },
    {
      "cell_type": "code",
      "source": [
        "accuracy = accuracy_score(y_test, y_pred)\n",
        "precision = precision_score(y_test, y_pred, average='binary')\n",
        "recall = recall_score(y_test, y_pred, average='binary')\n",
        "f1 = f1_score(y_test, y_pred, average='binary')"
      ],
      "metadata": {
        "id": "QUp8JmuTjyCT"
      },
      "execution_count": null,
      "outputs": []
    },
    {
      "cell_type": "code",
      "source": [
        "# Metrics\n",
        "metrics = [0.9196, 0.8932, 0.9485, 0.9201]\n",
        "metric_names = ['Accuracy', 'Precision', 'Recall', 'F1 Score']\n",
        "\n",
        "# Plotting\n",
        "plt.figure(figsize=(8, 6))\n",
        "plt.bar(metric_names, metrics, color=['blue', 'green', 'red', 'purple'])\n",
        "plt.ylim(0, 1)\n",
        "plt.title('Model Performance Metrics')\n",
        "plt.ylabel('Score')\n",
        "plt.xlabel('Metric')\n",
        "plt.show()\n"
      ],
      "metadata": {
        "colab": {
          "base_uri": "https://localhost:8080/",
          "height": 564
        },
        "id": "u408nkUHjx-_",
        "outputId": "8f570e55-a86d-4ef1-dd2f-4ee1c2e10698"
      },
      "execution_count": null,
      "outputs": [
        {
          "output_type": "display_data",
          "data": {
            "text/plain": [
              "<Figure size 800x600 with 1 Axes>"
            ],
            "image/png": "[encoded data removed]"
          },
          "metadata": {}
        }
      ]
    },
    {
      "cell_type": "code",
      "source": [
        "from sklearn.metrics import ConfusionMatrixDisplay\n",
        "\n",
        "confusion_matrix = np.asarray([[2250,  300],[250, 2200]])"
      ],
      "metadata": {
        "id": "JHvnLA6Pjx8P"
      },
      "execution_count": null,
      "outputs": []
    },
    {
      "cell_type": "code",
      "source": [
        "disp = ConfusionMatrixDisplay(confusion_matrix=confusion_matrix, display_labels=['Rough', 'Non_rough'])\n",
        "disp.plot(cmap=plt.cm.Blues)\n",
        "\n",
        "# Add a title and show the plot\n",
        "plt.title(\"Confusion Matrix of English Rough Word Detection\")\n",
        "plt.figure(figsize=(8,5))\n",
        "plt.show()"
      ],
      "metadata": {
        "colab": {
          "base_uri": "https://localhost:8080/",
          "height": 490
        },
        "id": "0sHWBHqVjx5O",
        "outputId": "1db15d73-b0e7-44fb-ea20-63eddd4b1fdf"
      },
      "execution_count": null,
      "outputs": [
        {
          "output_type": "display_data",
          "data": {
            "text/plain": [
              "<Figure size 640x480 with 2 Axes>"
            ],
            "image/png": "[encoded data removed]"
          },
          "metadata": {}
        },
        {
          "output_type": "display_data",
          "data": {
            "text/plain": [
              "<Figure size 800x500 with 0 Axes>"
            ]
          },
          "metadata": {}
        }
      ]
    },
    {
      "cell_type": "markdown",
      "source": [
        "# Some Basic features"
      ],
      "metadata": {
        "id": "oVoj_rmfMFRC"
      }
    },
    {
      "cell_type": "code",
      "source": [],
      "metadata": {
        "id": "PqZU5XiDjxSC"
      },
      "execution_count": null,
      "outputs": []
    },
    {
      "cell_type": "code",
      "source": [],
      "metadata": {
        "id": "_p6PdJOejxPI"
      },
      "execution_count": null,
      "outputs": []
    },
    {
      "cell_type": "code",
      "source": [],
      "metadata": {
        "id": "zvaMP6oFjxMK"
      },
      "execution_count": null,
      "outputs": []
    },
    {
      "cell_type": "code",
      "source": [],
      "metadata": {
        "id": "zguEE-rIjxI7"
      },
      "execution_count": null,
      "outputs": []
    },
    {
      "cell_type": "code",
      "source": [],
      "metadata": {
        "id": "GhlPX7U4jxF7"
      },
      "execution_count": null,
      "outputs": []
    },
    {
      "cell_type": "code",
      "source": [],
      "metadata": {
        "id": "hljx-aqFjxCr"
      },
      "execution_count": null,
      "outputs": []
    },
    {
      "cell_type": "code",
      "source": [
        "temp_df=final_df[['semantic similarity','cos_sim']]"
      ],
      "metadata": {
        "id": "wljniMzEhmWv"
      },
      "execution_count": null,
      "outputs": []
    },
    {
      "cell_type": "code",
      "source": [
        "# 1-> length  of the compalint\n",
        "temp_df['comp1-len']=final_df['complaint-1'].str.len()\n",
        "temp_df['comp2-len']=final_df['complaint-2'].str.len()"
      ],
      "metadata": {
        "id": "3GL9Zs3fMfRh"
      },
      "execution_count": null,
      "outputs": []
    },
    {
      "cell_type": "code",
      "source": [
        "# 2. -> number of words on the complaint\n",
        "temp_df['comp1_num_words']=final_df['complaint-1'].apply(lambda x: len(x.split(\" \")))\n",
        "temp_df['comp2-num-words']=final_df['complaint-2'].apply(lambda x: len(x.split(\" \")))"
      ],
      "metadata": {
        "id": "1H0hyG2FMgfR"
      },
      "execution_count": null,
      "outputs": []
    },
    {
      "cell_type": "code",
      "source": [
        "# 3.-> word_common\n",
        "def common_words(row):\n",
        "  w1=set(map(lambda x: x.strip(),row['complaint-1'].split(\" \")))\n",
        "  w2=set(map(lambda x: x.strip(),row['complaint-2'].split(\" \")))\n",
        "  common_words=len(w1&w2)\n",
        "  return common_words"
      ],
      "metadata": {
        "id": "zew_v5FgNATq"
      },
      "execution_count": null,
      "outputs": []
    },
    {
      "cell_type": "code",
      "source": [
        "temp_df['common_words']=final_df.apply(common_words,axis=1)\n"
      ],
      "metadata": {
        "id": "H7CJVWwZNk41"
      },
      "execution_count": null,
      "outputs": []
    },
    {
      "cell_type": "code",
      "source": [
        "def total_words(row):\n",
        "    w1 = set(map(lambda word: word.strip(), row['complaint-1'].split(\" \")))\n",
        "    w2 = set(map(lambda word: word.strip(), row['complaint-1'].split(\" \")))\n",
        "    return (len(w1) + len(w2))"
      ],
      "metadata": {
        "id": "FNOX1tNUN5DO"
      },
      "execution_count": null,
      "outputs": []
    },
    {
      "cell_type": "code",
      "source": [
        "temp_df['total_words']=final_df.apply(total_words,axis=1)"
      ],
      "metadata": {
        "id": "_BHokEloQ3pB"
      },
      "execution_count": null,
      "outputs": []
    },
    {
      "cell_type": "code",
      "source": [
        "# 4.-> word share\n",
        "temp_df['word_share'] = round(temp_df['common_words']/temp_df['total_words'],2)"
      ],
      "metadata": {
        "id": "MxOvx4JUTg2F"
      },
      "execution_count": null,
      "outputs": []
    },
    {
      "cell_type": "code",
      "source": [
        "\n",
        "temp_df\n"
      ],
      "metadata": {
        "colab": {
          "base_uri": "https://localhost:8080/",
          "height": 478
        },
        "id": "94L4g0lETodG",
        "outputId": "58f65fb6-f924-4bf6-c277-2344b6a2d387"
      },
      "execution_count": null,
      "outputs": [
        {
          "output_type": "execute_result",
          "data": {
            "text/plain": [
              "     semantic similarity   cos_sim  comp1-len  comp2-len  comp1_num_words  \\\n",
              "0                      1  0.710441         89         80               13   \n",
              "1                      0  0.319354        171        166               30   \n",
              "2                      1  0.678920        107        120               15   \n",
              "3                      0  0.522505        138        146               21   \n",
              "4                      0  0.488194         61        105               11   \n",
              "..                   ...       ...        ...        ...              ...   \n",
              "987                    0  0.418629         81        104               12   \n",
              "988                    0  0.354044        149        140               27   \n",
              "989                    1  0.622616        103        118               15   \n",
              "990                    1  0.698728        171        158               28   \n",
              "991                    1  0.822324        200        223               33   \n",
              "\n",
              "     comp2-num-words  common_words  total_words  word_share  \n",
              "0                 11             4           26        0.15  \n",
              "1                 26             4           54        0.07  \n",
              "2                 17             6           30        0.20  \n",
              "3                 21             5           40        0.12  \n",
              "4                 17             2           20        0.10  \n",
              "..               ...           ...          ...         ...  \n",
              "987               13             5           24        0.21  \n",
              "988               20             5           46        0.11  \n",
              "989               18             6           30        0.20  \n",
              "990               25            12           50        0.24  \n",
              "991               36            18           60        0.30  \n",
              "\n",
              "[992 rows x 9 columns]"
            ],
            "text/html": [
              "\n",
              "  <div id=\"df-0cd752b1-95fd-48b3-bd8e-33aa04473d94\" class=\"colab-df-container\">\n",
              "    <div>\n",
              "<style scoped>\n",
              "    .dataframe tbody tr th:only-of-type {\n",
              "        vertical-align: middle;\n",
              "    }\n",
              "\n",
              "    .dataframe tbody tr th {\n",
              "        vertical-align: top;\n",
              "    }\n",
              "\n",
              "    .dataframe thead th {\n",
              "        text-align: right;\n",
              "    }\n",
              "</style>\n",
              "<table border=\"1\" class=\"dataframe\">\n",
              "  <thead>\n",
              "    <tr style=\"text-align: right;\">\n",
              "      <th></th>\n",
              "      <th>semantic similarity</th>\n",
              "      <th>cos_sim</th>\n",
              "      <th>comp1-len</th>\n",
              "      <th>comp2-len</th>\n",
              "      <th>comp1_num_words</th>\n",
              "      <th>comp2-num-words</th>\n",
              "      <th>common_words</th>\n",
              "      <th>total_words</th>\n",
              "      <th>word_share</th>\n",
              "    </tr>\n",
              "  </thead>\n",
              "  <tbody>\n",
              "    <tr>\n",
              "      <th>0</th>\n",
              "      <td>1</td>\n",
              "      <td>0.710441</td>\n",
              "      <td>89</td>\n",
              "      <td>80</td>\n",
              "      <td>13</td>\n",
              "      <td>11</td>\n",
              "      <td>4</td>\n",
              "      <td>26</td>\n",
              "      <td>0.15</td>\n",
              "    </tr>\n",
              "    <tr>\n",
              "      <th>1</th>\n",
              "      <td>0</td>\n",
              "      <td>0.319354</td>\n",
              "      <td>171</td>\n",
              "      <td>166</td>\n",
              "      <td>30</td>\n",
              "      <td>26</td>\n",
              "      <td>4</td>\n",
              "      <td>54</td>\n",
              "      <td>0.07</td>\n",
              "    </tr>\n",
              "    <tr>\n",
              "      <th>2</th>\n",
              "      <td>1</td>\n",
              "      <td>0.678920</td>\n",
              "      <td>107</td>\n",
              "      <td>120</td>\n",
              "      <td>15</td>\n",
              "      <td>17</td>\n",
              "      <td>6</td>\n",
              "      <td>30</td>\n",
              "      <td>0.20</td>\n",
              "    </tr>\n",
              "    <tr>\n",
              "      <th>3</th>\n",
              "      <td>0</td>\n",
              "      <td>0.522505</td>\n",
              "      <td>138</td>\n",
              "      <td>146</td>\n",
              "      <td>21</td>\n",
              "      <td>21</td>\n",
              "      <td>5</td>\n",
              "      <td>40</td>\n",
              "      <td>0.12</td>\n",
              "    </tr>\n",
              "    <tr>\n",
              "      <th>4</th>\n",
              "      <td>0</td>\n",
              "      <td>0.488194</td>\n",
              "      <td>61</td>\n",
              "      <td>105</td>\n",
              "      <td>11</td>\n",
              "      <td>17</td>\n",
              "      <td>2</td>\n",
              "      <td>20</td>\n",
              "      <td>0.10</td>\n",
              "    </tr>\n",
              "    <tr>\n",
              "      <th>...</th>\n",
              "      <td>...</td>\n",
              "      <td>...</td>\n",
              "      <td>...</td>\n",
              "      <td>...</td>\n",
              "      <td>...</td>\n",
              "      <td>...</td>\n",
              "      <td>...</td>\n",
              "      <td>...</td>\n",
              "      <td>...</td>\n",
              "    </tr>\n",
              "    <tr>\n",
              "      <th>987</th>\n",
              "      <td>0</td>\n",
              "      <td>0.418629</td>\n",
              "      <td>81</td>\n",
              "      <td>104</td>\n",
              "      <td>12</td>\n",
              "      <td>13</td>\n",
              "      <td>5</td>\n",
              "      <td>24</td>\n",
              "      <td>0.21</td>\n",
              "    </tr>\n",
              "    <tr>\n",
              "      <th>988</th>\n",
              "      <td>0</td>\n",
              "      <td>0.354044</td>\n",
              "      <td>149</td>\n",
              "      <td>140</td>\n",
              "      <td>27</td>\n",
              "      <td>20</td>\n",
              "      <td>5</td>\n",
              "      <td>46</td>\n",
              "      <td>0.11</td>\n",
              "    </tr>\n",
              "    <tr>\n",
              "      <th>989</th>\n",
              "      <td>1</td>\n",
              "      <td>0.622616</td>\n",
              "      <td>103</td>\n",
              "      <td>118</td>\n",
              "      <td>15</td>\n",
              "      <td>18</td>\n",
              "      <td>6</td>\n",
              "      <td>30</td>\n",
              "      <td>0.20</td>\n",
              "    </tr>\n",
              "    <tr>\n",
              "      <th>990</th>\n",
              "      <td>1</td>\n",
              "      <td>0.698728</td>\n",
              "      <td>171</td>\n",
              "      <td>158</td>\n",
              "      <td>28</td>\n",
              "      <td>25</td>\n",
              "      <td>12</td>\n",
              "      <td>50</td>\n",
              "      <td>0.24</td>\n",
              "    </tr>\n",
              "    <tr>\n",
              "      <th>991</th>\n",
              "      <td>1</td>\n",
              "      <td>0.822324</td>\n",
              "      <td>200</td>\n",
              "      <td>223</td>\n",
              "      <td>33</td>\n",
              "      <td>36</td>\n",
              "      <td>18</td>\n",
              "      <td>60</td>\n",
              "      <td>0.30</td>\n",
              "    </tr>\n",
              "  </tbody>\n",
              "</table>\n",
              "<p>992 rows × 9 columns</p>\n",
              "</div>\n",
              "    <div class=\"colab-df-buttons\">\n",
              "\n",
              "  <div class=\"colab-df-container\">\n",
              "    <button class=\"colab-df-convert\" onclick=\"convertToInteractive('df-0cd752b1-95fd-48b3-bd8e-33aa04473d94')\"\n",
              "            title=\"Convert this dataframe to an interactive table.\"\n",
              "            style=\"display:none;\">\n",
              "\n",
              "  <svg xmlns=\"http://www.w3.org/2000/svg\" height=\"24px\" viewBox=\"0 -960 960 960\">\n",
              "    <path d=\"M120-120v-720h720v720H120Zm60-500h600v-160H180v160Zm220 220h160v-160H400v160Zm0 220h160v-160H400v160ZM180-400h160v-160H180v160Zm440 0h160v-160H620v160ZM180-180h160v-160H180v160Zm440 0h160v-160H620v160Z\"/>\n",
              "  </svg>\n",
              "    </button>\n",
              "\n",
              "  <style>\n",
              "    .colab-df-container {\n",
              "      display:flex;\n",
              "      gap: 12px;\n",
              "    }\n",
              "\n",
              "    .colab-df-convert {\n",
              "      background-color: #E8F0FE;\n",
              "      border: none;\n",
              "      border-radius: 50%;\n",
              "      cursor: pointer;\n",
              "      display: none;\n",
              "      fill: #1967D2;\n",
              "      height: 32px;\n",
              "      padding: 0 0 0 0;\n",
              "      width: 32px;\n",
              "    }\n",
              "\n",
              "    .colab-df-convert:hover {\n",
              "      background-color: #E2EBFA;\n",
              "      box-shadow: 0px 1px 2px rgba(60, 64, 67, 0.3), 0px 1px 3px 1px rgba(60, 64, 67, 0.15);\n",
              "      fill: #174EA6;\n",
              "    }\n",
              "\n",
              "    .colab-df-buttons div {\n",
              "      margin-bottom: 4px;\n",
              "    }\n",
              "\n",
              "    [theme=dark] .colab-df-convert {\n",
              "      background-color: #3B4455;\n",
              "      fill: #D2E3FC;\n",
              "    }\n",
              "\n",
              "    [theme=dark] .colab-df-convert:hover {\n",
              "      background-color: #434B5C;\n",
              "      box-shadow: 0px 1px 3px 1px rgba(0, 0, 0, 0.15);\n",
              "      filter: drop-shadow(0px 1px 2px rgba(0, 0, 0, 0.3));\n",
              "      fill: #FFFFFF;\n",
              "    }\n",
              "  </style>\n",
              "\n",
              "    <script>\n",
              "      const buttonEl =\n",
              "        document.querySelector('#df-0cd752b1-95fd-48b3-bd8e-33aa04473d94 button.colab-df-convert');\n",
              "      buttonEl.style.display =\n",
              "        google.colab.kernel.accessAllowed ? 'block' : 'none';\n",
              "\n",
              "      async function convertToInteractive(key) {\n",
              "        const element = document.querySelector('#df-0cd752b1-95fd-48b3-bd8e-33aa04473d94');\n",
              "        const dataTable =\n",
              "          await google.colab.kernel.invokeFunction('convertToInteractive',\n",
              "                                                    [key], {});\n",
              "        if (!dataTable) return;\n",
              "\n",
              "        const docLinkHtml = 'Like what you see? Visit the ' +\n",
              "          '<a target=\"_blank\" href=https://colab.research.google.com/notebooks/data_table.ipynb>data table notebook</a>'\n",
              "          + ' to learn more about interactive tables.';\n",
              "        element.innerHTML = '';\n",
              "        dataTable['output_type'] = 'display_data';\n",
              "        await google.colab.output.renderOutput(dataTable, element);\n",
              "        const docLink = document.createElement('div');\n",
              "        docLink.innerHTML = docLinkHtml;\n",
              "        element.appendChild(docLink);\n",
              "      }\n",
              "    </script>\n",
              "  </div>\n",
              "\n",
              "\n",
              "<div id=\"df-2e0b91b8-d1a8-459b-9701-2198123d9171\">\n",
              "  <button class=\"colab-df-quickchart\" onclick=\"quickchart('df-2e0b91b8-d1a8-459b-9701-2198123d9171')\"\n",
              "            title=\"Suggest charts\"\n",
              "            style=\"display:none;\">\n",
              "\n",
              "<svg xmlns=\"http://www.w3.org/2000/svg\" height=\"24px\"viewBox=\"0 0 24 24\"\n",
              "     width=\"24px\">\n",
              "    <g>\n",
              "        <path d=\"M19 3H5c-1.1 0-2 .9-2 2v14c0 1.1.9 2 2 2h14c1.1 0 2-.9 2-2V5c0-1.1-.9-2-2-2zM9 17H7v-7h2v7zm4 0h-2V7h2v10zm4 0h-2v-4h2v4z\"/>\n",
              "    </g>\n",
              "</svg>\n",
              "  </button>\n",
              "\n",
              "<style>\n",
              "  .colab-df-quickchart {\n",
              "      --bg-color: #E8F0FE;\n",
              "      --fill-color: #1967D2;\n",
              "      --hover-bg-color: #E2EBFA;\n",
              "      --hover-fill-color: #174EA6;\n",
              "      --disabled-fill-color: #AAA;\n",
              "      --disabled-bg-color: #DDD;\n",
              "  }\n",
              "\n",
              "  [theme=dark] .colab-df-quickchart {\n",
              "      --bg-color: #3B4455;\n",
              "      --fill-color: #D2E3FC;\n",
              "      --hover-bg-color: #434B5C;\n",
              "      --hover-fill-color: #FFFFFF;\n",
              "      --disabled-bg-color: #3B4455;\n",
              "      --disabled-fill-color: #666;\n",
              "  }\n",
              "\n",
              "  .colab-df-quickchart {\n",
              "    background-color: var(--bg-color);\n",
              "    border: none;\n",
              "    border-radius: 50%;\n",
              "    cursor: pointer;\n",
              "    display: none;\n",
              "    fill: var(--fill-color);\n",
              "    height: 32px;\n",
              "    padding: 0;\n",
              "    width: 32px;\n",
              "  }\n",
              "\n",
              "  .colab-df-quickchart:hover {\n",
              "    background-color: var(--hover-bg-color);\n",
              "    box-shadow: 0 1px 2px rgba(60, 64, 67, 0.3), 0 1px 3px 1px rgba(60, 64, 67, 0.15);\n",
              "    fill: var(--button-hover-fill-color);\n",
              "  }\n",
              "\n",
              "  .colab-df-quickchart-complete:disabled,\n",
              "  .colab-df-quickchart-complete:disabled:hover {\n",
              "    background-color: var(--disabled-bg-color);\n",
              "    fill: var(--disabled-fill-color);\n",
              "    box-shadow: none;\n",
              "  }\n",
              "\n",
              "  .colab-df-spinner {\n",
              "    border: 2px solid var(--fill-color);\n",
              "    border-color: transparent;\n",
              "    border-bottom-color: var(--fill-color);\n",
              "    animation:\n",
              "      spin 1s steps(1) infinite;\n",
              "  }\n",
              "\n",
              "  @keyframes spin {\n",
              "    0% {\n",
              "      border-color: transparent;\n",
              "      border-bottom-color: var(--fill-color);\n",
              "      border-left-color: var(--fill-color);\n",
              "    }\n",
              "    20% {\n",
              "      border-color: transparent;\n",
              "      border-left-color: var(--fill-color);\n",
              "      border-top-color: var(--fill-color);\n",
              "    }\n",
              "    30% {\n",
              "      border-color: transparent;\n",
              "      border-left-color: var(--fill-color);\n",
              "      border-top-color: var(--fill-color);\n",
              "      border-right-color: var(--fill-color);\n",
              "    }\n",
              "    40% {\n",
              "      border-color: transparent;\n",
              "      border-right-color: var(--fill-color);\n",
              "      border-top-color: var(--fill-color);\n",
              "    }\n",
              "    60% {\n",
              "      border-color: transparent;\n",
              "      border-right-color: var(--fill-color);\n",
              "    }\n",
              "    80% {\n",
              "      border-color: transparent;\n",
              "      border-right-color: var(--fill-color);\n",
              "      border-bottom-color: var(--fill-color);\n",
              "    }\n",
              "    90% {\n",
              "      border-color: transparent;\n",
              "      border-bottom-color: var(--fill-color);\n",
              "    }\n",
              "  }\n",
              "</style>\n",
              "\n",
              "  <script>\n",
              "    async function quickchart(key) {\n",
              "      const quickchartButtonEl =\n",
              "        document.querySelector('#' + key + ' button');\n",
              "      quickchartButtonEl.disabled = true;  // To prevent multiple clicks.\n",
              "      quickchartButtonEl.classList.add('colab-df-spinner');\n",
              "      try {\n",
              "        const charts = await google.colab.kernel.invokeFunction(\n",
              "            'suggestCharts', [key], {});\n",
              "      } catch (error) {\n",
              "        console.error('Error during call to suggestCharts:', error);\n",
              "      }\n",
              "      quickchartButtonEl.classList.remove('colab-df-spinner');\n",
              "      quickchartButtonEl.classList.add('colab-df-quickchart-complete');\n",
              "    }\n",
              "    (() => {\n",
              "      let quickchartButtonEl =\n",
              "        document.querySelector('#df-2e0b91b8-d1a8-459b-9701-2198123d9171 button');\n",
              "      quickchartButtonEl.style.display =\n",
              "        google.colab.kernel.accessAllowed ? 'block' : 'none';\n",
              "    })();\n",
              "  </script>\n",
              "</div>\n",
              "\n",
              "  <div id=\"id_6ee513b6-3aeb-4ee2-bfe7-ec8b471bd691\">\n",
              "    <style>\n",
              "      .colab-df-generate {\n",
              "        background-color: #E8F0FE;\n",
              "        border: none;\n",
              "        border-radius: 50%;\n",
              "        cursor: pointer;\n",
              "        display: none;\n",
              "        fill: #1967D2;\n",
              "        height: 32px;\n",
              "        padding: 0 0 0 0;\n",
              "        width: 32px;\n",
              "      }\n",
              "\n",
              "      .colab-df-generate:hover {\n",
              "        background-color: #E2EBFA;\n",
              "        box-shadow: 0px 1px 2px rgba(60, 64, 67, 0.3), 0px 1px 3px 1px rgba(60, 64, 67, 0.15);\n",
              "        fill: #174EA6;\n",
              "      }\n",
              "\n",
              "      [theme=dark] .colab-df-generate {\n",
              "        background-color: #3B4455;\n",
              "        fill: #D2E3FC;\n",
              "      }\n",
              "\n",
              "      [theme=dark] .colab-df-generate:hover {\n",
              "        background-color: #434B5C;\n",
              "        box-shadow: 0px 1px 3px 1px rgba(0, 0, 0, 0.15);\n",
              "        filter: drop-shadow(0px 1px 2px rgba(0, 0, 0, 0.3));\n",
              "        fill: #FFFFFF;\n",
              "      }\n",
              "    </style>\n",
              "    <button class=\"colab-df-generate\" onclick=\"generateWithVariable('temp_df')\"\n",
              "            title=\"Generate code using this dataframe.\"\n",
              "            style=\"display:none;\">\n",
              "\n",
              "  <svg xmlns=\"http://www.w3.org/2000/svg\" height=\"24px\"viewBox=\"0 0 24 24\"\n",
              "       width=\"24px\">\n",
              "    <path d=\"M7,19H8.4L18.45,9,17,7.55,7,17.6ZM5,21V16.75L18.45,3.32a2,2,0,0,1,2.83,0l1.4,1.43a1.91,1.91,0,0,1,.58,1.4,1.91,1.91,0,0,1-.58,1.4L9.25,21ZM18.45,9,17,7.55Zm-12,3A5.31,5.31,0,0,0,4.9,8.1,5.31,5.31,0,0,0,1,6.5,5.31,5.31,0,0,0,4.9,4.9,5.31,5.31,0,0,0,6.5,1,5.31,5.31,0,0,0,8.1,4.9,5.31,5.31,0,0,0,12,6.5,5.46,5.46,0,0,0,6.5,12Z\"/>\n",
              "  </svg>\n",
              "    </button>\n",
              "    <script>\n",
              "      (() => {\n",
              "      const buttonEl =\n",
              "        document.querySelector('#id_6ee513b6-3aeb-4ee2-bfe7-ec8b471bd691 button.colab-df-generate');\n",
              "      buttonEl.style.display =\n",
              "        google.colab.kernel.accessAllowed ? 'block' : 'none';\n",
              "\n",
              "      buttonEl.onclick = () => {\n",
              "        google.colab.notebook.generateWithVariable('temp_df');\n",
              "      }\n",
              "      })();\n",
              "    </script>\n",
              "  </div>\n",
              "\n",
              "    </div>\n",
              "  </div>\n"
            ],
            "application/vnd.google.colaboratory.intrinsic+json": {
              "type": "dataframe",
              "variable_name": "temp_df",
              "summary": "{\n  \"name\": \"temp_df\",\n  \"rows\": 992,\n  \"fields\": [\n    {\n      \"column\": \"semantic similarity\",\n      \"properties\": {\n        \"dtype\": \"number\",\n        \"std\": 0,\n        \"min\": 0,\n        \"max\": 1,\n        \"num_unique_values\": 2,\n        \"samples\": [\n          0,\n          1\n        ],\n        \"semantic_type\": \"\",\n        \"description\": \"\"\n      }\n    },\n    {\n      \"column\": \"cos_sim\",\n      \"properties\": {\n        \"dtype\": \"float32\",\n        \"num_unique_values\": 990,\n        \"samples\": [\n          0.8755066394805908,\n          0.869276762008667\n        ],\n        \"semantic_type\": \"\",\n        \"description\": \"\"\n      }\n    },\n    {\n      \"column\": \"comp1-len\",\n      \"properties\": {\n        \"dtype\": \"number\",\n        \"std\": 40,\n        \"min\": 42,\n        \"max\": 390,\n        \"num_unique_values\": 166,\n        \"samples\": [\n          82,\n          280\n        ],\n        \"semantic_type\": \"\",\n        \"description\": \"\"\n      }\n    },\n    {\n      \"column\": \"comp2-len\",\n      \"properties\": {\n        \"dtype\": \"number\",\n        \"std\": 38,\n        \"min\": 37,\n        \"max\": 346,\n        \"num_unique_values\": 167,\n        \"samples\": [\n          226,\n          135\n        ],\n        \"semantic_type\": \"\",\n        \"description\": \"\"\n      }\n    },\n    {\n      \"column\": \"comp1_num_words\",\n      \"properties\": {\n        \"dtype\": \"number\",\n        \"std\": 7,\n        \"min\": 7,\n        \"max\": 66,\n        \"num_unique_values\": 46,\n        \"samples\": [\n          41,\n          33\n        ],\n        \"semantic_type\": \"\",\n        \"description\": \"\"\n      }\n    },\n    {\n      \"column\": \"comp2-num-words\",\n      \"properties\": {\n        \"dtype\": \"number\",\n        \"std\": 6,\n        \"min\": 6,\n        \"max\": 58,\n        \"num_unique_values\": 44,\n        \"samples\": [\n          42,\n          8\n        ],\n        \"semantic_type\": \"\",\n        \"description\": \"\"\n      }\n    },\n    {\n      \"column\": \"common_words\",\n      \"properties\": {\n        \"dtype\": \"number\",\n        \"std\": 3,\n        \"min\": 0,\n        \"max\": 25,\n        \"num_unique_values\": 26,\n        \"samples\": [\n          0,\n          21\n        ],\n        \"semantic_type\": \"\",\n        \"description\": \"\"\n      }\n    },\n    {\n      \"column\": \"total_words\",\n      \"properties\": {\n        \"dtype\": \"number\",\n        \"std\": 12,\n        \"min\": 14,\n        \"max\": 100,\n        \"num_unique_values\": 39,\n        \"samples\": [\n          78,\n          64\n        ],\n        \"semantic_type\": \"\",\n        \"description\": \"\"\n      }\n    },\n    {\n      \"column\": \"word_share\",\n      \"properties\": {\n        \"dtype\": \"number\",\n        \"std\": 0.09679248890202201,\n        \"min\": 0.0,\n        \"max\": 0.5,\n        \"num_unique_values\": 46,\n        \"samples\": [\n          0.5,\n          0.32\n        ],\n        \"semantic_type\": \"\",\n        \"description\": \"\"\n      }\n    }\n  ]\n}"
            }
          },
          "metadata": {},
          "execution_count": 295
        }
      ]
    },
    {
      "cell_type": "markdown",
      "source": [
        "# performing EDA on Baic Features"
      ],
      "metadata": {
        "id": "YR8nAjiFYGBX"
      }
    },
    {
      "cell_type": "code",
      "source": [
        "corr_data=temp_df.iloc[:,1:]"
      ],
      "metadata": {
        "id": "1-m1L_-sX_Hu"
      },
      "execution_count": null,
      "outputs": []
    },
    {
      "cell_type": "code",
      "source": [
        "mask=np.zeros_like(corr_data.corr())\n",
        "triangle_indices=np.triu_indices_from(mask)\n",
        "mask[triangle_indices]=True\n",
        "mask"
      ],
      "metadata": {
        "colab": {
          "base_uri": "https://localhost:8080/"
        },
        "id": "Fw8ioq17ZP1g",
        "outputId": "44aa375a-d0c8-4707-e822-49289fc008cf"
      },
      "execution_count": null,
      "outputs": [
        {
          "output_type": "execute_result",
          "data": {
            "text/plain": [
              "array([[1., 1., 1., 1., 1., 1., 1., 1.],\n",
              "       [0., 1., 1., 1., 1., 1., 1., 1.],\n",
              "       [0., 0., 1., 1., 1., 1., 1., 1.],\n",
              "       [0., 0., 0., 1., 1., 1., 1., 1.],\n",
              "       [0., 0., 0., 0., 1., 1., 1., 1.],\n",
              "       [0., 0., 0., 0., 0., 1., 1., 1.],\n",
              "       [0., 0., 0., 0., 0., 0., 1., 1.],\n",
              "       [0., 0., 0., 0., 0., 0., 0., 1.]])"
            ]
          },
          "metadata": {},
          "execution_count": 297
        }
      ]
    },
    {
      "cell_type": "code",
      "source": [
        "sns.heatmap(corr_data.corr(),mask=mask,annot=True, linewidth=0.7,cmap='viridis')\n",
        "plt.figure(figsize=(12,5))"
      ],
      "metadata": {
        "colab": {
          "base_uri": "https://localhost:8080/",
          "height": 586
        },
        "id": "V_wo-ZMUbfA6",
        "outputId": "20de44e4-a1f7-417b-bd34-6b9f385d16fa"
      },
      "execution_count": null,
      "outputs": [
        {
          "output_type": "execute_result",
          "data": {
            "text/plain": [
              "<Figure size 1200x500 with 0 Axes>"
            ]
          },
          "metadata": {},
          "execution_count": 298
        },
        {
          "output_type": "display_data",
          "data": {
            "text/plain": [
              "<Figure size 640x480 with 2 Axes>"
            ],
            "image/png": "[encoded data removed]"
          },
          "metadata": {}
        },
        {
          "output_type": "display_data",
          "data": {
            "text/plain": [
              "<Figure size 1200x500 with 0 Axes>"
            ]
          },
          "metadata": {}
        }
      ]
    },
    {
      "cell_type": "markdown",
      "source": [
        "# More Advance Features\n",
        "1. Token Features\n",
        "2. Lenght Features\n",
        "3. Fuzzy Features"
      ],
      "metadata": {
        "id": "gQVoV7Ycpb21"
      }
    },
    {
      "cell_type": "code",
      "source": [
        "def fetch_token_features(row):\n",
        "  comp1=row['complaint-1']\n",
        "  comp2=row['complaint-2']\n",
        "\n",
        "  SAFE_DIV=0.0001\n",
        "  STOP_WORDS=stopwords.words('english')\n",
        "\n",
        "  token_features=[0.0]*8\n",
        "\n",
        "  comp1_tokens=comp1.split(\" \")\n",
        "  comp2_tokens=comp2.split(\" \")\n",
        "\n",
        "  if len(comp1_tokens)==0 or len(comp2_tokens)==0:\n",
        "    return token_features\n",
        "\n",
        "  # get non-stopwords in the compliant\n",
        "  comp1_words=set([word for word in comp1_tokens if word not in STOP_WORDS])\n",
        "  comp2_words=set([word for word in comp2_tokens if word not in STOP_WORDS])\n",
        "\n",
        "  # get the stopwords in the complaints\n",
        "  comp1_stop=set([word for word in comp1_tokens if word in STOP_WORDS])\n",
        "  comp2_stop=set([word for word in comp2_tokens if word in STOP_WORDS])\n",
        "\n",
        "  # get common non_stopwords\n",
        "  common_word_count=len(comp1_words.intersection(comp2_words))\n",
        "\n",
        "  # get common non_stopwords\n",
        "  common_stop_count=len(comp1_stop.intersection(comp2_stop))\n",
        "\n",
        "  # get common tokens from complaint pairs\n",
        "  common_token_count=len(set(comp1_tokens).intersection(set(comp2_tokens)))\n",
        "\n",
        "\n",
        "  token_features[0]=common_word_count/(min(len(comp1_words),len(comp2_words))+SAFE_DIV)\n",
        "  token_features[1]=common_word_count/(max(len(comp1_words),len(comp2_words))+SAFE_DIV)\n",
        "\n",
        "  token_features[2]=common_stop_count/(min(len(comp1_stop),len(comp2_stop))+SAFE_DIV)\n",
        "  token_features[3]=common_stop_count/(max(len(comp1_stop),len(comp2_stop))+SAFE_DIV)\n",
        "\n",
        "  token_features[4]=common_token_count/(min(len(comp1_tokens),len(comp2_tokens)+SAFE_DIV))\n",
        "  token_features[5]=common_token_count/(max(len(comp1_tokens),len(comp2_tokens))+SAFE_DIV)\n",
        "\n",
        "  # last word of the both compliant is same or not\n",
        "  token_features[6]=int(comp1_tokens[-1]==comp2_tokens[-1])\n",
        "\n",
        "  #first word of the both complaint is same or not\n",
        "  token_features[7]=int(comp1_tokens[0]==comp2_tokens[0])\n",
        "\n",
        "  return token_features\n"
      ],
      "metadata": {
        "id": "uK8S6N38cY8J"
      },
      "execution_count": null,
      "outputs": []
    },
    {
      "cell_type": "code",
      "source": [
        "token_features = final_df.apply(fetch_token_features, axis=1)\n",
        "\n",
        "temp_df[\"cwc_min\"]       = list(map(lambda x: x[0], token_features))\n",
        "temp_df[\"cwc_max\"]       = list(map(lambda x: x[1], token_features))\n",
        "temp_df[\"csc_min\"]       = list(map(lambda x: x[2], token_features))\n",
        "temp_df[\"csc_max\"]       = list(map(lambda x: x[3], token_features))\n",
        "temp_df[\"ctc_min\"]       = list(map(lambda x: x[4], token_features))\n",
        "temp_df[\"ctc_max\"]       = list(map(lambda x: x[5], token_features))\n",
        "temp_df[\"last_word_eq\"]  = list(map(lambda x: x[6], token_features))\n",
        "temp_df[\"first_word_eq\"] = list(map(lambda x: x[7], token_features))"
      ],
      "metadata": {
        "id": "Gbxj6oFiwZS7"
      },
      "execution_count": null,
      "outputs": []
    },
    {
      "cell_type": "code",
      "source": [],
      "metadata": {
        "id": "NofAhyAWw_q5"
      },
      "execution_count": null,
      "outputs": []
    },
    {
      "cell_type": "code",
      "source": [
        "temp_df"
      ],
      "metadata": {
        "colab": {
          "base_uri": "https://localhost:8080/",
          "height": 478
        },
        "id": "zBYo4QTWxB9Z",
        "outputId": "75bf6ec8-5154-4338-ba79-f0398dfa70ac"
      },
      "execution_count": null,
      "outputs": [
        {
          "output_type": "execute_result",
          "data": {
            "text/plain": [
              "     semantic similarity   cos_sim  comp1-len  comp2-len  comp1_num_words  \\\n",
              "0                      1  0.710441         89         80               13   \n",
              "1                      1  0.678920        107        120               15   \n",
              "2                      1  0.707969         91         96               14   \n",
              "3                      1  0.818945         96         93               17   \n",
              "4                      1  0.808788        120        104               18   \n",
              "..                   ...       ...        ...        ...              ...   \n",
              "987                    0  0.518214         97        227               18   \n",
              "988                    0  0.232946         77         98               13   \n",
              "989                    0  0.393367         72         74               12   \n",
              "990                    0  0.418629         81        104               12   \n",
              "991                    0  0.354044        149        140               27   \n",
              "\n",
              "     comp2-num-words  common_words  total_words  word_share   cwc_min  \\\n",
              "0                 11             4           26        0.15  0.285710   \n",
              "1                 17             6           30        0.20  0.333330   \n",
              "2                 15             5           28        0.18  0.111110   \n",
              "3                 18             6           32        0.19  0.499992   \n",
              "4                 17             5           32        0.16  0.142855   \n",
              "..               ...           ...          ...         ...       ...   \n",
              "987               42             4           30        0.13  0.111110   \n",
              "988               13             0           26        0.00  0.000000   \n",
              "989                9             1           22        0.05  0.000000   \n",
              "990               13             5           24        0.21  0.249997   \n",
              "991               20             5           46        0.11  0.181817   \n",
              "\n",
              "      cwc_max   csc_min   csc_max   ctc_min   ctc_max  last_word_eq  \\\n",
              "0    0.285710  0.499988  0.333328  0.363633  0.307690             0   \n",
              "1    0.333330  0.499992  0.374995  0.400000  0.352939             0   \n",
              "2    0.111110  0.799984  0.666656  0.357143  0.333331             0   \n",
              "3    0.299997  0.499992  0.272725  0.352941  0.333331             1   \n",
              "4    0.099999  0.666656  0.499994  0.294116  0.277776             0   \n",
              "..        ...       ...       ...       ...       ...           ...   \n",
              "987  0.052631  0.499992  0.176470  0.222222  0.095238             0   \n",
              "988  0.000000  0.000000  0.000000  0.000000  0.000000             0   \n",
              "989  0.000000  0.499975  0.166664  0.111110  0.083333             0   \n",
              "990  0.222220  0.749981  0.749981  0.416667  0.384612             0   \n",
              "991  0.166665  0.333330  0.272725  0.249999  0.185184             0   \n",
              "\n",
              "     first_word_eq  \n",
              "0                0  \n",
              "1                0  \n",
              "2                1  \n",
              "3                1  \n",
              "4                0  \n",
              "..             ...  \n",
              "987              0  \n",
              "988              0  \n",
              "989              0  \n",
              "990              1  \n",
              "991              1  \n",
              "\n",
              "[992 rows x 17 columns]"
            ],
            "text/html": [
              "\n",
              "  <div id=\"df-c2ccf0f4-71c4-4503-bc96-4a7dd4bb7be8\" class=\"colab-df-container\">\n",
              "    <div>\n",
              "<style scoped>\n",
              "    .dataframe tbody tr th:only-of-type {\n",
              "        vertical-align: middle;\n",
              "    }\n",
              "\n",
              "    .dataframe tbody tr th {\n",
              "        vertical-align: top;\n",
              "    }\n",
              "\n",
              "    .dataframe thead th {\n",
              "        text-align: right;\n",
              "    }\n",
              "</style>\n",
              "<table border=\"1\" class=\"dataframe\">\n",
              "  <thead>\n",
              "    <tr style=\"text-align: right;\">\n",
              "      <th></th>\n",
              "      <th>semantic similarity</th>\n",
              "      <th>cos_sim</th>\n",
              "      <th>comp1-len</th>\n",
              "      <th>comp2-len</th>\n",
              "      <th>comp1_num_words</th>\n",
              "      <th>comp2-num-words</th>\n",
              "      <th>common_words</th>\n",
              "      <th>total_words</th>\n",
              "      <th>word_share</th>\n",
              "      <th>cwc_min</th>\n",
              "      <th>cwc_max</th>\n",
              "      <th>csc_min</th>\n",
              "      <th>csc_max</th>\n",
              "      <th>ctc_min</th>\n",
              "      <th>ctc_max</th>\n",
              "      <th>last_word_eq</th>\n",
              "      <th>first_word_eq</th>\n",
              "    </tr>\n",
              "  </thead>\n",
              "  <tbody>\n",
              "    <tr>\n",
              "      <th>0</th>\n",
              "      <td>1</td>\n",
              "      <td>0.710441</td>\n",
              "      <td>89</td>\n",
              "      <td>80</td>\n",
              "      <td>13</td>\n",
              "      <td>11</td>\n",
              "      <td>4</td>\n",
              "      <td>26</td>\n",
              "      <td>0.15</td>\n",
              "      <td>0.285710</td>\n",
              "      <td>0.285710</td>\n",
              "      <td>0.499988</td>\n",
              "      <td>0.333328</td>\n",
              "      <td>0.363633</td>\n",
              "      <td>0.307690</td>\n",
              "      <td>0</td>\n",
              "      <td>0</td>\n",
              "    </tr>\n",
              "    <tr>\n",
              "      <th>1</th>\n",
              "      <td>1</td>\n",
              "      <td>0.678920</td>\n",
              "      <td>107</td>\n",
              "      <td>120</td>\n",
              "      <td>15</td>\n",
              "      <td>17</td>\n",
              "      <td>6</td>\n",
              "      <td>30</td>\n",
              "      <td>0.20</td>\n",
              "      <td>0.333330</td>\n",
              "      <td>0.333330</td>\n",
              "      <td>0.499992</td>\n",
              "      <td>0.374995</td>\n",
              "      <td>0.400000</td>\n",
              "      <td>0.352939</td>\n",
              "      <td>0</td>\n",
              "      <td>0</td>\n",
              "    </tr>\n",
              "    <tr>\n",
              "      <th>2</th>\n",
              "      <td>1</td>\n",
              "      <td>0.707969</td>\n",
              "      <td>91</td>\n",
              "      <td>96</td>\n",
              "      <td>14</td>\n",
              "      <td>15</td>\n",
              "      <td>5</td>\n",
              "      <td>28</td>\n",
              "      <td>0.18</td>\n",
              "      <td>0.111110</td>\n",
              "      <td>0.111110</td>\n",
              "      <td>0.799984</td>\n",
              "      <td>0.666656</td>\n",
              "      <td>0.357143</td>\n",
              "      <td>0.333331</td>\n",
              "      <td>0</td>\n",
              "      <td>1</td>\n",
              "    </tr>\n",
              "    <tr>\n",
              "      <th>3</th>\n",
              "      <td>1</td>\n",
              "      <td>0.818945</td>\n",
              "      <td>96</td>\n",
              "      <td>93</td>\n",
              "      <td>17</td>\n",
              "      <td>18</td>\n",
              "      <td>6</td>\n",
              "      <td>32</td>\n",
              "      <td>0.19</td>\n",
              "      <td>0.499992</td>\n",
              "      <td>0.299997</td>\n",
              "      <td>0.499992</td>\n",
              "      <td>0.272725</td>\n",
              "      <td>0.352941</td>\n",
              "      <td>0.333331</td>\n",
              "      <td>1</td>\n",
              "      <td>1</td>\n",
              "    </tr>\n",
              "    <tr>\n",
              "      <th>4</th>\n",
              "      <td>1</td>\n",
              "      <td>0.808788</td>\n",
              "      <td>120</td>\n",
              "      <td>104</td>\n",
              "      <td>18</td>\n",
              "      <td>17</td>\n",
              "      <td>5</td>\n",
              "      <td>32</td>\n",
              "      <td>0.16</td>\n",
              "      <td>0.142855</td>\n",
              "      <td>0.099999</td>\n",
              "      <td>0.666656</td>\n",
              "      <td>0.499994</td>\n",
              "      <td>0.294116</td>\n",
              "      <td>0.277776</td>\n",
              "      <td>0</td>\n",
              "      <td>0</td>\n",
              "    </tr>\n",
              "    <tr>\n",
              "      <th>...</th>\n",
              "      <td>...</td>\n",
              "      <td>...</td>\n",
              "      <td>...</td>\n",
              "      <td>...</td>\n",
              "      <td>...</td>\n",
              "      <td>...</td>\n",
              "      <td>...</td>\n",
              "      <td>...</td>\n",
              "      <td>...</td>\n",
              "      <td>...</td>\n",
              "      <td>...</td>\n",
              "      <td>...</td>\n",
              "      <td>...</td>\n",
              "      <td>...</td>\n",
              "      <td>...</td>\n",
              "      <td>...</td>\n",
              "      <td>...</td>\n",
              "    </tr>\n",
              "    <tr>\n",
              "      <th>987</th>\n",
              "      <td>0</td>\n",
              "      <td>0.518214</td>\n",
              "      <td>97</td>\n",
              "      <td>227</td>\n",
              "      <td>18</td>\n",
              "      <td>42</td>\n",
              "      <td>4</td>\n",
              "      <td>30</td>\n",
              "      <td>0.13</td>\n",
              "      <td>0.111110</td>\n",
              "      <td>0.052631</td>\n",
              "      <td>0.499992</td>\n",
              "      <td>0.176470</td>\n",
              "      <td>0.222222</td>\n",
              "      <td>0.095238</td>\n",
              "      <td>0</td>\n",
              "      <td>0</td>\n",
              "    </tr>\n",
              "    <tr>\n",
              "      <th>988</th>\n",
              "      <td>0</td>\n",
              "      <td>0.232946</td>\n",
              "      <td>77</td>\n",
              "      <td>98</td>\n",
              "      <td>13</td>\n",
              "      <td>13</td>\n",
              "      <td>0</td>\n",
              "      <td>26</td>\n",
              "      <td>0.00</td>\n",
              "      <td>0.000000</td>\n",
              "      <td>0.000000</td>\n",
              "      <td>0.000000</td>\n",
              "      <td>0.000000</td>\n",
              "      <td>0.000000</td>\n",
              "      <td>0.000000</td>\n",
              "      <td>0</td>\n",
              "      <td>0</td>\n",
              "    </tr>\n",
              "    <tr>\n",
              "      <th>989</th>\n",
              "      <td>0</td>\n",
              "      <td>0.393367</td>\n",
              "      <td>72</td>\n",
              "      <td>74</td>\n",
              "      <td>12</td>\n",
              "      <td>9</td>\n",
              "      <td>1</td>\n",
              "      <td>22</td>\n",
              "      <td>0.05</td>\n",
              "      <td>0.000000</td>\n",
              "      <td>0.000000</td>\n",
              "      <td>0.499975</td>\n",
              "      <td>0.166664</td>\n",
              "      <td>0.111110</td>\n",
              "      <td>0.083333</td>\n",
              "      <td>0</td>\n",
              "      <td>0</td>\n",
              "    </tr>\n",
              "    <tr>\n",
              "      <th>990</th>\n",
              "      <td>0</td>\n",
              "      <td>0.418629</td>\n",
              "      <td>81</td>\n",
              "      <td>104</td>\n",
              "      <td>12</td>\n",
              "      <td>13</td>\n",
              "      <td>5</td>\n",
              "      <td>24</td>\n",
              "      <td>0.21</td>\n",
              "      <td>0.249997</td>\n",
              "      <td>0.222220</td>\n",
              "      <td>0.749981</td>\n",
              "      <td>0.749981</td>\n",
              "      <td>0.416667</td>\n",
              "      <td>0.384612</td>\n",
              "      <td>0</td>\n",
              "      <td>1</td>\n",
              "    </tr>\n",
              "    <tr>\n",
              "      <th>991</th>\n",
              "      <td>0</td>\n",
              "      <td>0.354044</td>\n",
              "      <td>149</td>\n",
              "      <td>140</td>\n",
              "      <td>27</td>\n",
              "      <td>20</td>\n",
              "      <td>5</td>\n",
              "      <td>46</td>\n",
              "      <td>0.11</td>\n",
              "      <td>0.181817</td>\n",
              "      <td>0.166665</td>\n",
              "      <td>0.333330</td>\n",
              "      <td>0.272725</td>\n",
              "      <td>0.249999</td>\n",
              "      <td>0.185184</td>\n",
              "      <td>0</td>\n",
              "      <td>1</td>\n",
              "    </tr>\n",
              "  </tbody>\n",
              "</table>\n",
              "<p>992 rows × 17 columns</p>\n",
              "</div>\n",
              "    <div class=\"colab-df-buttons\">\n",
              "\n",
              "  <div class=\"colab-df-container\">\n",
              "    <button class=\"colab-df-convert\" onclick=\"convertToInteractive('df-c2ccf0f4-71c4-4503-bc96-4a7dd4bb7be8')\"\n",
              "            title=\"Convert this dataframe to an interactive table.\"\n",
              "            style=\"display:none;\">\n",
              "\n",
              "  <svg xmlns=\"http://www.w3.org/2000/svg\" height=\"24px\" viewBox=\"0 -960 960 960\">\n",
              "    <path d=\"M120-120v-720h720v720H120Zm60-500h600v-160H180v160Zm220 220h160v-160H400v160Zm0 220h160v-160H400v160ZM180-400h160v-160H180v160Zm440 0h160v-160H620v160ZM180-180h160v-160H180v160Zm440 0h160v-160H620v160Z\"/>\n",
              "  </svg>\n",
              "    </button>\n",
              "\n",
              "  <style>\n",
              "    .colab-df-container {\n",
              "      display:flex;\n",
              "      gap: 12px;\n",
              "    }\n",
              "\n",
              "    .colab-df-convert {\n",
              "      background-color: #E8F0FE;\n",
              "      border: none;\n",
              "      border-radius: 50%;\n",
              "      cursor: pointer;\n",
              "      display: none;\n",
              "      fill: #1967D2;\n",
              "      height: 32px;\n",
              "      padding: 0 0 0 0;\n",
              "      width: 32px;\n",
              "    }\n",
              "\n",
              "    .colab-df-convert:hover {\n",
              "      background-color: #E2EBFA;\n",
              "      box-shadow: 0px 1px 2px rgba(60, 64, 67, 0.3), 0px 1px 3px 1px rgba(60, 64, 67, 0.15);\n",
              "      fill: #174EA6;\n",
              "    }\n",
              "\n",
              "    .colab-df-buttons div {\n",
              "      margin-bottom: 4px;\n",
              "    }\n",
              "\n",
              "    [theme=dark] .colab-df-convert {\n",
              "      background-color: #3B4455;\n",
              "      fill: #D2E3FC;\n",
              "    }\n",
              "\n",
              "    [theme=dark] .colab-df-convert:hover {\n",
              "      background-color: #434B5C;\n",
              "      box-shadow: 0px 1px 3px 1px rgba(0, 0, 0, 0.15);\n",
              "      filter: drop-shadow(0px 1px 2px rgba(0, 0, 0, 0.3));\n",
              "      fill: #FFFFFF;\n",
              "    }\n",
              "  </style>\n",
              "\n",
              "    <script>\n",
              "      const buttonEl =\n",
              "        document.querySelector('#df-c2ccf0f4-71c4-4503-bc96-4a7dd4bb7be8 button.colab-df-convert');\n",
              "      buttonEl.style.display =\n",
              "        google.colab.kernel.accessAllowed ? 'block' : 'none';\n",
              "\n",
              "      async function convertToInteractive(key) {\n",
              "        const element = document.querySelector('#df-c2ccf0f4-71c4-4503-bc96-4a7dd4bb7be8');\n",
              "        const dataTable =\n",
              "          await google.colab.kernel.invokeFunction('convertToInteractive',\n",
              "                                                    [key], {});\n",
              "        if (!dataTable) return;\n",
              "\n",
              "        const docLinkHtml = 'Like what you see? Visit the ' +\n",
              "          '<a target=\"_blank\" href=https://colab.research.google.com/notebooks/data_table.ipynb>data table notebook</a>'\n",
              "          + ' to learn more about interactive tables.';\n",
              "        element.innerHTML = '';\n",
              "        dataTable['output_type'] = 'display_data';\n",
              "        await google.colab.output.renderOutput(dataTable, element);\n",
              "        const docLink = document.createElement('div');\n",
              "        docLink.innerHTML = docLinkHtml;\n",
              "        element.appendChild(docLink);\n",
              "      }\n",
              "    </script>\n",
              "  </div>\n",
              "\n",
              "\n",
              "<div id=\"df-0cfe75cb-5994-494c-877b-a355974ab391\">\n",
              "  <button class=\"colab-df-quickchart\" onclick=\"quickchart('df-0cfe75cb-5994-494c-877b-a355974ab391')\"\n",
              "            title=\"Suggest charts\"\n",
              "            style=\"display:none;\">\n",
              "\n",
              "<svg xmlns=\"http://www.w3.org/2000/svg\" height=\"24px\"viewBox=\"0 0 24 24\"\n",
              "     width=\"24px\">\n",
              "    <g>\n",
              "        <path d=\"M19 3H5c-1.1 0-2 .9-2 2v14c0 1.1.9 2 2 2h14c1.1 0 2-.9 2-2V5c0-1.1-.9-2-2-2zM9 17H7v-7h2v7zm4 0h-2V7h2v10zm4 0h-2v-4h2v4z\"/>\n",
              "    </g>\n",
              "</svg>\n",
              "  </button>\n",
              "\n",
              "<style>\n",
              "  .colab-df-quickchart {\n",
              "      --bg-color: #E8F0FE;\n",
              "      --fill-color: #1967D2;\n",
              "      --hover-bg-color: #E2EBFA;\n",
              "      --hover-fill-color: #174EA6;\n",
              "      --disabled-fill-color: #AAA;\n",
              "      --disabled-bg-color: #DDD;\n",
              "  }\n",
              "\n",
              "  [theme=dark] .colab-df-quickchart {\n",
              "      --bg-color: #3B4455;\n",
              "      --fill-color: #D2E3FC;\n",
              "      --hover-bg-color: #434B5C;\n",
              "      --hover-fill-color: #FFFFFF;\n",
              "      --disabled-bg-color: #3B4455;\n",
              "      --disabled-fill-color: #666;\n",
              "  }\n",
              "\n",
              "  .colab-df-quickchart {\n",
              "    background-color: var(--bg-color);\n",
              "    border: none;\n",
              "    border-radius: 50%;\n",
              "    cursor: pointer;\n",
              "    display: none;\n",
              "    fill: var(--fill-color);\n",
              "    height: 32px;\n",
              "    padding: 0;\n",
              "    width: 32px;\n",
              "  }\n",
              "\n",
              "  .colab-df-quickchart:hover {\n",
              "    background-color: var(--hover-bg-color);\n",
              "    box-shadow: 0 1px 2px rgba(60, 64, 67, 0.3), 0 1px 3px 1px rgba(60, 64, 67, 0.15);\n",
              "    fill: var(--button-hover-fill-color);\n",
              "  }\n",
              "\n",
              "  .colab-df-quickchart-complete:disabled,\n",
              "  .colab-df-quickchart-complete:disabled:hover {\n",
              "    background-color: var(--disabled-bg-color);\n",
              "    fill: var(--disabled-fill-color);\n",
              "    box-shadow: none;\n",
              "  }\n",
              "\n",
              "  .colab-df-spinner {\n",
              "    border: 2px solid var(--fill-color);\n",
              "    border-color: transparent;\n",
              "    border-bottom-color: var(--fill-color);\n",
              "    animation:\n",
              "      spin 1s steps(1) infinite;\n",
              "  }\n",
              "\n",
              "  @keyframes spin {\n",
              "    0% {\n",
              "      border-color: transparent;\n",
              "      border-bottom-color: var(--fill-color);\n",
              "      border-left-color: var(--fill-color);\n",
              "    }\n",
              "    20% {\n",
              "      border-color: transparent;\n",
              "      border-left-color: var(--fill-color);\n",
              "      border-top-color: var(--fill-color);\n",
              "    }\n",
              "    30% {\n",
              "      border-color: transparent;\n",
              "      border-left-color: var(--fill-color);\n",
              "      border-top-color: var(--fill-color);\n",
              "      border-right-color: var(--fill-color);\n",
              "    }\n",
              "    40% {\n",
              "      border-color: transparent;\n",
              "      border-right-color: var(--fill-color);\n",
              "      border-top-color: var(--fill-color);\n",
              "    }\n",
              "    60% {\n",
              "      border-color: transparent;\n",
              "      border-right-color: var(--fill-color);\n",
              "    }\n",
              "    80% {\n",
              "      border-color: transparent;\n",
              "      border-right-color: var(--fill-color);\n",
              "      border-bottom-color: var(--fill-color);\n",
              "    }\n",
              "    90% {\n",
              "      border-color: transparent;\n",
              "      border-bottom-color: var(--fill-color);\n",
              "    }\n",
              "  }\n",
              "</style>\n",
              "\n",
              "  <script>\n",
              "    async function quickchart(key) {\n",
              "      const quickchartButtonEl =\n",
              "        document.querySelector('#' + key + ' button');\n",
              "      quickchartButtonEl.disabled = true;  // To prevent multiple clicks.\n",
              "      quickchartButtonEl.classList.add('colab-df-spinner');\n",
              "      try {\n",
              "        const charts = await google.colab.kernel.invokeFunction(\n",
              "            'suggestCharts', [key], {});\n",
              "      } catch (error) {\n",
              "        console.error('Error during call to suggestCharts:', error);\n",
              "      }\n",
              "      quickchartButtonEl.classList.remove('colab-df-spinner');\n",
              "      quickchartButtonEl.classList.add('colab-df-quickchart-complete');\n",
              "    }\n",
              "    (() => {\n",
              "      let quickchartButtonEl =\n",
              "        document.querySelector('#df-0cfe75cb-5994-494c-877b-a355974ab391 button');\n",
              "      quickchartButtonEl.style.display =\n",
              "        google.colab.kernel.accessAllowed ? 'block' : 'none';\n",
              "    })();\n",
              "  </script>\n",
              "</div>\n",
              "\n",
              "  <div id=\"id_27e2e7c6-65a9-48d4-8ff2-04c1b6959571\">\n",
              "    <style>\n",
              "      .colab-df-generate {\n",
              "        background-color: #E8F0FE;\n",
              "        border: none;\n",
              "        border-radius: 50%;\n",
              "        cursor: pointer;\n",
              "        display: none;\n",
              "        fill: #1967D2;\n",
              "        height: 32px;\n",
              "        padding: 0 0 0 0;\n",
              "        width: 32px;\n",
              "      }\n",
              "\n",
              "      .colab-df-generate:hover {\n",
              "        background-color: #E2EBFA;\n",
              "        box-shadow: 0px 1px 2px rgba(60, 64, 67, 0.3), 0px 1px 3px 1px rgba(60, 64, 67, 0.15);\n",
              "        fill: #174EA6;\n",
              "      }\n",
              "\n",
              "      [theme=dark] .colab-df-generate {\n",
              "        background-color: #3B4455;\n",
              "        fill: #D2E3FC;\n",
              "      }\n",
              "\n",
              "      [theme=dark] .colab-df-generate:hover {\n",
              "        background-color: #434B5C;\n",
              "        box-shadow: 0px 1px 3px 1px rgba(0, 0, 0, 0.15);\n",
              "        filter: drop-shadow(0px 1px 2px rgba(0, 0, 0, 0.3));\n",
              "        fill: #FFFFFF;\n",
              "      }\n",
              "    </style>\n",
              "    <button class=\"colab-df-generate\" onclick=\"generateWithVariable('temp_df')\"\n",
              "            title=\"Generate code using this dataframe.\"\n",
              "            style=\"display:none;\">\n",
              "\n",
              "  <svg xmlns=\"http://www.w3.org/2000/svg\" height=\"24px\"viewBox=\"0 0 24 24\"\n",
              "       width=\"24px\">\n",
              "    <path d=\"M7,19H8.4L18.45,9,17,7.55,7,17.6ZM5,21V16.75L18.45,3.32a2,2,0,0,1,2.83,0l1.4,1.43a1.91,1.91,0,0,1,.58,1.4,1.91,1.91,0,0,1-.58,1.4L9.25,21ZM18.45,9,17,7.55Zm-12,3A5.31,5.31,0,0,0,4.9,8.1,5.31,5.31,0,0,0,1,6.5,5.31,5.31,0,0,0,4.9,4.9,5.31,5.31,0,0,0,6.5,1,5.31,5.31,0,0,0,8.1,4.9,5.31,5.31,0,0,0,12,6.5,5.46,5.46,0,0,0,6.5,12Z\"/>\n",
              "  </svg>\n",
              "    </button>\n",
              "    <script>\n",
              "      (() => {\n",
              "      const buttonEl =\n",
              "        document.querySelector('#id_27e2e7c6-65a9-48d4-8ff2-04c1b6959571 button.colab-df-generate');\n",
              "      buttonEl.style.display =\n",
              "        google.colab.kernel.accessAllowed ? 'block' : 'none';\n",
              "\n",
              "      buttonEl.onclick = () => {\n",
              "        google.colab.notebook.generateWithVariable('temp_df');\n",
              "      }\n",
              "      })();\n",
              "    </script>\n",
              "  </div>\n",
              "\n",
              "    </div>\n",
              "  </div>\n"
            ],
            "application/vnd.google.colaboratory.intrinsic+json": {
              "type": "dataframe",
              "variable_name": "temp_df",
              "summary": "{\n  \"name\": \"temp_df\",\n  \"rows\": 992,\n  \"fields\": [\n    {\n      \"column\": \"semantic similarity\",\n      \"properties\": {\n        \"dtype\": \"number\",\n        \"std\": 0,\n        \"min\": 0,\n        \"max\": 1,\n        \"num_unique_values\": 2,\n        \"samples\": [\n          0,\n          1\n        ],\n        \"semantic_type\": \"\",\n        \"description\": \"\"\n      }\n    },\n    {\n      \"column\": \"cos_sim\",\n      \"properties\": {\n        \"dtype\": \"float32\",\n        \"num_unique_values\": 968,\n        \"samples\": [\n          0.2899617552757263,\n          0.8473384380340576\n        ],\n        \"semantic_type\": \"\",\n        \"description\": \"\"\n      }\n    },\n    {\n      \"column\": \"comp1-len\",\n      \"properties\": {\n        \"dtype\": \"number\",\n        \"std\": 40,\n        \"min\": 42,\n        \"max\": 390,\n        \"num_unique_values\": 166,\n        \"samples\": [\n          188,\n          187\n        ],\n        \"semantic_type\": \"\",\n        \"description\": \"\"\n      }\n    },\n    {\n      \"column\": \"comp2-len\",\n      \"properties\": {\n        \"dtype\": \"number\",\n        \"std\": 38,\n        \"min\": 37,\n        \"max\": 346,\n        \"num_unique_values\": 166,\n        \"samples\": [\n          103,\n          133\n        ],\n        \"semantic_type\": \"\",\n        \"description\": \"\"\n      }\n    },\n    {\n      \"column\": \"comp1_num_words\",\n      \"properties\": {\n        \"dtype\": \"number\",\n        \"std\": 7,\n        \"min\": 7,\n        \"max\": 66,\n        \"num_unique_values\": 46,\n        \"samples\": [\n          45,\n          24\n        ],\n        \"semantic_type\": \"\",\n        \"description\": \"\"\n      }\n    },\n    {\n      \"column\": \"comp2-num-words\",\n      \"properties\": {\n        \"dtype\": \"number\",\n        \"std\": 6,\n        \"min\": 6,\n        \"max\": 58,\n        \"num_unique_values\": 44,\n        \"samples\": [\n          45,\n          31\n        ],\n        \"semantic_type\": \"\",\n        \"description\": \"\"\n      }\n    },\n    {\n      \"column\": \"common_words\",\n      \"properties\": {\n        \"dtype\": \"number\",\n        \"std\": 3,\n        \"min\": 0,\n        \"max\": 25,\n        \"num_unique_values\": 25,\n        \"samples\": [\n          10,\n          1\n        ],\n        \"semantic_type\": \"\",\n        \"description\": \"\"\n      }\n    },\n    {\n      \"column\": \"total_words\",\n      \"properties\": {\n        \"dtype\": \"number\",\n        \"std\": 12,\n        \"min\": 14,\n        \"max\": 100,\n        \"num_unique_values\": 39,\n        \"samples\": [\n          54,\n          78\n        ],\n        \"semantic_type\": \"\",\n        \"description\": \"\"\n      }\n    },\n    {\n      \"column\": \"word_share\",\n      \"properties\": {\n        \"dtype\": \"number\",\n        \"std\": 0.0969837538120003,\n        \"min\": 0.0,\n        \"max\": 0.5,\n        \"num_unique_values\": 46,\n        \"samples\": [\n          0.47,\n          0.24\n        ],\n        \"semantic_type\": \"\",\n        \"description\": \"\"\n      }\n    },\n    {\n      \"column\": \"cwc_min\",\n      \"properties\": {\n        \"dtype\": \"number\",\n        \"std\": 0.213869268324414,\n        \"min\": 0.0,\n        \"max\": 0.999990909173553,\n        \"num_unique_values\": 97,\n        \"samples\": [\n          0.6666592593415629,\n          0.2999970000299997\n        ],\n        \"semantic_type\": \"\",\n        \"description\": \"\"\n      }\n    },\n    {\n      \"column\": \"cwc_max\",\n      \"properties\": {\n        \"dtype\": \"number\",\n        \"std\": 0.19744185760375352,\n        \"min\": 0.0,\n        \"max\": 0.9999888890123443,\n        \"num_unique_values\": 118,\n        \"samples\": [\n          0.545449586821938,\n          0.5333297778014814\n        ],\n        \"semantic_type\": \"\",\n        \"description\": \"\"\n      }\n    },\n    {\n      \"column\": \"csc_min\",\n      \"properties\": {\n        \"dtype\": \"number\",\n        \"std\": 0.2757348970723454,\n        \"min\": 0.0,\n        \"max\": 0.9999933333777775,\n        \"num_unique_values\": 89,\n        \"samples\": [\n          0.8124949219067381,\n          0.857136734737609\n        ],\n        \"semantic_type\": \"\",\n        \"description\": \"\"\n      }\n    },\n    {\n      \"column\": \"csc_max\",\n      \"properties\": {\n        \"dtype\": \"number\",\n        \"std\": 0.24144843694842544,\n        \"min\": 0.0,\n        \"max\": 0.9999933333777775,\n        \"num_unique_values\": 129,\n        \"samples\": [\n          0.9999666677777407,\n          0.5555493827846357\n        ],\n        \"semantic_type\": \"\",\n        \"description\": \"\"\n      }\n    },\n    {\n      \"column\": \"ctc_min\",\n      \"properties\": {\n        \"dtype\": \"number\",\n        \"std\": 0.18856392406565659,\n        \"min\": 0.0,\n        \"max\": 1.0,\n        \"num_unique_values\": 279,\n        \"samples\": [\n          0.4999950000499995,\n          0.25\n        ],\n        \"semantic_type\": \"\",\n        \"description\": \"\"\n      }\n    },\n    {\n      \"column\": \"ctc_max\",\n      \"properties\": {\n        \"dtype\": \"number\",\n        \"std\": 0.177571779307463,\n        \"min\": 0.0,\n        \"max\": 0.9999923077514788,\n        \"num_unique_values\": 288,\n        \"samples\": [\n          0.47058685121514343,\n          0.090908264470323\n        ],\n        \"semantic_type\": \"\",\n        \"description\": \"\"\n      }\n    },\n    {\n      \"column\": \"last_word_eq\",\n      \"properties\": {\n        \"dtype\": \"number\",\n        \"std\": 0,\n        \"min\": 0,\n        \"max\": 1,\n        \"num_unique_values\": 2,\n        \"samples\": [\n          1,\n          0\n        ],\n        \"semantic_type\": \"\",\n        \"description\": \"\"\n      }\n    },\n    {\n      \"column\": \"first_word_eq\",\n      \"properties\": {\n        \"dtype\": \"number\",\n        \"std\": 0,\n        \"min\": 0,\n        \"max\": 1,\n        \"num_unique_values\": 2,\n        \"samples\": [\n          1,\n          0\n        ],\n        \"semantic_type\": \"\",\n        \"description\": \"\"\n      }\n    }\n  ]\n}"
            }
          },
          "metadata": {},
          "execution_count": 59
        }
      ]
    },
    {
      "cell_type": "code",
      "source": [
        "corr_data=temp_df.iloc[:,1:-2]"
      ],
      "metadata": {
        "id": "pADcfmQ-xvvn"
      },
      "execution_count": null,
      "outputs": []
    },
    {
      "cell_type": "code",
      "source": [
        "mask=np.zeros_like(corr_data.corr())\n",
        "triangle_indices=np.triu_indices_from(mask)\n",
        "mask[triangle_indices]=True\n",
        "mask"
      ],
      "metadata": {
        "colab": {
          "base_uri": "https://localhost:8080/"
        },
        "id": "iWbf_CSC6Wms",
        "outputId": "29664cb7-aaf0-4699-fba5-71e8d4f827e2"
      },
      "execution_count": null,
      "outputs": [
        {
          "output_type": "execute_result",
          "data": {
            "text/plain": [
              "array([[1., 1., 1., 1., 1., 1., 1., 1., 1., 1., 1., 1., 1., 1.],\n",
              "       [0., 1., 1., 1., 1., 1., 1., 1., 1., 1., 1., 1., 1., 1.],\n",
              "       [0., 0., 1., 1., 1., 1., 1., 1., 1., 1., 1., 1., 1., 1.],\n",
              "       [0., 0., 0., 1., 1., 1., 1., 1., 1., 1., 1., 1., 1., 1.],\n",
              "       [0., 0., 0., 0., 1., 1., 1., 1., 1., 1., 1., 1., 1., 1.],\n",
              "       [0., 0., 0., 0., 0., 1., 1., 1., 1., 1., 1., 1., 1., 1.],\n",
              "       [0., 0., 0., 0., 0., 0., 1., 1., 1., 1., 1., 1., 1., 1.],\n",
              "       [0., 0., 0., 0., 0., 0., 0., 1., 1., 1., 1., 1., 1., 1.],\n",
              "       [0., 0., 0., 0., 0., 0., 0., 0., 1., 1., 1., 1., 1., 1.],\n",
              "       [0., 0., 0., 0., 0., 0., 0., 0., 0., 1., 1., 1., 1., 1.],\n",
              "       [0., 0., 0., 0., 0., 0., 0., 0., 0., 0., 1., 1., 1., 1.],\n",
              "       [0., 0., 0., 0., 0., 0., 0., 0., 0., 0., 0., 1., 1., 1.],\n",
              "       [0., 0., 0., 0., 0., 0., 0., 0., 0., 0., 0., 0., 1., 1.],\n",
              "       [0., 0., 0., 0., 0., 0., 0., 0., 0., 0., 0., 0., 0., 1.]])"
            ]
          },
          "metadata": {},
          "execution_count": 302
        }
      ]
    },
    {
      "cell_type": "code",
      "source": [
        "plt.figure(figsize=(20,8))\n",
        "sns.heatmap(data=corr_data.corr(),mask=mask,annot=True,linewidth=0.5,cmap='viridis')\n",
        "\n"
      ],
      "metadata": {
        "colab": {
          "base_uri": "https://localhost:8080/",
          "height": 408
        },
        "id": "6G0-XV8H6u_W",
        "outputId": "04a9c52b-eff0-450b-cb10-27b0d9254140"
      },
      "execution_count": null,
      "outputs": [
        {
          "output_type": "execute_result",
          "data": {
            "text/plain": [
              "<Axes: >"
            ]
          },
          "metadata": {},
          "execution_count": 303
        },
        {
          "output_type": "display_data",
          "data": {
            "text/plain": [
              "<Figure size 2000x800 with 2 Axes>"
            ],
            "image/png": "[encoded data removed]"
          },
          "metadata": {}
        }
      ]
    },
    {
      "cell_type": "code",
      "source": [],
      "metadata": {
        "id": "JGwZSG5f6LP4"
      },
      "execution_count": null,
      "outputs": []
    },
    {
      "cell_type": "code",
      "source": [],
      "metadata": {
        "id": "hNnuhHAR06yw"
      },
      "execution_count": null,
      "outputs": []
    },
    {
      "cell_type": "markdown",
      "source": [
        "# Adding fuzzy features"
      ],
      "metadata": {
        "id": "ZOyZ1CJH-Df_"
      }
    },
    {
      "cell_type": "code",
      "source": [
        "def fetch_fuzzy_features(row):\n",
        "\n",
        "    comp1 = row['complaint-1']\n",
        "    comp2 = row['complaint-2']\n",
        "\n",
        "    fuzzy_features = [0.0]*4\n",
        "\n",
        "    # fuzz_ratio\n",
        "    fuzzy_features[0] = fuzz.QRatio(comp1, comp2)\n",
        "\n",
        "    # fuzz_partial_ratio\n",
        "    fuzzy_features[1] = fuzz.partial_ratio(comp1, comp2)\n",
        "\n",
        "    # token_sort_ratio\n",
        "    fuzzy_features[2] = fuzz.token_sort_ratio(comp1, comp2)\n",
        "\n",
        "    # token_set_ratio\n",
        "    fuzzy_features[3] = fuzz.token_set_ratio(comp1, comp2)\n",
        "\n",
        "    return fuzzy_features"
      ],
      "metadata": {
        "id": "m2ZFEwyQ-Zp2"
      },
      "execution_count": null,
      "outputs": []
    },
    {
      "cell_type": "code",
      "source": [
        "fuzzy_features = final_df.apply(fetch_fuzzy_features, axis=1)\n",
        "\n",
        "# Creating new feature columns for fuzzy features\n",
        "temp_df['fuzz_ratio'] = list(map(lambda x: x[0], fuzzy_features))\n",
        "temp_df['fuzz_partial_ratio'] = list(map(lambda x: x[1], fuzzy_features))\n",
        "temp_df['token_sort_ratio'] = list(map(lambda x: x[2], fuzzy_features))\n",
        "temp_df['token_set_ratio'] = list(map(lambda x: x[3], fuzzy_features))"
      ],
      "metadata": {
        "id": "cpG04H2hyJVf"
      },
      "execution_count": null,
      "outputs": []
    },
    {
      "cell_type": "code",
      "source": [
        "temp_df"
      ],
      "metadata": {
        "colab": {
          "base_uri": "https://localhost:8080/",
          "height": 478
        },
        "id": "1BZXCR-E9jDd",
        "outputId": "9574ac0d-9799-40e3-a5f3-2521e58b7e4b"
      },
      "execution_count": null,
      "outputs": [
        {
          "output_type": "execute_result",
          "data": {
            "text/plain": [
              "     semantic similarity   cos_sim  comp1-len  comp2-len  comp1_num_words  \\\n",
              "0                      1  0.710441         89         80               13   \n",
              "1                      1  0.678920        107        120               15   \n",
              "2                      1  0.707969         91         96               14   \n",
              "3                      1  0.818945         96         93               17   \n",
              "4                      1  0.808788        120        104               18   \n",
              "..                   ...       ...        ...        ...              ...   \n",
              "987                    0  0.518215         97        227               18   \n",
              "988                    0  0.232946         77         98               13   \n",
              "989                    0  0.393367         72         74               12   \n",
              "990                    0  0.418629         81        104               12   \n",
              "991                    0  0.354044        149        140               27   \n",
              "\n",
              "     comp2-num-words  common_words  total_words  word_share   cwc_min  ...  \\\n",
              "0                 11             4           26        0.15  0.285710  ...   \n",
              "1                 17             6           30        0.20  0.333330  ...   \n",
              "2                 15             5           28        0.18  0.111110  ...   \n",
              "3                 18             6           32        0.19  0.499992  ...   \n",
              "4                 17             5           32        0.16  0.142855  ...   \n",
              "..               ...           ...          ...         ...       ...  ...   \n",
              "987               42             4           30        0.13  0.111110  ...   \n",
              "988               13             0           26        0.00  0.000000  ...   \n",
              "989                9             1           22        0.05  0.000000  ...   \n",
              "990               13             5           24        0.21  0.249997  ...   \n",
              "991               20             5           46        0.11  0.181817  ...   \n",
              "\n",
              "      csc_min   csc_max   ctc_min   ctc_max  last_word_eq  first_word_eq  \\\n",
              "0    0.499988  0.333328  0.363633  0.307690             0              0   \n",
              "1    0.499992  0.374995  0.400000  0.352939             0              0   \n",
              "2    0.799984  0.666656  0.357143  0.333331             0              1   \n",
              "3    0.499992  0.272725  0.352941  0.333331             1              1   \n",
              "4    0.666656  0.499994  0.294116  0.277776             0              0   \n",
              "..        ...       ...       ...       ...           ...            ...   \n",
              "987  0.499992  0.176470  0.222222  0.095238             0              0   \n",
              "988  0.000000  0.000000  0.000000  0.000000             0              0   \n",
              "989  0.499975  0.166664  0.111110  0.083333             0              0   \n",
              "990  0.749981  0.749981  0.416667  0.384612             0              1   \n",
              "991  0.333330  0.272725  0.249999  0.185184             0              1   \n",
              "\n",
              "     fuzz_ratio  fuzz_partial_ratio  token_sort_ratio  token_set_ratio  \n",
              "0            65                  80                79               81  \n",
              "1            48                  59                46               52  \n",
              "2            53                  52                42               50  \n",
              "3            48                  53                64               57  \n",
              "4            36                  38                59               55  \n",
              "..          ...                 ...               ...              ...  \n",
              "987           5                  33                 6               31  \n",
              "988          27                  31                29               29  \n",
              "989          42                  43                38               38  \n",
              "990          49                  53                43               50  \n",
              "991          41                  42                44               43  \n",
              "\n",
              "[992 rows x 21 columns]"
            ],
            "text/html": [
              "\n",
              "  <div id=\"df-807e37c9-4752-4fe4-88eb-383c39cc99c6\" class=\"colab-df-container\">\n",
              "    <div>\n",
              "<style scoped>\n",
              "    .dataframe tbody tr th:only-of-type {\n",
              "        vertical-align: middle;\n",
              "    }\n",
              "\n",
              "    .dataframe tbody tr th {\n",
              "        vertical-align: top;\n",
              "    }\n",
              "\n",
              "    .dataframe thead th {\n",
              "        text-align: right;\n",
              "    }\n",
              "</style>\n",
              "<table border=\"1\" class=\"dataframe\">\n",
              "  <thead>\n",
              "    <tr style=\"text-align: right;\">\n",
              "      <th></th>\n",
              "      <th>semantic similarity</th>\n",
              "      <th>cos_sim</th>\n",
              "      <th>comp1-len</th>\n",
              "      <th>comp2-len</th>\n",
              "      <th>comp1_num_words</th>\n",
              "      <th>comp2-num-words</th>\n",
              "      <th>common_words</th>\n",
              "      <th>total_words</th>\n",
              "      <th>word_share</th>\n",
              "      <th>cwc_min</th>\n",
              "      <th>...</th>\n",
              "      <th>csc_min</th>\n",
              "      <th>csc_max</th>\n",
              "      <th>ctc_min</th>\n",
              "      <th>ctc_max</th>\n",
              "      <th>last_word_eq</th>\n",
              "      <th>first_word_eq</th>\n",
              "      <th>fuzz_ratio</th>\n",
              "      <th>fuzz_partial_ratio</th>\n",
              "      <th>token_sort_ratio</th>\n",
              "      <th>token_set_ratio</th>\n",
              "    </tr>\n",
              "  </thead>\n",
              "  <tbody>\n",
              "    <tr>\n",
              "      <th>0</th>\n",
              "      <td>1</td>\n",
              "      <td>0.710441</td>\n",
              "      <td>89</td>\n",
              "      <td>80</td>\n",
              "      <td>13</td>\n",
              "      <td>11</td>\n",
              "      <td>4</td>\n",
              "      <td>26</td>\n",
              "      <td>0.15</td>\n",
              "      <td>0.285710</td>\n",
              "      <td>...</td>\n",
              "      <td>0.499988</td>\n",
              "      <td>0.333328</td>\n",
              "      <td>0.363633</td>\n",
              "      <td>0.307690</td>\n",
              "      <td>0</td>\n",
              "      <td>0</td>\n",
              "      <td>65</td>\n",
              "      <td>80</td>\n",
              "      <td>79</td>\n",
              "      <td>81</td>\n",
              "    </tr>\n",
              "    <tr>\n",
              "      <th>1</th>\n",
              "      <td>1</td>\n",
              "      <td>0.678920</td>\n",
              "      <td>107</td>\n",
              "      <td>120</td>\n",
              "      <td>15</td>\n",
              "      <td>17</td>\n",
              "      <td>6</td>\n",
              "      <td>30</td>\n",
              "      <td>0.20</td>\n",
              "      <td>0.333330</td>\n",
              "      <td>...</td>\n",
              "      <td>0.499992</td>\n",
              "      <td>0.374995</td>\n",
              "      <td>0.400000</td>\n",
              "      <td>0.352939</td>\n",
              "      <td>0</td>\n",
              "      <td>0</td>\n",
              "      <td>48</td>\n",
              "      <td>59</td>\n",
              "      <td>46</td>\n",
              "      <td>52</td>\n",
              "    </tr>\n",
              "    <tr>\n",
              "      <th>2</th>\n",
              "      <td>1</td>\n",
              "      <td>0.707969</td>\n",
              "      <td>91</td>\n",
              "      <td>96</td>\n",
              "      <td>14</td>\n",
              "      <td>15</td>\n",
              "      <td>5</td>\n",
              "      <td>28</td>\n",
              "      <td>0.18</td>\n",
              "      <td>0.111110</td>\n",
              "      <td>...</td>\n",
              "      <td>0.799984</td>\n",
              "      <td>0.666656</td>\n",
              "      <td>0.357143</td>\n",
              "      <td>0.333331</td>\n",
              "      <td>0</td>\n",
              "      <td>1</td>\n",
              "      <td>53</td>\n",
              "      <td>52</td>\n",
              "      <td>42</td>\n",
              "      <td>50</td>\n",
              "    </tr>\n",
              "    <tr>\n",
              "      <th>3</th>\n",
              "      <td>1</td>\n",
              "      <td>0.818945</td>\n",
              "      <td>96</td>\n",
              "      <td>93</td>\n",
              "      <td>17</td>\n",
              "      <td>18</td>\n",
              "      <td>6</td>\n",
              "      <td>32</td>\n",
              "      <td>0.19</td>\n",
              "      <td>0.499992</td>\n",
              "      <td>...</td>\n",
              "      <td>0.499992</td>\n",
              "      <td>0.272725</td>\n",
              "      <td>0.352941</td>\n",
              "      <td>0.333331</td>\n",
              "      <td>1</td>\n",
              "      <td>1</td>\n",
              "      <td>48</td>\n",
              "      <td>53</td>\n",
              "      <td>64</td>\n",
              "      <td>57</td>\n",
              "    </tr>\n",
              "    <tr>\n",
              "      <th>4</th>\n",
              "      <td>1</td>\n",
              "      <td>0.808788</td>\n",
              "      <td>120</td>\n",
              "      <td>104</td>\n",
              "      <td>18</td>\n",
              "      <td>17</td>\n",
              "      <td>5</td>\n",
              "      <td>32</td>\n",
              "      <td>0.16</td>\n",
              "      <td>0.142855</td>\n",
              "      <td>...</td>\n",
              "      <td>0.666656</td>\n",
              "      <td>0.499994</td>\n",
              "      <td>0.294116</td>\n",
              "      <td>0.277776</td>\n",
              "      <td>0</td>\n",
              "      <td>0</td>\n",
              "      <td>36</td>\n",
              "      <td>38</td>\n",
              "      <td>59</td>\n",
              "      <td>55</td>\n",
              "    </tr>\n",
              "    <tr>\n",
              "      <th>...</th>\n",
              "      <td>...</td>\n",
              "      <td>...</td>\n",
              "      <td>...</td>\n",
              "      <td>...</td>\n",
              "      <td>...</td>\n",
              "      <td>...</td>\n",
              "      <td>...</td>\n",
              "      <td>...</td>\n",
              "      <td>...</td>\n",
              "      <td>...</td>\n",
              "      <td>...</td>\n",
              "      <td>...</td>\n",
              "      <td>...</td>\n",
              "      <td>...</td>\n",
              "      <td>...</td>\n",
              "      <td>...</td>\n",
              "      <td>...</td>\n",
              "      <td>...</td>\n",
              "      <td>...</td>\n",
              "      <td>...</td>\n",
              "      <td>...</td>\n",
              "    </tr>\n",
              "    <tr>\n",
              "      <th>987</th>\n",
              "      <td>0</td>\n",
              "      <td>0.518215</td>\n",
              "      <td>97</td>\n",
              "      <td>227</td>\n",
              "      <td>18</td>\n",
              "      <td>42</td>\n",
              "      <td>4</td>\n",
              "      <td>30</td>\n",
              "      <td>0.13</td>\n",
              "      <td>0.111110</td>\n",
              "      <td>...</td>\n",
              "      <td>0.499992</td>\n",
              "      <td>0.176470</td>\n",
              "      <td>0.222222</td>\n",
              "      <td>0.095238</td>\n",
              "      <td>0</td>\n",
              "      <td>0</td>\n",
              "      <td>5</td>\n",
              "      <td>33</td>\n",
              "      <td>6</td>\n",
              "      <td>31</td>\n",
              "    </tr>\n",
              "    <tr>\n",
              "      <th>988</th>\n",
              "      <td>0</td>\n",
              "      <td>0.232946</td>\n",
              "      <td>77</td>\n",
              "      <td>98</td>\n",
              "      <td>13</td>\n",
              "      <td>13</td>\n",
              "      <td>0</td>\n",
              "      <td>26</td>\n",
              "      <td>0.00</td>\n",
              "      <td>0.000000</td>\n",
              "      <td>...</td>\n",
              "      <td>0.000000</td>\n",
              "      <td>0.000000</td>\n",
              "      <td>0.000000</td>\n",
              "      <td>0.000000</td>\n",
              "      <td>0</td>\n",
              "      <td>0</td>\n",
              "      <td>27</td>\n",
              "      <td>31</td>\n",
              "      <td>29</td>\n",
              "      <td>29</td>\n",
              "    </tr>\n",
              "    <tr>\n",
              "      <th>989</th>\n",
              "      <td>0</td>\n",
              "      <td>0.393367</td>\n",
              "      <td>72</td>\n",
              "      <td>74</td>\n",
              "      <td>12</td>\n",
              "      <td>9</td>\n",
              "      <td>1</td>\n",
              "      <td>22</td>\n",
              "      <td>0.05</td>\n",
              "      <td>0.000000</td>\n",
              "      <td>...</td>\n",
              "      <td>0.499975</td>\n",
              "      <td>0.166664</td>\n",
              "      <td>0.111110</td>\n",
              "      <td>0.083333</td>\n",
              "      <td>0</td>\n",
              "      <td>0</td>\n",
              "      <td>42</td>\n",
              "      <td>43</td>\n",
              "      <td>38</td>\n",
              "      <td>38</td>\n",
              "    </tr>\n",
              "    <tr>\n",
              "      <th>990</th>\n",
              "      <td>0</td>\n",
              "      <td>0.418629</td>\n",
              "      <td>81</td>\n",
              "      <td>104</td>\n",
              "      <td>12</td>\n",
              "      <td>13</td>\n",
              "      <td>5</td>\n",
              "      <td>24</td>\n",
              "      <td>0.21</td>\n",
              "      <td>0.249997</td>\n",
              "      <td>...</td>\n",
              "      <td>0.749981</td>\n",
              "      <td>0.749981</td>\n",
              "      <td>0.416667</td>\n",
              "      <td>0.384612</td>\n",
              "      <td>0</td>\n",
              "      <td>1</td>\n",
              "      <td>49</td>\n",
              "      <td>53</td>\n",
              "      <td>43</td>\n",
              "      <td>50</td>\n",
              "    </tr>\n",
              "    <tr>\n",
              "      <th>991</th>\n",
              "      <td>0</td>\n",
              "      <td>0.354044</td>\n",
              "      <td>149</td>\n",
              "      <td>140</td>\n",
              "      <td>27</td>\n",
              "      <td>20</td>\n",
              "      <td>5</td>\n",
              "      <td>46</td>\n",
              "      <td>0.11</td>\n",
              "      <td>0.181817</td>\n",
              "      <td>...</td>\n",
              "      <td>0.333330</td>\n",
              "      <td>0.272725</td>\n",
              "      <td>0.249999</td>\n",
              "      <td>0.185184</td>\n",
              "      <td>0</td>\n",
              "      <td>1</td>\n",
              "      <td>41</td>\n",
              "      <td>42</td>\n",
              "      <td>44</td>\n",
              "      <td>43</td>\n",
              "    </tr>\n",
              "  </tbody>\n",
              "</table>\n",
              "<p>992 rows × 21 columns</p>\n",
              "</div>\n",
              "    <div class=\"colab-df-buttons\">\n",
              "\n",
              "  <div class=\"colab-df-container\">\n",
              "    <button class=\"colab-df-convert\" onclick=\"convertToInteractive('df-807e37c9-4752-4fe4-88eb-383c39cc99c6')\"\n",
              "            title=\"Convert this dataframe to an interactive table.\"\n",
              "            style=\"display:none;\">\n",
              "\n",
              "  <svg xmlns=\"http://www.w3.org/2000/svg\" height=\"24px\" viewBox=\"0 -960 960 960\">\n",
              "    <path d=\"M120-120v-720h720v720H120Zm60-500h600v-160H180v160Zm220 220h160v-160H400v160Zm0 220h160v-160H400v160ZM180-400h160v-160H180v160Zm440 0h160v-160H620v160ZM180-180h160v-160H180v160Zm440 0h160v-160H620v160Z\"/>\n",
              "  </svg>\n",
              "    </button>\n",
              "\n",
              "  <style>\n",
              "    .colab-df-container {\n",
              "      display:flex;\n",
              "      gap: 12px;\n",
              "    }\n",
              "\n",
              "    .colab-df-convert {\n",
              "      background-color: #E8F0FE;\n",
              "      border: none;\n",
              "      border-radius: 50%;\n",
              "      cursor: pointer;\n",
              "      display: none;\n",
              "      fill: #1967D2;\n",
              "      height: 32px;\n",
              "      padding: 0 0 0 0;\n",
              "      width: 32px;\n",
              "    }\n",
              "\n",
              "    .colab-df-convert:hover {\n",
              "      background-color: #E2EBFA;\n",
              "      box-shadow: 0px 1px 2px rgba(60, 64, 67, 0.3), 0px 1px 3px 1px rgba(60, 64, 67, 0.15);\n",
              "      fill: #174EA6;\n",
              "    }\n",
              "\n",
              "    .colab-df-buttons div {\n",
              "      margin-bottom: 4px;\n",
              "    }\n",
              "\n",
              "    [theme=dark] .colab-df-convert {\n",
              "      background-color: #3B4455;\n",
              "      fill: #D2E3FC;\n",
              "    }\n",
              "\n",
              "    [theme=dark] .colab-df-convert:hover {\n",
              "      background-color: #434B5C;\n",
              "      box-shadow: 0px 1px 3px 1px rgba(0, 0, 0, 0.15);\n",
              "      filter: drop-shadow(0px 1px 2px rgba(0, 0, 0, 0.3));\n",
              "      fill: #FFFFFF;\n",
              "    }\n",
              "  </style>\n",
              "\n",
              "    <script>\n",
              "      const buttonEl =\n",
              "        document.querySelector('#df-807e37c9-4752-4fe4-88eb-383c39cc99c6 button.colab-df-convert');\n",
              "      buttonEl.style.display =\n",
              "        google.colab.kernel.accessAllowed ? 'block' : 'none';\n",
              "\n",
              "      async function convertToInteractive(key) {\n",
              "        const element = document.querySelector('#df-807e37c9-4752-4fe4-88eb-383c39cc99c6');\n",
              "        const dataTable =\n",
              "          await google.colab.kernel.invokeFunction('convertToInteractive',\n",
              "                                                    [key], {});\n",
              "        if (!dataTable) return;\n",
              "\n",
              "        const docLinkHtml = 'Like what you see? Visit the ' +\n",
              "          '<a target=\"_blank\" href=https://colab.research.google.com/notebooks/data_table.ipynb>data table notebook</a>'\n",
              "          + ' to learn more about interactive tables.';\n",
              "        element.innerHTML = '';\n",
              "        dataTable['output_type'] = 'display_data';\n",
              "        await google.colab.output.renderOutput(dataTable, element);\n",
              "        const docLink = document.createElement('div');\n",
              "        docLink.innerHTML = docLinkHtml;\n",
              "        element.appendChild(docLink);\n",
              "      }\n",
              "    </script>\n",
              "  </div>\n",
              "\n",
              "\n",
              "<div id=\"df-be994676-f2f8-4e6e-9c04-ad31c4b36949\">\n",
              "  <button class=\"colab-df-quickchart\" onclick=\"quickchart('df-be994676-f2f8-4e6e-9c04-ad31c4b36949')\"\n",
              "            title=\"Suggest charts\"\n",
              "            style=\"display:none;\">\n",
              "\n",
              "<svg xmlns=\"http://www.w3.org/2000/svg\" height=\"24px\"viewBox=\"0 0 24 24\"\n",
              "     width=\"24px\">\n",
              "    <g>\n",
              "        <path d=\"M19 3H5c-1.1 0-2 .9-2 2v14c0 1.1.9 2 2 2h14c1.1 0 2-.9 2-2V5c0-1.1-.9-2-2-2zM9 17H7v-7h2v7zm4 0h-2V7h2v10zm4 0h-2v-4h2v4z\"/>\n",
              "    </g>\n",
              "</svg>\n",
              "  </button>\n",
              "\n",
              "<style>\n",
              "  .colab-df-quickchart {\n",
              "      --bg-color: #E8F0FE;\n",
              "      --fill-color: #1967D2;\n",
              "      --hover-bg-color: #E2EBFA;\n",
              "      --hover-fill-color: #174EA6;\n",
              "      --disabled-fill-color: #AAA;\n",
              "      --disabled-bg-color: #DDD;\n",
              "  }\n",
              "\n",
              "  [theme=dark] .colab-df-quickchart {\n",
              "      --bg-color: #3B4455;\n",
              "      --fill-color: #D2E3FC;\n",
              "      --hover-bg-color: #434B5C;\n",
              "      --hover-fill-color: #FFFFFF;\n",
              "      --disabled-bg-color: #3B4455;\n",
              "      --disabled-fill-color: #666;\n",
              "  }\n",
              "\n",
              "  .colab-df-quickchart {\n",
              "    background-color: var(--bg-color);\n",
              "    border: none;\n",
              "    border-radius: 50%;\n",
              "    cursor: pointer;\n",
              "    display: none;\n",
              "    fill: var(--fill-color);\n",
              "    height: 32px;\n",
              "    padding: 0;\n",
              "    width: 32px;\n",
              "  }\n",
              "\n",
              "  .colab-df-quickchart:hover {\n",
              "    background-color: var(--hover-bg-color);\n",
              "    box-shadow: 0 1px 2px rgba(60, 64, 67, 0.3), 0 1px 3px 1px rgba(60, 64, 67, 0.15);\n",
              "    fill: var(--button-hover-fill-color);\n",
              "  }\n",
              "\n",
              "  .colab-df-quickchart-complete:disabled,\n",
              "  .colab-df-quickchart-complete:disabled:hover {\n",
              "    background-color: var(--disabled-bg-color);\n",
              "    fill: var(--disabled-fill-color);\n",
              "    box-shadow: none;\n",
              "  }\n",
              "\n",
              "  .colab-df-spinner {\n",
              "    border: 2px solid var(--fill-color);\n",
              "    border-color: transparent;\n",
              "    border-bottom-color: var(--fill-color);\n",
              "    animation:\n",
              "      spin 1s steps(1) infinite;\n",
              "  }\n",
              "\n",
              "  @keyframes spin {\n",
              "    0% {\n",
              "      border-color: transparent;\n",
              "      border-bottom-color: var(--fill-color);\n",
              "      border-left-color: var(--fill-color);\n",
              "    }\n",
              "    20% {\n",
              "      border-color: transparent;\n",
              "      border-left-color: var(--fill-color);\n",
              "      border-top-color: var(--fill-color);\n",
              "    }\n",
              "    30% {\n",
              "      border-color: transparent;\n",
              "      border-left-color: var(--fill-color);\n",
              "      border-top-color: var(--fill-color);\n",
              "      border-right-color: var(--fill-color);\n",
              "    }\n",
              "    40% {\n",
              "      border-color: transparent;\n",
              "      border-right-color: var(--fill-color);\n",
              "      border-top-color: var(--fill-color);\n",
              "    }\n",
              "    60% {\n",
              "      border-color: transparent;\n",
              "      border-right-color: var(--fill-color);\n",
              "    }\n",
              "    80% {\n",
              "      border-color: transparent;\n",
              "      border-right-color: var(--fill-color);\n",
              "      border-bottom-color: var(--fill-color);\n",
              "    }\n",
              "    90% {\n",
              "      border-color: transparent;\n",
              "      border-bottom-color: var(--fill-color);\n",
              "    }\n",
              "  }\n",
              "</style>\n",
              "\n",
              "  <script>\n",
              "    async function quickchart(key) {\n",
              "      const quickchartButtonEl =\n",
              "        document.querySelector('#' + key + ' button');\n",
              "      quickchartButtonEl.disabled = true;  // To prevent multiple clicks.\n",
              "      quickchartButtonEl.classList.add('colab-df-spinner');\n",
              "      try {\n",
              "        const charts = await google.colab.kernel.invokeFunction(\n",
              "            'suggestCharts', [key], {});\n",
              "      } catch (error) {\n",
              "        console.error('Error during call to suggestCharts:', error);\n",
              "      }\n",
              "      quickchartButtonEl.classList.remove('colab-df-spinner');\n",
              "      quickchartButtonEl.classList.add('colab-df-quickchart-complete');\n",
              "    }\n",
              "    (() => {\n",
              "      let quickchartButtonEl =\n",
              "        document.querySelector('#df-be994676-f2f8-4e6e-9c04-ad31c4b36949 button');\n",
              "      quickchartButtonEl.style.display =\n",
              "        google.colab.kernel.accessAllowed ? 'block' : 'none';\n",
              "    })();\n",
              "  </script>\n",
              "</div>\n",
              "\n",
              "  <div id=\"id_2ebd0f5d-6ef6-44ad-b62b-195ff7df2cb3\">\n",
              "    <style>\n",
              "      .colab-df-generate {\n",
              "        background-color: #E8F0FE;\n",
              "        border: none;\n",
              "        border-radius: 50%;\n",
              "        cursor: pointer;\n",
              "        display: none;\n",
              "        fill: #1967D2;\n",
              "        height: 32px;\n",
              "        padding: 0 0 0 0;\n",
              "        width: 32px;\n",
              "      }\n",
              "\n",
              "      .colab-df-generate:hover {\n",
              "        background-color: #E2EBFA;\n",
              "        box-shadow: 0px 1px 2px rgba(60, 64, 67, 0.3), 0px 1px 3px 1px rgba(60, 64, 67, 0.15);\n",
              "        fill: #174EA6;\n",
              "      }\n",
              "\n",
              "      [theme=dark] .colab-df-generate {\n",
              "        background-color: #3B4455;\n",
              "        fill: #D2E3FC;\n",
              "      }\n",
              "\n",
              "      [theme=dark] .colab-df-generate:hover {\n",
              "        background-color: #434B5C;\n",
              "        box-shadow: 0px 1px 3px 1px rgba(0, 0, 0, 0.15);\n",
              "        filter: drop-shadow(0px 1px 2px rgba(0, 0, 0, 0.3));\n",
              "        fill: #FFFFFF;\n",
              "      }\n",
              "    </style>\n",
              "    <button class=\"colab-df-generate\" onclick=\"generateWithVariable('temp_df')\"\n",
              "            title=\"Generate code using this dataframe.\"\n",
              "            style=\"display:none;\">\n",
              "\n",
              "  <svg xmlns=\"http://www.w3.org/2000/svg\" height=\"24px\"viewBox=\"0 0 24 24\"\n",
              "       width=\"24px\">\n",
              "    <path d=\"M7,19H8.4L18.45,9,17,7.55,7,17.6ZM5,21V16.75L18.45,3.32a2,2,0,0,1,2.83,0l1.4,1.43a1.91,1.91,0,0,1,.58,1.4,1.91,1.91,0,0,1-.58,1.4L9.25,21ZM18.45,9,17,7.55Zm-12,3A5.31,5.31,0,0,0,4.9,8.1,5.31,5.31,0,0,0,1,6.5,5.31,5.31,0,0,0,4.9,4.9,5.31,5.31,0,0,0,6.5,1,5.31,5.31,0,0,0,8.1,4.9,5.31,5.31,0,0,0,12,6.5,5.46,5.46,0,0,0,6.5,12Z\"/>\n",
              "  </svg>\n",
              "    </button>\n",
              "    <script>\n",
              "      (() => {\n",
              "      const buttonEl =\n",
              "        document.querySelector('#id_2ebd0f5d-6ef6-44ad-b62b-195ff7df2cb3 button.colab-df-generate');\n",
              "      buttonEl.style.display =\n",
              "        google.colab.kernel.accessAllowed ? 'block' : 'none';\n",
              "\n",
              "      buttonEl.onclick = () => {\n",
              "        google.colab.notebook.generateWithVariable('temp_df');\n",
              "      }\n",
              "      })();\n",
              "    </script>\n",
              "  </div>\n",
              "\n",
              "    </div>\n",
              "  </div>\n"
            ],
            "application/vnd.google.colaboratory.intrinsic+json": {
              "type": "dataframe",
              "variable_name": "temp_df"
            }
          },
          "metadata": {},
          "execution_count": 52
        }
      ]
    },
    {
      "cell_type": "code",
      "source": [
        "corr_data=temp_df[['cos_sim','fuzz_ratio','fuzz_partial_ratio','token_sort_ratio','token_set_ratio']]"
      ],
      "metadata": {
        "id": "ACAM3DhS_Auf"
      },
      "execution_count": null,
      "outputs": []
    },
    {
      "cell_type": "code",
      "source": [
        "mask=np.zeros_like(corr_data.corr())\n",
        "triangle_indices=np.triu_indices_from(mask)\n",
        "mask[triangle_indices]=True\n",
        "mask"
      ],
      "metadata": {
        "colab": {
          "base_uri": "https://localhost:8080/"
        },
        "id": "ic0Ad_joA2bb",
        "outputId": "0066146e-3224-4ed8-f559-9cbe7367286c"
      },
      "execution_count": null,
      "outputs": [
        {
          "output_type": "execute_result",
          "data": {
            "text/plain": [
              "array([[1., 1., 1., 1., 1.],\n",
              "       [0., 1., 1., 1., 1.],\n",
              "       [0., 0., 1., 1., 1.],\n",
              "       [0., 0., 0., 1., 1.],\n",
              "       [0., 0., 0., 0., 1.]])"
            ]
          },
          "metadata": {},
          "execution_count": 307
        }
      ]
    },
    {
      "cell_type": "code",
      "source": [
        "\n",
        "sns.heatmap(data=corr_data.corr(),mask=mask,annot=True,linewidth=0.5,cmap='viridis')"
      ],
      "metadata": {
        "colab": {
          "base_uri": "https://localhost:8080/",
          "height": 554
        },
        "id": "zz0MvZ--BJw_",
        "outputId": "2fc1c316-810b-4e57-d45e-ddd9f87f91e1"
      },
      "execution_count": null,
      "outputs": [
        {
          "output_type": "execute_result",
          "data": {
            "text/plain": [
              "<Axes: >"
            ]
          },
          "metadata": {},
          "execution_count": 308
        },
        {
          "output_type": "display_data",
          "data": {
            "text/plain": [
              "<Figure size 640x480 with 2 Axes>"
            ],
            "image/png": "[encoded data removed]"
          },
          "metadata": {}
        }
      ]
    },
    {
      "cell_type": "code",
      "source": [
        "sns.displot(data=temp_df,x='token_set_ratio',hue='semantic similarity',kind='kde', fill=True)"
      ],
      "metadata": {
        "colab": {
          "base_uri": "https://localhost:8080/",
          "height": 524
        },
        "id": "EZAJ-JYyBZN2",
        "outputId": "68d5274e-96bd-4ce2-fbbf-67a449923033"
      },
      "execution_count": null,
      "outputs": [
        {
          "output_type": "execute_result",
          "data": {
            "text/plain": [
              "<seaborn.axisgrid.FacetGrid at 0x79d603952f20>"
            ]
          },
          "metadata": {},
          "execution_count": 56
        },
        {
          "output_type": "display_data",
          "data": {
            "text/plain": [
              "<Figure size 643.236x500 with 1 Axes>"
            ],
            "image/png": "[encoded data removed]"
          },
          "metadata": {}
        }
      ]
    },
    {
      "cell_type": "code",
      "source": [
        "sns.displot(data=temp_df,x='token_sort_ratio',hue='semantic similarity',kind='kde',fill=True)"
      ],
      "metadata": {
        "colab": {
          "base_uri": "https://localhost:8080/",
          "height": 524
        },
        "id": "pwVIrb50CBfu",
        "outputId": "f3182514-505b-4014-bcc5-d430f9593335"
      },
      "execution_count": null,
      "outputs": [
        {
          "output_type": "execute_result",
          "data": {
            "text/plain": [
              "<seaborn.axisgrid.FacetGrid at 0x79d61afba260>"
            ]
          },
          "metadata": {},
          "execution_count": 57
        },
        {
          "output_type": "display_data",
          "data": {
            "text/plain": [
              "<Figure size 643.236x500 with 1 Axes>"
            ],
            "image/png": "[encoded data removed]"
          },
          "metadata": {}
        }
      ]
    },
    {
      "cell_type": "code",
      "source": [
        "temp_df"
      ],
      "metadata": {
        "colab": {
          "base_uri": "https://localhost:8080/",
          "height": 478
        },
        "id": "V2gWZaQhEBaH",
        "outputId": "38ff613b-c6e7-410a-aebb-14470eebbab2"
      },
      "execution_count": null,
      "outputs": [
        {
          "output_type": "execute_result",
          "data": {
            "text/plain": [
              "     semantic similarity   cos_sim  comp1-len  comp2-len  comp1_num_words  \\\n",
              "0                      1  0.710441         89         80               13   \n",
              "1                      1  0.678920        107        120               15   \n",
              "2                      1  0.707969         91         96               14   \n",
              "3                      1  0.818945         96         93               17   \n",
              "4                      1  0.808788        120        104               18   \n",
              "..                   ...       ...        ...        ...              ...   \n",
              "987                    0  0.518215         97        227               18   \n",
              "988                    0  0.232946         77         98               13   \n",
              "989                    0  0.393367         72         74               12   \n",
              "990                    0  0.418629         81        104               12   \n",
              "991                    0  0.354044        149        140               27   \n",
              "\n",
              "     comp2-num-words  common_words  total_words  word_share   cwc_min  ...  \\\n",
              "0                 11             4           26        0.15  0.285710  ...   \n",
              "1                 17             6           30        0.20  0.333330  ...   \n",
              "2                 15             5           28        0.18  0.111110  ...   \n",
              "3                 18             6           32        0.19  0.499992  ...   \n",
              "4                 17             5           32        0.16  0.142855  ...   \n",
              "..               ...           ...          ...         ...       ...  ...   \n",
              "987               42             4           30        0.13  0.111110  ...   \n",
              "988               13             0           26        0.00  0.000000  ...   \n",
              "989                9             1           22        0.05  0.000000  ...   \n",
              "990               13             5           24        0.21  0.249997  ...   \n",
              "991               20             5           46        0.11  0.181817  ...   \n",
              "\n",
              "      csc_min   csc_max   ctc_min   ctc_max  last_word_eq  first_word_eq  \\\n",
              "0    0.499988  0.333328  0.363633  0.307690             0              0   \n",
              "1    0.499992  0.374995  0.400000  0.352939             0              0   \n",
              "2    0.799984  0.666656  0.357143  0.333331             0              1   \n",
              "3    0.499992  0.272725  0.352941  0.333331             1              1   \n",
              "4    0.666656  0.499994  0.294116  0.277776             0              0   \n",
              "..        ...       ...       ...       ...           ...            ...   \n",
              "987  0.499992  0.176470  0.222222  0.095238             0              0   \n",
              "988  0.000000  0.000000  0.000000  0.000000             0              0   \n",
              "989  0.499975  0.166664  0.111110  0.083333             0              0   \n",
              "990  0.749981  0.749981  0.416667  0.384612             0              1   \n",
              "991  0.333330  0.272725  0.249999  0.185184             0              1   \n",
              "\n",
              "     fuzz_ratio  fuzz_partial_ratio  token_sort_ratio  token_set_ratio  \n",
              "0            65                  80                79               81  \n",
              "1            48                  59                46               52  \n",
              "2            53                  52                42               50  \n",
              "3            48                  53                64               57  \n",
              "4            36                  38                59               55  \n",
              "..          ...                 ...               ...              ...  \n",
              "987           5                  33                 6               31  \n",
              "988          27                  31                29               29  \n",
              "989          42                  43                38               38  \n",
              "990          49                  53                43               50  \n",
              "991          41                  42                44               43  \n",
              "\n",
              "[992 rows x 21 columns]"
            ],
            "text/html": [
              "\n",
              "  <div id=\"df-60384b4a-41df-43e4-8acd-98d3e372f7da\" class=\"colab-df-container\">\n",
              "    <div>\n",
              "<style scoped>\n",
              "    .dataframe tbody tr th:only-of-type {\n",
              "        vertical-align: middle;\n",
              "    }\n",
              "\n",
              "    .dataframe tbody tr th {\n",
              "        vertical-align: top;\n",
              "    }\n",
              "\n",
              "    .dataframe thead th {\n",
              "        text-align: right;\n",
              "    }\n",
              "</style>\n",
              "<table border=\"1\" class=\"dataframe\">\n",
              "  <thead>\n",
              "    <tr style=\"text-align: right;\">\n",
              "      <th></th>\n",
              "      <th>semantic similarity</th>\n",
              "      <th>cos_sim</th>\n",
              "      <th>comp1-len</th>\n",
              "      <th>comp2-len</th>\n",
              "      <th>comp1_num_words</th>\n",
              "      <th>comp2-num-words</th>\n",
              "      <th>common_words</th>\n",
              "      <th>total_words</th>\n",
              "      <th>word_share</th>\n",
              "      <th>cwc_min</th>\n",
              "      <th>...</th>\n",
              "      <th>csc_min</th>\n",
              "      <th>csc_max</th>\n",
              "      <th>ctc_min</th>\n",
              "      <th>ctc_max</th>\n",
              "      <th>last_word_eq</th>\n",
              "      <th>first_word_eq</th>\n",
              "      <th>fuzz_ratio</th>\n",
              "      <th>fuzz_partial_ratio</th>\n",
              "      <th>token_sort_ratio</th>\n",
              "      <th>token_set_ratio</th>\n",
              "    </tr>\n",
              "  </thead>\n",
              "  <tbody>\n",
              "    <tr>\n",
              "      <th>0</th>\n",
              "      <td>1</td>\n",
              "      <td>0.710441</td>\n",
              "      <td>89</td>\n",
              "      <td>80</td>\n",
              "      <td>13</td>\n",
              "      <td>11</td>\n",
              "      <td>4</td>\n",
              "      <td>26</td>\n",
              "      <td>0.15</td>\n",
              "      <td>0.285710</td>\n",
              "      <td>...</td>\n",
              "      <td>0.499988</td>\n",
              "      <td>0.333328</td>\n",
              "      <td>0.363633</td>\n",
              "      <td>0.307690</td>\n",
              "      <td>0</td>\n",
              "      <td>0</td>\n",
              "      <td>65</td>\n",
              "      <td>80</td>\n",
              "      <td>79</td>\n",
              "      <td>81</td>\n",
              "    </tr>\n",
              "    <tr>\n",
              "      <th>1</th>\n",
              "      <td>1</td>\n",
              "      <td>0.678920</td>\n",
              "      <td>107</td>\n",
              "      <td>120</td>\n",
              "      <td>15</td>\n",
              "      <td>17</td>\n",
              "      <td>6</td>\n",
              "      <td>30</td>\n",
              "      <td>0.20</td>\n",
              "      <td>0.333330</td>\n",
              "      <td>...</td>\n",
              "      <td>0.499992</td>\n",
              "      <td>0.374995</td>\n",
              "      <td>0.400000</td>\n",
              "      <td>0.352939</td>\n",
              "      <td>0</td>\n",
              "      <td>0</td>\n",
              "      <td>48</td>\n",
              "      <td>59</td>\n",
              "      <td>46</td>\n",
              "      <td>52</td>\n",
              "    </tr>\n",
              "    <tr>\n",
              "      <th>2</th>\n",
              "      <td>1</td>\n",
              "      <td>0.707969</td>\n",
              "      <td>91</td>\n",
              "      <td>96</td>\n",
              "      <td>14</td>\n",
              "      <td>15</td>\n",
              "      <td>5</td>\n",
              "      <td>28</td>\n",
              "      <td>0.18</td>\n",
              "      <td>0.111110</td>\n",
              "      <td>...</td>\n",
              "      <td>0.799984</td>\n",
              "      <td>0.666656</td>\n",
              "      <td>0.357143</td>\n",
              "      <td>0.333331</td>\n",
              "      <td>0</td>\n",
              "      <td>1</td>\n",
              "      <td>53</td>\n",
              "      <td>52</td>\n",
              "      <td>42</td>\n",
              "      <td>50</td>\n",
              "    </tr>\n",
              "    <tr>\n",
              "      <th>3</th>\n",
              "      <td>1</td>\n",
              "      <td>0.818945</td>\n",
              "      <td>96</td>\n",
              "      <td>93</td>\n",
              "      <td>17</td>\n",
              "      <td>18</td>\n",
              "      <td>6</td>\n",
              "      <td>32</td>\n",
              "      <td>0.19</td>\n",
              "      <td>0.499992</td>\n",
              "      <td>...</td>\n",
              "      <td>0.499992</td>\n",
              "      <td>0.272725</td>\n",
              "      <td>0.352941</td>\n",
              "      <td>0.333331</td>\n",
              "      <td>1</td>\n",
              "      <td>1</td>\n",
              "      <td>48</td>\n",
              "      <td>53</td>\n",
              "      <td>64</td>\n",
              "      <td>57</td>\n",
              "    </tr>\n",
              "    <tr>\n",
              "      <th>4</th>\n",
              "      <td>1</td>\n",
              "      <td>0.808788</td>\n",
              "      <td>120</td>\n",
              "      <td>104</td>\n",
              "      <td>18</td>\n",
              "      <td>17</td>\n",
              "      <td>5</td>\n",
              "      <td>32</td>\n",
              "      <td>0.16</td>\n",
              "      <td>0.142855</td>\n",
              "      <td>...</td>\n",
              "      <td>0.666656</td>\n",
              "      <td>0.499994</td>\n",
              "      <td>0.294116</td>\n",
              "      <td>0.277776</td>\n",
              "      <td>0</td>\n",
              "      <td>0</td>\n",
              "      <td>36</td>\n",
              "      <td>38</td>\n",
              "      <td>59</td>\n",
              "      <td>55</td>\n",
              "    </tr>\n",
              "    <tr>\n",
              "      <th>...</th>\n",
              "      <td>...</td>\n",
              "      <td>...</td>\n",
              "      <td>...</td>\n",
              "      <td>...</td>\n",
              "      <td>...</td>\n",
              "      <td>...</td>\n",
              "      <td>...</td>\n",
              "      <td>...</td>\n",
              "      <td>...</td>\n",
              "      <td>...</td>\n",
              "      <td>...</td>\n",
              "      <td>...</td>\n",
              "      <td>...</td>\n",
              "      <td>...</td>\n",
              "      <td>...</td>\n",
              "      <td>...</td>\n",
              "      <td>...</td>\n",
              "      <td>...</td>\n",
              "      <td>...</td>\n",
              "      <td>...</td>\n",
              "      <td>...</td>\n",
              "    </tr>\n",
              "    <tr>\n",
              "      <th>987</th>\n",
              "      <td>0</td>\n",
              "      <td>0.518215</td>\n",
              "      <td>97</td>\n",
              "      <td>227</td>\n",
              "      <td>18</td>\n",
              "      <td>42</td>\n",
              "      <td>4</td>\n",
              "      <td>30</td>\n",
              "      <td>0.13</td>\n",
              "      <td>0.111110</td>\n",
              "      <td>...</td>\n",
              "      <td>0.499992</td>\n",
              "      <td>0.176470</td>\n",
              "      <td>0.222222</td>\n",
              "      <td>0.095238</td>\n",
              "      <td>0</td>\n",
              "      <td>0</td>\n",
              "      <td>5</td>\n",
              "      <td>33</td>\n",
              "      <td>6</td>\n",
              "      <td>31</td>\n",
              "    </tr>\n",
              "    <tr>\n",
              "      <th>988</th>\n",
              "      <td>0</td>\n",
              "      <td>0.232946</td>\n",
              "      <td>77</td>\n",
              "      <td>98</td>\n",
              "      <td>13</td>\n",
              "      <td>13</td>\n",
              "      <td>0</td>\n",
              "      <td>26</td>\n",
              "      <td>0.00</td>\n",
              "      <td>0.000000</td>\n",
              "      <td>...</td>\n",
              "      <td>0.000000</td>\n",
              "      <td>0.000000</td>\n",
              "      <td>0.000000</td>\n",
              "      <td>0.000000</td>\n",
              "      <td>0</td>\n",
              "      <td>0</td>\n",
              "      <td>27</td>\n",
              "      <td>31</td>\n",
              "      <td>29</td>\n",
              "      <td>29</td>\n",
              "    </tr>\n",
              "    <tr>\n",
              "      <th>989</th>\n",
              "      <td>0</td>\n",
              "      <td>0.393367</td>\n",
              "      <td>72</td>\n",
              "      <td>74</td>\n",
              "      <td>12</td>\n",
              "      <td>9</td>\n",
              "      <td>1</td>\n",
              "      <td>22</td>\n",
              "      <td>0.05</td>\n",
              "      <td>0.000000</td>\n",
              "      <td>...</td>\n",
              "      <td>0.499975</td>\n",
              "      <td>0.166664</td>\n",
              "      <td>0.111110</td>\n",
              "      <td>0.083333</td>\n",
              "      <td>0</td>\n",
              "      <td>0</td>\n",
              "      <td>42</td>\n",
              "      <td>43</td>\n",
              "      <td>38</td>\n",
              "      <td>38</td>\n",
              "    </tr>\n",
              "    <tr>\n",
              "      <th>990</th>\n",
              "      <td>0</td>\n",
              "      <td>0.418629</td>\n",
              "      <td>81</td>\n",
              "      <td>104</td>\n",
              "      <td>12</td>\n",
              "      <td>13</td>\n",
              "      <td>5</td>\n",
              "      <td>24</td>\n",
              "      <td>0.21</td>\n",
              "      <td>0.249997</td>\n",
              "      <td>...</td>\n",
              "      <td>0.749981</td>\n",
              "      <td>0.749981</td>\n",
              "      <td>0.416667</td>\n",
              "      <td>0.384612</td>\n",
              "      <td>0</td>\n",
              "      <td>1</td>\n",
              "      <td>49</td>\n",
              "      <td>53</td>\n",
              "      <td>43</td>\n",
              "      <td>50</td>\n",
              "    </tr>\n",
              "    <tr>\n",
              "      <th>991</th>\n",
              "      <td>0</td>\n",
              "      <td>0.354044</td>\n",
              "      <td>149</td>\n",
              "      <td>140</td>\n",
              "      <td>27</td>\n",
              "      <td>20</td>\n",
              "      <td>5</td>\n",
              "      <td>46</td>\n",
              "      <td>0.11</td>\n",
              "      <td>0.181817</td>\n",
              "      <td>...</td>\n",
              "      <td>0.333330</td>\n",
              "      <td>0.272725</td>\n",
              "      <td>0.249999</td>\n",
              "      <td>0.185184</td>\n",
              "      <td>0</td>\n",
              "      <td>1</td>\n",
              "      <td>41</td>\n",
              "      <td>42</td>\n",
              "      <td>44</td>\n",
              "      <td>43</td>\n",
              "    </tr>\n",
              "  </tbody>\n",
              "</table>\n",
              "<p>992 rows × 21 columns</p>\n",
              "</div>\n",
              "    <div class=\"colab-df-buttons\">\n",
              "\n",
              "  <div class=\"colab-df-container\">\n",
              "    <button class=\"colab-df-convert\" onclick=\"convertToInteractive('df-60384b4a-41df-43e4-8acd-98d3e372f7da')\"\n",
              "            title=\"Convert this dataframe to an interactive table.\"\n",
              "            style=\"display:none;\">\n",
              "\n",
              "  <svg xmlns=\"http://www.w3.org/2000/svg\" height=\"24px\" viewBox=\"0 -960 960 960\">\n",
              "    <path d=\"M120-120v-720h720v720H120Zm60-500h600v-160H180v160Zm220 220h160v-160H400v160Zm0 220h160v-160H400v160ZM180-400h160v-160H180v160Zm440 0h160v-160H620v160ZM180-180h160v-160H180v160Zm440 0h160v-160H620v160Z\"/>\n",
              "  </svg>\n",
              "    </button>\n",
              "\n",
              "  <style>\n",
              "    .colab-df-container {\n",
              "      display:flex;\n",
              "      gap: 12px;\n",
              "    }\n",
              "\n",
              "    .colab-df-convert {\n",
              "      background-color: #E8F0FE;\n",
              "      border: none;\n",
              "      border-radius: 50%;\n",
              "      cursor: pointer;\n",
              "      display: none;\n",
              "      fill: #1967D2;\n",
              "      height: 32px;\n",
              "      padding: 0 0 0 0;\n",
              "      width: 32px;\n",
              "    }\n",
              "\n",
              "    .colab-df-convert:hover {\n",
              "      background-color: #E2EBFA;\n",
              "      box-shadow: 0px 1px 2px rgba(60, 64, 67, 0.3), 0px 1px 3px 1px rgba(60, 64, 67, 0.15);\n",
              "      fill: #174EA6;\n",
              "    }\n",
              "\n",
              "    .colab-df-buttons div {\n",
              "      margin-bottom: 4px;\n",
              "    }\n",
              "\n",
              "    [theme=dark] .colab-df-convert {\n",
              "      background-color: #3B4455;\n",
              "      fill: #D2E3FC;\n",
              "    }\n",
              "\n",
              "    [theme=dark] .colab-df-convert:hover {\n",
              "      background-color: #434B5C;\n",
              "      box-shadow: 0px 1px 3px 1px rgba(0, 0, 0, 0.15);\n",
              "      filter: drop-shadow(0px 1px 2px rgba(0, 0, 0, 0.3));\n",
              "      fill: #FFFFFF;\n",
              "    }\n",
              "  </style>\n",
              "\n",
              "    <script>\n",
              "      const buttonEl =\n",
              "        document.querySelector('#df-60384b4a-41df-43e4-8acd-98d3e372f7da button.colab-df-convert');\n",
              "      buttonEl.style.display =\n",
              "        google.colab.kernel.accessAllowed ? 'block' : 'none';\n",
              "\n",
              "      async function convertToInteractive(key) {\n",
              "        const element = document.querySelector('#df-60384b4a-41df-43e4-8acd-98d3e372f7da');\n",
              "        const dataTable =\n",
              "          await google.colab.kernel.invokeFunction('convertToInteractive',\n",
              "                                                    [key], {});\n",
              "        if (!dataTable) return;\n",
              "\n",
              "        const docLinkHtml = 'Like what you see? Visit the ' +\n",
              "          '<a target=\"_blank\" href=https://colab.research.google.com/notebooks/data_table.ipynb>data table notebook</a>'\n",
              "          + ' to learn more about interactive tables.';\n",
              "        element.innerHTML = '';\n",
              "        dataTable['output_type'] = 'display_data';\n",
              "        await google.colab.output.renderOutput(dataTable, element);\n",
              "        const docLink = document.createElement('div');\n",
              "        docLink.innerHTML = docLinkHtml;\n",
              "        element.appendChild(docLink);\n",
              "      }\n",
              "    </script>\n",
              "  </div>\n",
              "\n",
              "\n",
              "<div id=\"df-bec003b5-bee6-465b-9206-64cfe8076e9b\">\n",
              "  <button class=\"colab-df-quickchart\" onclick=\"quickchart('df-bec003b5-bee6-465b-9206-64cfe8076e9b')\"\n",
              "            title=\"Suggest charts\"\n",
              "            style=\"display:none;\">\n",
              "\n",
              "<svg xmlns=\"http://www.w3.org/2000/svg\" height=\"24px\"viewBox=\"0 0 24 24\"\n",
              "     width=\"24px\">\n",
              "    <g>\n",
              "        <path d=\"M19 3H5c-1.1 0-2 .9-2 2v14c0 1.1.9 2 2 2h14c1.1 0 2-.9 2-2V5c0-1.1-.9-2-2-2zM9 17H7v-7h2v7zm4 0h-2V7h2v10zm4 0h-2v-4h2v4z\"/>\n",
              "    </g>\n",
              "</svg>\n",
              "  </button>\n",
              "\n",
              "<style>\n",
              "  .colab-df-quickchart {\n",
              "      --bg-color: #E8F0FE;\n",
              "      --fill-color: #1967D2;\n",
              "      --hover-bg-color: #E2EBFA;\n",
              "      --hover-fill-color: #174EA6;\n",
              "      --disabled-fill-color: #AAA;\n",
              "      --disabled-bg-color: #DDD;\n",
              "  }\n",
              "\n",
              "  [theme=dark] .colab-df-quickchart {\n",
              "      --bg-color: #3B4455;\n",
              "      --fill-color: #D2E3FC;\n",
              "      --hover-bg-color: #434B5C;\n",
              "      --hover-fill-color: #FFFFFF;\n",
              "      --disabled-bg-color: #3B4455;\n",
              "      --disabled-fill-color: #666;\n",
              "  }\n",
              "\n",
              "  .colab-df-quickchart {\n",
              "    background-color: var(--bg-color);\n",
              "    border: none;\n",
              "    border-radius: 50%;\n",
              "    cursor: pointer;\n",
              "    display: none;\n",
              "    fill: var(--fill-color);\n",
              "    height: 32px;\n",
              "    padding: 0;\n",
              "    width: 32px;\n",
              "  }\n",
              "\n",
              "  .colab-df-quickchart:hover {\n",
              "    background-color: var(--hover-bg-color);\n",
              "    box-shadow: 0 1px 2px rgba(60, 64, 67, 0.3), 0 1px 3px 1px rgba(60, 64, 67, 0.15);\n",
              "    fill: var(--button-hover-fill-color);\n",
              "  }\n",
              "\n",
              "  .colab-df-quickchart-complete:disabled,\n",
              "  .colab-df-quickchart-complete:disabled:hover {\n",
              "    background-color: var(--disabled-bg-color);\n",
              "    fill: var(--disabled-fill-color);\n",
              "    box-shadow: none;\n",
              "  }\n",
              "\n",
              "  .colab-df-spinner {\n",
              "    border: 2px solid var(--fill-color);\n",
              "    border-color: transparent;\n",
              "    border-bottom-color: var(--fill-color);\n",
              "    animation:\n",
              "      spin 1s steps(1) infinite;\n",
              "  }\n",
              "\n",
              "  @keyframes spin {\n",
              "    0% {\n",
              "      border-color: transparent;\n",
              "      border-bottom-color: var(--fill-color);\n",
              "      border-left-color: var(--fill-color);\n",
              "    }\n",
              "    20% {\n",
              "      border-color: transparent;\n",
              "      border-left-color: var(--fill-color);\n",
              "      border-top-color: var(--fill-color);\n",
              "    }\n",
              "    30% {\n",
              "      border-color: transparent;\n",
              "      border-left-color: var(--fill-color);\n",
              "      border-top-color: var(--fill-color);\n",
              "      border-right-color: var(--fill-color);\n",
              "    }\n",
              "    40% {\n",
              "      border-color: transparent;\n",
              "      border-right-color: var(--fill-color);\n",
              "      border-top-color: var(--fill-color);\n",
              "    }\n",
              "    60% {\n",
              "      border-color: transparent;\n",
              "      border-right-color: var(--fill-color);\n",
              "    }\n",
              "    80% {\n",
              "      border-color: transparent;\n",
              "      border-right-color: var(--fill-color);\n",
              "      border-bottom-color: var(--fill-color);\n",
              "    }\n",
              "    90% {\n",
              "      border-color: transparent;\n",
              "      border-bottom-color: var(--fill-color);\n",
              "    }\n",
              "  }\n",
              "</style>\n",
              "\n",
              "  <script>\n",
              "    async function quickchart(key) {\n",
              "      const quickchartButtonEl =\n",
              "        document.querySelector('#' + key + ' button');\n",
              "      quickchartButtonEl.disabled = true;  // To prevent multiple clicks.\n",
              "      quickchartButtonEl.classList.add('colab-df-spinner');\n",
              "      try {\n",
              "        const charts = await google.colab.kernel.invokeFunction(\n",
              "            'suggestCharts', [key], {});\n",
              "      } catch (error) {\n",
              "        console.error('Error during call to suggestCharts:', error);\n",
              "      }\n",
              "      quickchartButtonEl.classList.remove('colab-df-spinner');\n",
              "      quickchartButtonEl.classList.add('colab-df-quickchart-complete');\n",
              "    }\n",
              "    (() => {\n",
              "      let quickchartButtonEl =\n",
              "        document.querySelector('#df-bec003b5-bee6-465b-9206-64cfe8076e9b button');\n",
              "      quickchartButtonEl.style.display =\n",
              "        google.colab.kernel.accessAllowed ? 'block' : 'none';\n",
              "    })();\n",
              "  </script>\n",
              "</div>\n",
              "\n",
              "  <div id=\"id_48857d15-c223-4e90-8edd-e8957834979e\">\n",
              "    <style>\n",
              "      .colab-df-generate {\n",
              "        background-color: #E8F0FE;\n",
              "        border: none;\n",
              "        border-radius: 50%;\n",
              "        cursor: pointer;\n",
              "        display: none;\n",
              "        fill: #1967D2;\n",
              "        height: 32px;\n",
              "        padding: 0 0 0 0;\n",
              "        width: 32px;\n",
              "      }\n",
              "\n",
              "      .colab-df-generate:hover {\n",
              "        background-color: #E2EBFA;\n",
              "        box-shadow: 0px 1px 2px rgba(60, 64, 67, 0.3), 0px 1px 3px 1px rgba(60, 64, 67, 0.15);\n",
              "        fill: #174EA6;\n",
              "      }\n",
              "\n",
              "      [theme=dark] .colab-df-generate {\n",
              "        background-color: #3B4455;\n",
              "        fill: #D2E3FC;\n",
              "      }\n",
              "\n",
              "      [theme=dark] .colab-df-generate:hover {\n",
              "        background-color: #434B5C;\n",
              "        box-shadow: 0px 1px 3px 1px rgba(0, 0, 0, 0.15);\n",
              "        filter: drop-shadow(0px 1px 2px rgba(0, 0, 0, 0.3));\n",
              "        fill: #FFFFFF;\n",
              "      }\n",
              "    </style>\n",
              "    <button class=\"colab-df-generate\" onclick=\"generateWithVariable('temp_df')\"\n",
              "            title=\"Generate code using this dataframe.\"\n",
              "            style=\"display:none;\">\n",
              "\n",
              "  <svg xmlns=\"http://www.w3.org/2000/svg\" height=\"24px\"viewBox=\"0 0 24 24\"\n",
              "       width=\"24px\">\n",
              "    <path d=\"M7,19H8.4L18.45,9,17,7.55,7,17.6ZM5,21V16.75L18.45,3.32a2,2,0,0,1,2.83,0l1.4,1.43a1.91,1.91,0,0,1,.58,1.4,1.91,1.91,0,0,1-.58,1.4L9.25,21ZM18.45,9,17,7.55Zm-12,3A5.31,5.31,0,0,0,4.9,8.1,5.31,5.31,0,0,0,1,6.5,5.31,5.31,0,0,0,4.9,4.9,5.31,5.31,0,0,0,6.5,1,5.31,5.31,0,0,0,8.1,4.9,5.31,5.31,0,0,0,12,6.5,5.46,5.46,0,0,0,6.5,12Z\"/>\n",
              "  </svg>\n",
              "    </button>\n",
              "    <script>\n",
              "      (() => {\n",
              "      const buttonEl =\n",
              "        document.querySelector('#id_48857d15-c223-4e90-8edd-e8957834979e button.colab-df-generate');\n",
              "      buttonEl.style.display =\n",
              "        google.colab.kernel.accessAllowed ? 'block' : 'none';\n",
              "\n",
              "      buttonEl.onclick = () => {\n",
              "        google.colab.notebook.generateWithVariable('temp_df');\n",
              "      }\n",
              "      })();\n",
              "    </script>\n",
              "  </div>\n",
              "\n",
              "    </div>\n",
              "  </div>\n"
            ],
            "application/vnd.google.colaboratory.intrinsic+json": {
              "type": "dataframe",
              "variable_name": "temp_df"
            }
          },
          "metadata": {},
          "execution_count": 71
        }
      ]
    },
    {
      "cell_type": "code",
      "source": [],
      "metadata": {
        "id": "t2Bbe54FmZHb"
      },
      "execution_count": null,
      "outputs": []
    },
    {
      "cell_type": "markdown",
      "source": [
        "# Mutual Information Gain"
      ],
      "metadata": {
        "id": "FppwkgHypK3v"
      }
    },
    {
      "cell_type": "code",
      "source": [
        "X=temp_df.iloc[:,1:]\n",
        "y=temp_df['semantic similarity']"
      ],
      "metadata": {
        "id": "brxyrms8pjBD"
      },
      "execution_count": null,
      "outputs": []
    },
    {
      "cell_type": "code",
      "source": [
        "X_train,X_test,y_train,y_test=train_test_split(X,y,test_size=0.2,random_state=1)"
      ],
      "metadata": {
        "id": "52xg8xaXpKWj"
      },
      "execution_count": null,
      "outputs": []
    },
    {
      "cell_type": "code",
      "source": [
        "from sklearn.feature_selection import mutual_info_classif"
      ],
      "metadata": {
        "id": "8cJeU0eRp6NZ"
      },
      "execution_count": null,
      "outputs": []
    },
    {
      "cell_type": "code",
      "source": [
        "# determining the mutual information\n",
        "mutual_info=mutual_info_classif(X_train,y_train)\n",
        "mutual_info"
      ],
      "metadata": {
        "colab": {
          "base_uri": "https://localhost:8080/"
        },
        "id": "6VyieaRDsDzk",
        "outputId": "ff4a934d-ad0c-4d63-db53-8af580847f17"
      },
      "execution_count": null,
      "outputs": [
        {
          "output_type": "execute_result",
          "data": {
            "text/plain": [
              "array([0.58533166, 0.        , 0.01078237, 0.        , 0.        ,\n",
              "       0.19773396, 0.03441976, 0.26575623, 0.2536537 , 0.28331248,\n",
              "       0.10316444, 0.1562036 , 0.26642603, 0.30279656, 0.03700988,\n",
              "       0.05849513, 0.06242034, 0.11972006, 0.3458764 , 0.38583255])"
            ]
          },
          "metadata": {},
          "execution_count": 311
        }
      ]
    },
    {
      "cell_type": "code",
      "source": [
        "mutual_info=pd.Series(mutual_info)\n",
        "mutual_info.index=X_train.columns\n",
        "mutual_info"
      ],
      "metadata": {
        "colab": {
          "base_uri": "https://localhost:8080/"
        },
        "id": "7bVm8FgusRaf",
        "outputId": "b9ca8284-bce7-44d9-90db-85b11a380704"
      },
      "execution_count": null,
      "outputs": [
        {
          "output_type": "execute_result",
          "data": {
            "text/plain": [
              "cos_sim               0.585332\n",
              "comp1-len             0.000000\n",
              "comp2-len             0.010782\n",
              "comp1_num_words       0.000000\n",
              "comp2-num-words       0.000000\n",
              "common_words          0.197734\n",
              "total_words           0.034420\n",
              "word_share            0.265756\n",
              "cwc_min               0.253654\n",
              "cwc_max               0.283312\n",
              "csc_min               0.103164\n",
              "csc_max               0.156204\n",
              "ctc_min               0.266426\n",
              "ctc_max               0.302797\n",
              "last_word_eq          0.037010\n",
              "first_word_eq         0.058495\n",
              "fuzz_ratio            0.062420\n",
              "fuzz_partial_ratio    0.119720\n",
              "token_sort_ratio      0.345876\n",
              "token_set_ratio       0.385833\n",
              "dtype: float64"
            ]
          },
          "metadata": {},
          "execution_count": 312
        }
      ]
    },
    {
      "cell_type": "code",
      "source": [
        "mutual_info=mutual_info.sort_values(ascending=False)\n",
        "mutual_info"
      ],
      "metadata": {
        "colab": {
          "base_uri": "https://localhost:8080/"
        },
        "id": "UkrcIdkvsqVM",
        "outputId": "5119f21a-b42a-4392-d7bf-2b1329f94efd"
      },
      "execution_count": null,
      "outputs": [
        {
          "output_type": "execute_result",
          "data": {
            "text/plain": [
              "cos_sim               0.585332\n",
              "token_set_ratio       0.385833\n",
              "token_sort_ratio      0.345876\n",
              "ctc_max               0.302797\n",
              "cwc_max               0.283312\n",
              "ctc_min               0.266426\n",
              "word_share            0.265756\n",
              "cwc_min               0.253654\n",
              "common_words          0.197734\n",
              "csc_max               0.156204\n",
              "fuzz_partial_ratio    0.119720\n",
              "csc_min               0.103164\n",
              "fuzz_ratio            0.062420\n",
              "first_word_eq         0.058495\n",
              "last_word_eq          0.037010\n",
              "total_words           0.034420\n",
              "comp2-len             0.010782\n",
              "comp1_num_words       0.000000\n",
              "comp1-len             0.000000\n",
              "comp2-num-words       0.000000\n",
              "dtype: float64"
            ]
          },
          "metadata": {},
          "execution_count": 313
        }
      ]
    },
    {
      "cell_type": "code",
      "source": [
        "cols=mutual_info.index\n",
        "cols"
      ],
      "metadata": {
        "id": "z0Wh-NvVszXV",
        "colab": {
          "base_uri": "https://localhost:8080/"
        },
        "outputId": "e323cf9b-ba70-4a81-a5ad-9a3010c607be"
      },
      "execution_count": null,
      "outputs": [
        {
          "output_type": "execute_result",
          "data": {
            "text/plain": [
              "Index(['cos_sim', 'token_set_ratio', 'token_sort_ratio', 'ctc_max', 'cwc_max',\n",
              "       'ctc_min', 'word_share', 'cwc_min', 'common_words', 'csc_max',\n",
              "       'fuzz_partial_ratio', 'csc_min', 'fuzz_ratio', 'first_word_eq',\n",
              "       'last_word_eq', 'total_words', 'comp2-len', 'comp1_num_words',\n",
              "       'comp1-len', 'comp2-num-words'],\n",
              "      dtype='object')"
            ]
          },
          "metadata": {},
          "execution_count": 314
        }
      ]
    },
    {
      "cell_type": "code",
      "source": [
        "cols=cols[0:3]\n",
        "cols\n"
      ],
      "metadata": {
        "colab": {
          "base_uri": "https://localhost:8080/"
        },
        "id": "02uLyv0x0Z5a",
        "outputId": "33691344-0b26-498a-bfc3-1aac080df96e"
      },
      "execution_count": null,
      "outputs": [
        {
          "output_type": "execute_result",
          "data": {
            "text/plain": [
              "Index(['cos_sim', 'token_set_ratio', 'token_sort_ratio'], dtype='object')"
            ]
          },
          "metadata": {},
          "execution_count": 315
        }
      ]
    },
    {
      "cell_type": "code",
      "source": [
        "X=temp_df[cols]\n",
        "X=np.asarray(X)\n",
        "# X=X.reshape(-1,1)\n",
        "y=temp_df['semantic similarity']"
      ],
      "metadata": {
        "id": "pPKIB31GttUY"
      },
      "execution_count": null,
      "outputs": []
    },
    {
      "cell_type": "code",
      "source": [
        "X"
      ],
      "metadata": {
        "id": "7mngj4dFuVkJ",
        "colab": {
          "base_uri": "https://localhost:8080/"
        },
        "outputId": "ff93c1ec-db78-43d4-8c17-86bc245bdce7"
      },
      "execution_count": null,
      "outputs": [
        {
          "output_type": "execute_result",
          "data": {
            "text/plain": [
              "array([[ 0.71044099, 81.        , 79.        ],\n",
              "       [ 0.31935358, 45.        , 40.        ],\n",
              "       [ 0.67891967, 52.        , 46.        ],\n",
              "       ...,\n",
              "       [ 0.62261647, 60.        , 50.        ],\n",
              "       [ 0.69872773, 65.        , 59.        ],\n",
              "       [ 0.82232386, 69.        , 13.        ]])"
            ]
          },
          "metadata": {},
          "execution_count": 317
        }
      ]
    },
    {
      "cell_type": "code",
      "source": [
        "X_train,X_test,y_train,y_test=train_test_split(X,y,test_size=0.2,random_state=1)\n"
      ],
      "metadata": {
        "id": "lOV2UkwYyJJy"
      },
      "execution_count": null,
      "outputs": []
    },
    {
      "cell_type": "code",
      "source": [],
      "metadata": {
        "id": "P2-BDhy6CnQN"
      },
      "execution_count": null,
      "outputs": []
    },
    {
      "cell_type": "code",
      "source": [
        "clf=RandomForestClassifier(n_estimators=50,max_depth=None,min_samples_leaf= 1, min_samples_split=10,random_state=42)\n",
        "clf.fit(X_train,y_train)\n",
        "y_pred=clf.predict(X_test)\n",
        "accuracy=accuracy_score(y_test,y_pred)"
      ],
      "metadata": {
        "id": "5Epdc5A4uIiy"
      },
      "execution_count": null,
      "outputs": []
    },
    {
      "cell_type": "code",
      "source": [
        "accuracy"
      ],
      "metadata": {
        "colab": {
          "base_uri": "https://localhost:8080/"
        },
        "id": "VtyYZPdvuxfT",
        "outputId": "0378ce3e-9db8-42a2-f2cc-4b6f5e94d44c"
      },
      "execution_count": null,
      "outputs": [
        {
          "output_type": "execute_result",
          "data": {
            "text/plain": [
              "0.9195979899497487"
            ]
          },
          "metadata": {},
          "execution_count": 325
        }
      ]
    },
    {
      "cell_type": "code",
      "source": [
        "train_sizes, train_scores, test_scores = learning_curve(clf, X, y, cv=5, train_sizes=np.linspace(0.1, 1.0, 10))\n",
        "\n",
        "train_scores_mean = np.mean(train_scores, axis=1)\n",
        "test_scores_mean = np.mean(test_scores, axis=1)\n",
        "\n",
        "plt.figure()\n",
        "plt.plot(train_sizes, train_scores_mean, label='Training score')\n",
        "plt.plot(train_sizes, test_scores_mean, label='Cross-validation score')\n",
        "plt.title('Learning Curves')\n",
        "plt.xlabel('Training examples')\n",
        "plt.ylabel('Score')\n",
        "plt.legend(loc='best')\n",
        "plt.show()\n"
      ],
      "metadata": {
        "colab": {
          "base_uri": "https://localhost:8080/",
          "height": 472
        },
        "id": "6Pms3asyuylC",
        "outputId": "9484f81c-5bd5-4988-d371-1d15d1a83844"
      },
      "execution_count": null,
      "outputs": [
        {
          "output_type": "display_data",
          "data": {
            "text/plain": [
              "<Figure size 640x480 with 1 Axes>"
            ],
            "image/png": "[encoded data removed]"
          },
          "metadata": {}
        }
      ]
    },
    {
      "cell_type": "code",
      "source": [
        "train_sizes"
      ],
      "metadata": {
        "colab": {
          "base_uri": "https://localhost:8080/"
        },
        "id": "c_O3RvjG4ABN",
        "outputId": "fac50750-c6e6-4f79-ba7f-a27ffdc335ba"
      },
      "execution_count": null,
      "outputs": [
        {
          "output_type": "execute_result",
          "data": {
            "text/plain": [
              "array([ 79, 158, 237, 317, 396, 475, 555, 634, 713, 793])"
            ]
          },
          "metadata": {},
          "execution_count": 87
        }
      ]
    },
    {
      "cell_type": "code",
      "source": [
        "train_scores"
      ],
      "metadata": {
        "colab": {
          "base_uri": "https://localhost:8080/"
        },
        "id": "ZNRA6m67y3p_",
        "outputId": "7baad978-064b-430a-bf5f-7d32b7339dc6"
      },
      "execution_count": null,
      "outputs": [
        {
          "output_type": "execute_result",
          "data": {
            "text/plain": [
              "array([[1.        , 1.        , 1.        , 1.        , 1.        ],\n",
              "       [1.        , 1.        , 1.        , 1.        , 1.        ],\n",
              "       [1.        , 1.        , 1.        , 1.        , 1.        ],\n",
              "       [1.        , 1.        , 1.        , 1.        , 1.        ],\n",
              "       [0.98989899, 0.99242424, 0.99242424, 0.99242424, 0.99242424],\n",
              "       [0.99368421, 0.99157895, 0.99157895, 0.99157895, 0.99157895],\n",
              "       [0.98918919, 0.98558559, 0.98738739, 0.98738739, 0.98738739],\n",
              "       [0.9873817 , 0.98580442, 0.9873817 , 0.98422713, 0.98895899],\n",
              "       [0.98316971, 0.98316971, 0.98176718, 0.98316971, 0.98457223],\n",
              "       [0.98360656, 0.98360656, 0.98234552, 0.98612863, 0.98612863]])"
            ]
          },
          "metadata": {},
          "execution_count": 88
        }
      ]
    },
    {
      "cell_type": "code",
      "source": [],
      "metadata": {
        "id": "9N-veRjWzNje"
      },
      "execution_count": null,
      "outputs": []
    },
    {
      "cell_type": "code",
      "source": [
        "from sklearn.model_selection import GridSearchCV\n",
        "\n",
        "\n",
        "param_grid = {\n",
        "    'n_estimators': [30,40,50,60],\n",
        "    'max_depth': [None, 10, 20, 30,],\n",
        "    'min_samples_split': [2, 5, 10],\n",
        "    'min_samples_leaf': [1, 2, 4]\n",
        "}\n",
        "\n",
        "\n",
        "clf = RandomForestClassifier(random_state=42)\n",
        "\n",
        "\n",
        "grid_search = GridSearchCV(estimator=clf, param_grid=param_grid, cv=5, scoring='accuracy', n_jobs=-1)\n",
        "grid_search.fit(X_train, y_train)\n",
        "\n",
        "\n",
        "print(\"Best parameters found: \", grid_search.best_params_)\n"
      ],
      "metadata": {
        "colab": {
          "base_uri": "https://localhost:8080/"
        },
        "id": "VmERsR7BzzRW",
        "outputId": "0d9a9879-d532-4c14-ea93-bc9e1216d9c7"
      },
      "execution_count": null,
      "outputs": [
        {
          "output_type": "stream",
          "name": "stderr",
          "text": [
            "/usr/local/lib/python3.10/dist-packages/joblib/externals/loky/backend/fork_exec.py:38: RuntimeWarning: os.fork() was called. os.fork() is incompatible with multithreaded code, and JAX is multithreaded, so this will likely lead to a deadlock.\n",
            "  pid = os.fork()\n"
          ]
        },
        {
          "output_type": "stream",
          "name": "stdout",
          "text": [
            "Best parameters found:  {'max_depth': None, 'min_samples_leaf': 1, 'min_samples_split': 10, 'n_estimators': 50}\n"
          ]
        }
      ]
    },
    {
      "cell_type": "code",
      "source": [
        "grid_search.best_score_"
      ],
      "metadata": {
        "id": "FL79HWdA6Pf9",
        "colab": {
          "base_uri": "https://localhost:8080/"
        },
        "outputId": "83cc13b5-617d-4a60-ebbd-729b3c387510"
      },
      "execution_count": null,
      "outputs": [
        {
          "output_type": "execute_result",
          "data": {
            "text/plain": [
              "0.9672239471379667"
            ]
          },
          "metadata": {},
          "execution_count": 323
        }
      ]
    },
    {
      "cell_type": "code",
      "source": [
        "from sklearn.metrics import confusion_matrix, precision_score, recall_score\n",
        "cm = confusion_matrix(y_test, y_pred)\n",
        "print(\"Confusion Matrix:\\n\", cm)\n",
        "\n",
        "# Precision\n",
        "precision = precision_score(y_test, y_pred)\n",
        "print(\"Precision:\", precision)\n",
        "\n",
        "# Recall\n",
        "recall = recall_score(y_test, y_pred)\n",
        "print(\"Recall:\", recall)"
      ],
      "metadata": {
        "colab": {
          "base_uri": "https://localhost:8080/"
        },
        "id": "JaVwSST97B27",
        "outputId": "0081dd8b-959a-4184-c543-909c6c070633"
      },
      "execution_count": null,
      "outputs": [
        {
          "output_type": "stream",
          "name": "stdout",
          "text": [
            "Confusion Matrix:\n",
            " [[91 11]\n",
            " [ 5 92]]\n",
            "Precision: 0.8932038834951457\n",
            "Recall: 0.9484536082474226\n"
          ]
        }
      ]
    },
    {
      "cell_type": "markdown",
      "source": [
        "# Query point creator"
      ],
      "metadata": {
        "id": "DOHo-KZXAa-j"
      }
    },
    {
      "cell_type": "code",
      "source": [
        "def query_point(comp1,comp2):\n",
        "  STOP_WORDS=stopwords.words('english')\n",
        "  SAFE_DIV=0.0001\n",
        "  comp1_tokens=comp1.lower().strip().split(\" \")\n",
        "  comp2_tokens=comp2.lower().strip().split(\" \")\n",
        "\n",
        "  comp1_processed=remove_stopwords(preprocessing(comp1))\n",
        "  comp2_processed=remove_stopwords(preprocessing(comp2))\n",
        "\n",
        "  emb1=model.encode(comp1_processed,convert_to_tensor=True)\n",
        "  emb2=model.encode(comp2_processed,convert_to_tensor=True)\n",
        "\n",
        "  cos_sim=util.cos_sim(emb1,emb2)[0,0]\n",
        "  # cos_sim=model.similarity(emb1, emb2)[0,0]\n",
        "\n",
        "  # token_set_ratio\n",
        "  token_set_ratio=fuzz.token_set_ratio(comp1,comp2)\n",
        "  # token_sort_ratio\n",
        "  token_sort_ratio=fuzz.token_sort_ratio(comp1,comp2)\n",
        "\n",
        "\n",
        "  comp1_words = set([word for word in comp1_tokens if word not in STOP_WORDS])\n",
        "  comp2_words = set([word for word in comp1_tokens if word not in STOP_WORDS])\n",
        "\n",
        "  comp1_stops = set([word for word in comp1_tokens if word in STOP_WORDS])\n",
        "  comp2_stops = set([word for word in comp2_tokens if word in STOP_WORDS])\n",
        "\n",
        "  common_word_count = len(comp1_words.intersection(comp2_words))\n",
        "\n",
        "\n",
        "  common_stop_count = len(comp1_stops.intersection(comp2_stops))\n",
        "\n",
        "  common_token_count = len(set(comp1_tokens).intersection(set(comp2_tokens)))\n",
        "\n",
        "# ctc_max\n",
        "  ctc_max= common_token_count / (max(len(comp1_tokens), len(comp2_tokens)) + SAFE_DIV)\n",
        "#ctc_min\n",
        "  ctc_min= common_token_count / (min(len(comp1_tokens), len(comp2_tokens)) + SAFE_DIV)\n",
        "\n",
        "  # cwc_max\n",
        "  cwc_max=  common_word_count / (max(len(comp1_words), len(comp2_words)) + SAFE_DIV)\n",
        " #cwc_min\n",
        "  cwc_min= common_word_count / (min(len(comp1_words), len(comp2_words)) + SAFE_DIV)\n",
        "\n",
        "  # csc_max\n",
        "  csc_max=common_stop_count / (max(len(comp1_stops), len(comp2_stops)) + SAFE_DIV)\n",
        "\n",
        "\n",
        "  # word_share\n",
        "  w1=set(comp1_tokens)\n",
        "  w2=set(comp2_tokens)\n",
        "  common_words=len(w1&w2)\n",
        "\n",
        "  total_words=len(w1)+len(w2)\n",
        "  word_share = round(common_words/total_words,2)\n",
        "\n",
        "\n",
        "  return cos_sim,token_set_ratio,token_sort_ratio,ctc_max,word_share,ctc_min,cwc_max,cwc_min,common_words,csc_max\n"
      ],
      "metadata": {
        "id": "dK7J4QT6AZIK"
      },
      "execution_count": null,
      "outputs": []
    },
    {
      "cell_type": "code",
      "execution_count": null,
      "metadata": {
        "id": "a3cf2612"
      },
      "outputs": [],
      "source": [
        "sen1='I am frustrated with the sluggish internet connection from your company'\n",
        "sen2=\"I find your company's slow internet connection to be annoying.\"\n"
      ]
    },
    {
      "cell_type": "code",
      "source": [
        "sen1=\"The service took much longer than expected. I had to wait for over an hour, which was quite frustrating as I had other commitments. This kind of delay is unacceptable and needs to be addressed.\"\n",
        "sen2=\"I was really disappointed with the delay; the service should have been quicker. I spent an excessive amount of time waiting, which disrupted my schedule. Improvements in efficiency are clearly needed.\""
      ],
      "metadata": {
        "id": "Gb9UCKlRNelN"
      },
      "execution_count": null,
      "outputs": []
    },
    {
      "cell_type": "code",
      "source": [],
      "metadata": {
        "id": "2l-gemGrz6K7"
      },
      "execution_count": null,
      "outputs": []
    },
    {
      "cell_type": "code",
      "source": [],
      "metadata": {
        "id": "BHFYdGiwuLXi"
      },
      "execution_count": null,
      "outputs": []
    },
    {
      "cell_type": "code",
      "source": [
        "sen1='Water in the second floor is finishing too quickly'\n",
        "sen2=\" Quality of the water in the second floor is not good\"\n",
        "# sen2='ther is no enough water in the second floor'"
      ],
      "metadata": {
        "id": "heJd3NlDM1rS"
      },
      "execution_count": null,
      "outputs": []
    },
    {
      "cell_type": "code",
      "source": [
        "# sen1='The library is always too crowded, making it difficult to find a quiet place to study.'\n",
        "sen2='In library,Many of the books I need are often checked out or unavailable.'\n",
        "sen1=\"Books in the library are outdated and they are not releated with our syallbus\"\n"
      ],
      "metadata": {
        "id": "yaJPfoi4yK3O"
      },
      "execution_count": null,
      "outputs": []
    },
    {
      "cell_type": "code",
      "source": [
        "sen1='officers are not responding quickly'\n",
        "sen2='There are not enough officer to server the citizens'"
      ],
      "metadata": {
        "id": "anO4EikDzW7a"
      },
      "execution_count": null,
      "outputs": []
    },
    {
      "cell_type": "code",
      "source": [
        "sen1='water is not clean'\n",
        "sen2='water is finishing quickly'"
      ],
      "metadata": {
        "id": "jaJpJM85LheR"
      },
      "execution_count": null,
      "outputs": []
    },
    {
      "cell_type": "code",
      "source": [
        "\n",
        "query=query_point(sen1,sen2)[0:3]"
      ],
      "metadata": {
        "id": "BLORPv3FAZEi"
      },
      "execution_count": null,
      "outputs": []
    },
    {
      "cell_type": "code",
      "source": [
        "query"
      ],
      "metadata": {
        "colab": {
          "base_uri": "https://localhost:8080/"
        },
        "id": "YBVHLAtG7wHl",
        "outputId": "30493702-8396-49a4-b016-95e5898724c4"
      },
      "execution_count": null,
      "outputs": [
        {
          "output_type": "execute_result",
          "data": {
            "text/plain": [
              "(tensor(0.7603, device='cuda:0'), 72, 67)"
            ]
          },
          "metadata": {},
          "execution_count": 335
        }
      ]
    },
    {
      "cell_type": "code",
      "source": [
        "cos_sim=query[0].cpu()\n",
        "token_set_ratio=query[1]\n",
        "token_sort_ratio=query[2]\n",
        "\n",
        "token_sort_ratio"
      ],
      "metadata": {
        "colab": {
          "base_uri": "https://localhost:8080/"
        },
        "id": "2rQwiToBwxmG",
        "outputId": "aa813d8b-98dd-4a98-9533-8a52861aa8ba"
      },
      "execution_count": null,
      "outputs": [
        {
          "output_type": "execute_result",
          "data": {
            "text/plain": [
              "50"
            ]
          },
          "metadata": {},
          "execution_count": 352
        }
      ]
    },
    {
      "cell_type": "code",
      "source": [
        "query=np.array([cos_sim,token_set_ratio,token_sort_ratio])\n",
        "# query=np.array([0.67,90,80])\n",
        "\n",
        "query=query.reshape(1,-1)"
      ],
      "metadata": {
        "id": "Vp3XIe8IAY-E"
      },
      "execution_count": null,
      "outputs": []
    },
    {
      "cell_type": "code",
      "source": [
        "query"
      ],
      "metadata": {
        "id": "Qck28mArfWPz",
        "colab": {
          "base_uri": "https://localhost:8080/"
        },
        "outputId": "94511bcb-e48e-49e7-f949-b4b3dbdc26d5"
      },
      "execution_count": null,
      "outputs": [
        {
          "output_type": "execute_result",
          "data": {
            "text/plain": [
              "array([[ 0.47136655, 62.        , 50.        ]])"
            ]
          },
          "metadata": {},
          "execution_count": 354
        }
      ]
    },
    {
      "cell_type": "code",
      "source": [
        "clf.predict(query)[0]\n",
        "\n"
      ],
      "metadata": {
        "colab": {
          "base_uri": "https://localhost:8080/"
        },
        "id": "qvBXUv5p_xO5",
        "outputId": "ac7314eb-eb48-4781-edb4-d04619ddea57"
      },
      "execution_count": null,
      "outputs": [
        {
          "output_type": "execute_result",
          "data": {
            "text/plain": [
              "0"
            ]
          },
          "metadata": {},
          "execution_count": 355
        }
      ]
    },
    {
      "cell_type": "code",
      "source": [
        "query"
      ],
      "metadata": {
        "colab": {
          "base_uri": "https://localhost:8080/"
        },
        "id": "cCfnJPT1O8QD",
        "outputId": "86260c52-9499-4e09-c0f0-a0dfa567876c"
      },
      "execution_count": null,
      "outputs": [
        {
          "output_type": "execute_result",
          "data": {
            "text/plain": [
              "array([[0.76026595]], dtype=float32)"
            ]
          },
          "metadata": {},
          "execution_count": 81
        }
      ]
    },
    {
      "cell_type": "code",
      "source": [
        "sen1=remove_stopwords(preprocessing(sen1))\n",
        "sen2=remove_stopwords(preprocessing(sen2))\n"
      ],
      "metadata": {
        "id": "XTfFENAxaxBO"
      },
      "execution_count": null,
      "outputs": []
    },
    {
      "cell_type": "code",
      "source": [
        "emb1=model1.encode(sen1)\n",
        "emb2=model1.encode(sen2)"
      ],
      "metadata": {
        "id": "CDRu2XvqLJCa"
      },
      "execution_count": null,
      "outputs": []
    },
    {
      "cell_type": "code",
      "source": [
        "cos_sim=util.cos_sim(emb1,emb2)"
      ],
      "metadata": {
        "id": "cOD17z-2LWgB"
      },
      "execution_count": null,
      "outputs": []
    },
    {
      "cell_type": "code",
      "source": [
        "cos_sim"
      ],
      "metadata": {
        "id": "T17QsSncZt5L"
      },
      "execution_count": null,
      "outputs": []
    },
    {
      "cell_type": "code",
      "source": [
        "import pickle"
      ],
      "metadata": {
        "id": "W_WuVgu1Zxmu"
      },
      "execution_count": null,
      "outputs": []
    },
    {
      "cell_type": "code",
      "source": [
        "model.save('Transformer')"
      ],
      "metadata": {
        "id": "sya9DFBl942R"
      },
      "execution_count": null,
      "outputs": []
    },
    {
      "cell_type": "code",
      "source": [
        "import shutil\n",
        "import os\n",
        "\n",
        "# Replace 'your_folder' with your actual folder name\n",
        "source = '/content/Transformer'\n",
        "destination = '/content/drive/MyDrive/Transformer'\n",
        "\n",
        "# If the destination folder already exists, remove it first\n",
        "if os.path.exists(destination):\n",
        "    shutil.rmtree(destination)\n",
        "\n",
        "shutil.copytree(source, destination)\n"
      ],
      "metadata": {
        "id": "NNqy0cLAE5_M",
        "colab": {
          "base_uri": "https://localhost:8080/",
          "height": 36
        },
        "outputId": "439eddf4-2afd-41c5-deea-41416c230cdc"
      },
      "execution_count": null,
      "outputs": [
        {
          "output_type": "execute_result",
          "data": {
            "text/plain": [
              "'/content/drive/MyDrive/Transformer'"
            ],
            "application/vnd.google.colaboratory.intrinsic+json": {
              "type": "string"
            }
          },
          "metadata": {},
          "execution_count": 86
        }
      ]
    },
    {
      "cell_type": "code",
      "source": [
        "import pickle\n",
        "\n",
        "model_filename = 'semantic_classifier.pkl'\n",
        "with open(model_filename, 'wb') as file:\n",
        "    pickle.dump(clf, file)\n"
      ],
      "metadata": {
        "id": "bakbTGE590pD"
      },
      "execution_count": null,
      "outputs": []
    },
    {
      "cell_type": "code",
      "source": [
        "import pickle\n",
        "\n",
        "# Load the model with the specified filename\n",
        "model_filename = '/content/semantic_classifier.pkl'\n",
        "with open(model_filename, 'rb') as file:\n",
        "    loaded_clf = pickle.load(file)\n"
      ],
      "metadata": {
        "id": "EFBtkQIJg7qj"
      },
      "execution_count": null,
      "outputs": []
    },
    {
      "cell_type": "code",
      "source": [],
      "metadata": {
        "id": "FX13kN77NMTH",
        "colab": {
          "base_uri": "https://localhost:8080/"
        },
        "outputId": "055311db-a7d9-4e7b-9bd0-c7828beab6f9"
      },
      "execution_count": null,
      "outputs": [
        {
          "output_type": "stream",
          "name": "stdout",
          "text": [
            "1.3.2\n"
          ]
        }
      ]
    },
    {
      "cell_type": "code",
      "source": [],
      "metadata": {
        "id": "1eR5PsbXo2VE"
      },
      "execution_count": null,
      "outputs": []
    },
    {
      "cell_type": "code",
      "source": [],
      "metadata": {
        "id": "ujKOXOuJRUUG"
      },
      "execution_count": null,
      "outputs": []
    },
    {
      "cell_type": "code",
      "source": [],
      "metadata": {
        "colab": {
          "base_uri": "https://localhost:8080/",
          "height": 36
        },
        "id": "uGQdE7XIRjkx",
        "outputId": "4a40450c-2be8-4b72-afa3-dd58e19bb5e9"
      },
      "execution_count": null,
      "outputs": [
        {
          "output_type": "execute_result",
          "data": {
            "text/plain": [
              "'so'"
            ],
            "application/vnd.google.colaboratory.intrinsic+json": {
              "type": "string"
            }
          },
          "metadata": {},
          "execution_count": 11
        }
      ]
    },
    {
      "cell_type": "code",
      "source": [],
      "metadata": {
        "id": "0FpURwrbRxnj"
      },
      "execution_count": null,
      "outputs": []
    }
  ]
}